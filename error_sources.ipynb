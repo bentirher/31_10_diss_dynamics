{
 "cells": [
  {
   "cell_type": "markdown",
   "metadata": {},
   "source": [
    "# Study of the error sources"
   ]
  },
  {
   "cell_type": "markdown",
   "metadata": {},
   "source": [
    "## Shot noise\n"
   ]
  },
  {
   "cell_type": "markdown",
   "metadata": {},
   "source": [
    "It refers to the statistical noise or fluctuations that arise when measuring the outcomes of quantum circuits executed on quantum hardware. Shot noise specifically describes the variability in the results due to the finite number of measurements (or shots) taken, which is a form of statistical uncertainty. Since, quantum measurements are inherently probabilistic, repeated measurements of a quantum state will yield a distribution rather than a deterministic output, thereby leading in some variability in the observed counts of each possible outcome. This variability is shot noise, a type of sampling noise.\n"
   ]
  },
  {
   "cell_type": "markdown",
   "metadata": {},
   "source": [
    "Let's see this error by fixing all parameters and changing the number of `default_shots` specified in `EstimatorOptions`."
   ]
  },
  {
   "cell_type": "code",
   "execution_count": null,
   "metadata": {},
   "outputs": [
    {
     "name": "stdout",
     "output_type": "stream",
     "text": [
      "shots = 100 finished!\n"
     ]
    },
    {
     "name": "stderr",
     "output_type": "stream",
     "text": [
      "c:\\Users\\Benjamin\\iCloudDrive\\PhD\\Quantum Computing\\dissipative dynamics\\main_functions\\efficient_qiskit_solver_markovian_CHAIN.py:117: SyntaxWarning: invalid escape sequence '\\P'\n",
      "  \"\"\"\n"
     ]
    },
    {
     "ename": "KeyboardInterrupt",
     "evalue": "",
     "output_type": "error",
     "traceback": [
      "\u001b[1;31m---------------------------------------------------------------------------\u001b[0m",
      "\u001b[1;31mKeyboardInterrupt\u001b[0m                         Traceback (most recent call last)",
      "Cell \u001b[1;32mIn[6], line 33\u001b[0m\n\u001b[0;32m     29\u001b[0m \u001b[38;5;28;01mfor\u001b[39;00m s \u001b[38;5;129;01min\u001b[39;00m shots:\n\u001b[0;32m     31\u001b[0m     options \u001b[38;5;241m=\u001b[39m {\u001b[38;5;124m'\u001b[39m\u001b[38;5;124mdefault_shots\u001b[39m\u001b[38;5;124m'\u001b[39m : s}\n\u001b[1;32m---> 33\u001b[0m     evs_qc \u001b[38;5;241m=\u001b[39m \u001b[43mmarkovian_qiskit_solver\u001b[49m\u001b[43m(\u001b[49m\u001b[43mn\u001b[49m\u001b[43m,\u001b[49m\u001b[43m \u001b[49m\u001b[43momega_m\u001b[49m\u001b[43m,\u001b[49m\u001b[43m \u001b[49m\u001b[43momega_c\u001b[49m\u001b[43m,\u001b[49m\u001b[43m \u001b[49m\u001b[43mgamma\u001b[49m\u001b[43m,\u001b[49m\u001b[43m \u001b[49m\u001b[43mg\u001b[49m\u001b[43m,\u001b[49m\u001b[43m \u001b[49m\u001b[43mkappa\u001b[49m\u001b[43m,\u001b[49m\u001b[43m \u001b[49m\u001b[43mt\u001b[49m\u001b[43m,\u001b[49m\u001b[43m \u001b[49m\u001b[43mr\u001b[49m\u001b[43m,\u001b[49m\u001b[43m \u001b[49m\u001b[43minitial_state\u001b[49m\u001b[43m,\u001b[49m\u001b[43m \u001b[49m\u001b[43mbackend\u001b[49m\u001b[43m,\u001b[49m\u001b[43m \u001b[49m\u001b[43moptimization_level\u001b[49m\u001b[43m,\u001b[49m\u001b[43m \u001b[49m\u001b[43moptions\u001b[49m\u001b[43m)\u001b[49m\n\u001b[0;32m     34\u001b[0m     results\u001b[38;5;241m.\u001b[39mappend(evs_qc[\u001b[38;5;124m'\u001b[39m\u001b[38;5;124m0\u001b[39m\u001b[38;5;124m'\u001b[39m])\n\u001b[0;32m     35\u001b[0m     \u001b[38;5;28mprint\u001b[39m(\u001b[38;5;124mf\u001b[39m\u001b[38;5;124m'\u001b[39m\u001b[38;5;124mshots = \u001b[39m\u001b[38;5;132;01m{\u001b[39;00ms\u001b[38;5;132;01m}\u001b[39;00m\u001b[38;5;124m finished!\u001b[39m\u001b[38;5;124m'\u001b[39m)\n",
      "File \u001b[1;32mc:\\Users\\Benjamin\\iCloudDrive\\PhD\\Quantum Computing\\dissipative dynamics\\main_functions\\efficient_qiskit_solver_markovian_CHAIN.py:74\u001b[0m, in \u001b[0;36mmarkovian_qiskit_solver\u001b[1;34m(n, omega_m, omega_c, gamma, g, kappa, t, r, initial_state, backend, optimization_level, options)\u001b[0m\n\u001b[0;32m     21\u001b[0m \u001b[38;5;250m\u001b[39m\u001b[38;5;124;03m\"\"\"\u001b[39;00m\n\u001b[0;32m     22\u001b[0m \u001b[38;5;124;03mComputes the time evolution of the population of all basis states (computational and coupled)\u001b[39;00m\n\u001b[0;32m     23\u001b[0m \u001b[38;5;124;03munder free evolution, decay and pairwise interaction.\u001b[39;00m\n\u001b[1;32m   (...)\u001b[0m\n\u001b[0;32m     67\u001b[0m \n\u001b[0;32m     68\u001b[0m \u001b[38;5;124;03m\"\"\"\u001b[39;00m\n\u001b[0;32m     70\u001b[0m qc \u001b[38;5;241m=\u001b[39m create_markovian_circuit(n \u001b[38;5;241m=\u001b[39m n, omega_m \u001b[38;5;241m=\u001b[39m omega_m, omega_c \u001b[38;5;241m=\u001b[39m omega_c,\n\u001b[0;32m     71\u001b[0m                                 g \u001b[38;5;241m=\u001b[39m g, gamma \u001b[38;5;241m=\u001b[39m gamma, kappa \u001b[38;5;241m=\u001b[39m kappa,\n\u001b[0;32m     72\u001b[0m                                 initial_state \u001b[38;5;241m=\u001b[39m initial_state, r \u001b[38;5;241m=\u001b[39m r)\n\u001b[1;32m---> 74\u001b[0m evs \u001b[38;5;241m=\u001b[39m \u001b[43mefficient_ev_calculator\u001b[49m\u001b[43m(\u001b[49m\u001b[43mn\u001b[49m\u001b[43m \u001b[49m\u001b[38;5;241;43m=\u001b[39;49m\u001b[43m \u001b[49m\u001b[43mn\u001b[49m\u001b[43m,\u001b[49m\n\u001b[0;32m     75\u001b[0m \u001b[43m                                   \u001b[49m\u001b[43mqc\u001b[49m\u001b[43m \u001b[49m\u001b[38;5;241;43m=\u001b[39;49m\u001b[43m \u001b[49m\u001b[43mqc\u001b[49m\u001b[43m,\u001b[49m\n\u001b[0;32m     76\u001b[0m \u001b[43m                                   \u001b[49m\u001b[43mt\u001b[49m\u001b[43m \u001b[49m\u001b[38;5;241;43m=\u001b[39;49m\u001b[43m \u001b[49m\u001b[43mt\u001b[49m\u001b[43m,\u001b[49m\n\u001b[0;32m     77\u001b[0m \u001b[43m                                   \u001b[49m\u001b[43mbackend\u001b[49m\u001b[43m \u001b[49m\u001b[38;5;241;43m=\u001b[39;49m\u001b[43m \u001b[49m\u001b[43mbackend\u001b[49m\u001b[43m,\u001b[49m\n\u001b[0;32m     78\u001b[0m \u001b[43m                                   \u001b[49m\u001b[43moptimization_level\u001b[49m\u001b[43m \u001b[49m\u001b[38;5;241;43m=\u001b[39;49m\u001b[43m \u001b[49m\u001b[43moptimization_level\u001b[49m\u001b[43m,\u001b[49m\n\u001b[0;32m     79\u001b[0m \u001b[43m                                   \u001b[49m\u001b[43moptions\u001b[49m\u001b[43m \u001b[49m\u001b[38;5;241;43m=\u001b[39;49m\u001b[43m \u001b[49m\u001b[43moptions\u001b[49m\u001b[43m)\u001b[49m\n\u001b[0;32m     81\u001b[0m \u001b[38;5;28;01mreturn\u001b[39;00m evs\n",
      "File \u001b[1;32mc:\\Users\\Benjamin\\iCloudDrive\\PhD\\Quantum Computing\\dissipative dynamics\\main_functions\\efficient_qiskit_solver_markovian_CHAIN.py:110\u001b[0m, in \u001b[0;36mefficient_ev_calculator\u001b[1;34m(n, qc, t, backend, optimization_level, options)\u001b[0m\n\u001b[0;32m    106\u001b[0m evs \u001b[38;5;241m=\u001b[39m {}\n\u001b[0;32m    108\u001b[0m \u001b[38;5;28;01mfor\u001b[39;00m key \u001b[38;5;129;01min\u001b[39;00m observables\u001b[38;5;241m.\u001b[39mkeys():\n\u001b[1;32m--> 110\u001b[0m     evs[key] \u001b[38;5;241m=\u001b[39m \u001b[43mjob\u001b[49m\u001b[38;5;241;43m.\u001b[39;49m\u001b[43mresult\u001b[49m\u001b[43m(\u001b[49m\u001b[43m)\u001b[49m[\u001b[38;5;241m0\u001b[39m]\u001b[38;5;241m.\u001b[39mdata\u001b[38;5;241m.\u001b[39mevs[\u001b[38;5;28mint\u001b[39m(key)]\n\u001b[0;32m    112\u001b[0m \u001b[38;5;28;01mreturn\u001b[39;00m evs\n",
      "File \u001b[1;32mc:\\Users\\Benjamin\\AppData\\Local\\Programs\\Python\\Python312\\Lib\\site-packages\\qiskit\\primitives\\primitive_job.py:51\u001b[0m, in \u001b[0;36mPrimitiveJob.result\u001b[1;34m(self)\u001b[0m\n\u001b[0;32m     49\u001b[0m \u001b[38;5;28;01mdef\u001b[39;00m \u001b[38;5;21mresult\u001b[39m(\u001b[38;5;28mself\u001b[39m) \u001b[38;5;241m-\u001b[39m\u001b[38;5;241m>\u001b[39m ResultT:\n\u001b[0;32m     50\u001b[0m     \u001b[38;5;28mself\u001b[39m\u001b[38;5;241m.\u001b[39m_check_submitted()\n\u001b[1;32m---> 51\u001b[0m     \u001b[38;5;28;01mreturn\u001b[39;00m \u001b[38;5;28;43mself\u001b[39;49m\u001b[38;5;241;43m.\u001b[39;49m\u001b[43m_future\u001b[49m\u001b[38;5;241;43m.\u001b[39;49m\u001b[43mresult\u001b[49m\u001b[43m(\u001b[49m\u001b[43m)\u001b[49m\n",
      "File \u001b[1;32mc:\\Users\\Benjamin\\AppData\\Local\\Programs\\Python\\Python312\\Lib\\concurrent\\futures\\_base.py:451\u001b[0m, in \u001b[0;36mFuture.result\u001b[1;34m(self, timeout)\u001b[0m\n\u001b[0;32m    448\u001b[0m \u001b[38;5;28;01melif\u001b[39;00m \u001b[38;5;28mself\u001b[39m\u001b[38;5;241m.\u001b[39m_state \u001b[38;5;241m==\u001b[39m FINISHED:\n\u001b[0;32m    449\u001b[0m     \u001b[38;5;28;01mreturn\u001b[39;00m \u001b[38;5;28mself\u001b[39m\u001b[38;5;241m.\u001b[39m__get_result()\n\u001b[1;32m--> 451\u001b[0m \u001b[38;5;28;43mself\u001b[39;49m\u001b[38;5;241;43m.\u001b[39;49m\u001b[43m_condition\u001b[49m\u001b[38;5;241;43m.\u001b[39;49m\u001b[43mwait\u001b[49m\u001b[43m(\u001b[49m\u001b[43mtimeout\u001b[49m\u001b[43m)\u001b[49m\n\u001b[0;32m    453\u001b[0m \u001b[38;5;28;01mif\u001b[39;00m \u001b[38;5;28mself\u001b[39m\u001b[38;5;241m.\u001b[39m_state \u001b[38;5;129;01min\u001b[39;00m [CANCELLED, CANCELLED_AND_NOTIFIED]:\n\u001b[0;32m    454\u001b[0m     \u001b[38;5;28;01mraise\u001b[39;00m CancelledError()\n",
      "File \u001b[1;32mc:\\Users\\Benjamin\\AppData\\Local\\Programs\\Python\\Python312\\Lib\\threading.py:355\u001b[0m, in \u001b[0;36mCondition.wait\u001b[1;34m(self, timeout)\u001b[0m\n\u001b[0;32m    353\u001b[0m \u001b[38;5;28;01mtry\u001b[39;00m:    \u001b[38;5;66;03m# restore state no matter what (e.g., KeyboardInterrupt)\u001b[39;00m\n\u001b[0;32m    354\u001b[0m     \u001b[38;5;28;01mif\u001b[39;00m timeout \u001b[38;5;129;01mis\u001b[39;00m \u001b[38;5;28;01mNone\u001b[39;00m:\n\u001b[1;32m--> 355\u001b[0m         \u001b[43mwaiter\u001b[49m\u001b[38;5;241;43m.\u001b[39;49m\u001b[43macquire\u001b[49m\u001b[43m(\u001b[49m\u001b[43m)\u001b[49m\n\u001b[0;32m    356\u001b[0m         gotit \u001b[38;5;241m=\u001b[39m \u001b[38;5;28;01mTrue\u001b[39;00m\n\u001b[0;32m    357\u001b[0m     \u001b[38;5;28;01melse\u001b[39;00m:\n",
      "\u001b[1;31mKeyboardInterrupt\u001b[0m: "
     ]
    }
   ],
   "source": [
    "from main_functions.ME_solver import solve_master_equation\n",
    "from main_functions.original_circuit import get_circuit\n",
    "from main_functions.estimator_solver import estimator_solver\n",
    "from qiskit_aer import AerSimulator\n",
    "import numpy as np\n",
    "\n",
    "omega_c = 1.1\n",
    "n = 2\n",
    "kappa = [0.2]\n",
    "omega_m = [1.1]*n\n",
    "g = [0.01]*(2*(n-1))\n",
    "gamma = [0.8*(10**-6)]*n\n",
    "initial_state = [0]*(2**n)\n",
    "initial_state[-1] = 1\n",
    "\n",
    "t = np.linspace(0, 750, 250)\n",
    "\n",
    "backend = AerSimulator()\n",
    "optimization_level = 0\n",
    "\n",
    "qc_populations = {}\n",
    "qutip_populations = {}\n",
    "r = 9\n",
    "\n",
    "shots = [10**2, 10**3, 10**4, 10**5, 10**6]\n",
    "\n",
    "results = []\n",
    "results.append(t)\n",
    "\n",
    "for s in shots:\n",
    "\n",
    "    options = {'default_shots' : s}\n",
    "\n",
    "    qc = get_circuit(n, omega_m, omega_c, g, gamma, kappa, initial_state, r)\n",
    "    evs_qc = estimator_solver(qc, n, t, backend, optimization_level, options)\n",
    "    results.append(evs_qc['0'])\n",
    "    print(f'shots = {s} finished!')\n",
    "\n",
    "evs_qutip = solve_master_equation(n, omega_m, omega_c, gamma, kappa, g, t, initial_state, 'markovian')\n",
    "results.append(evs_qutip['0'])\n",
    "\n",
    "np.savetxt('data/shots_comparison_9_trotter.txt', np.column_stack(results), delimiter = ' ', header = 't s=10**2 s=10**3 s=10**4 s=10**5 s=10**6 qutip')"
   ]
  },
  {
   "cell_type": "code",
   "execution_count": 17,
   "metadata": {},
   "outputs": [
    {
     "data": {
      "image/png": "[encoded data removed]",
      "text/plain": [
       "<Figure size 640x480 with 1 Axes>"
      ]
     },
     "metadata": {},
     "output_type": "display_data"
    }
   ],
   "source": [
    "from utils.generate_complementary_colors import generate_complementary_colors\n",
    "import numpy as np \n",
    "import matplotlib.pyplot as plt\n",
    "plt.rcParams['text.usetex'] = True\n",
    "plt.rcParams['figure.dpi'] = 100\n",
    "plt.rcParams['savefig.dpi'] = 600\n",
    "\n",
    "shots = [10**2, 10**3, 10**4, 10**5, 10**6]\n",
    "\n",
    "colors = generate_complementary_colors(len(shots), 'neon', 'hotpink')\n",
    "\n",
    "qutip = np.loadtxt('data/shots_comparison_5_trotter.txt', usecols = 5, skiprows = 1)\n",
    "plt.plot(t, qutip, color = 'darkgrey')\n",
    "\n",
    "tr = 0.3\n",
    "\n",
    "for i in range(len(shots)):\n",
    "\n",
    "    data = np.loadtxt('data/shots_comparison_5_trotter.txt', usecols = i, skiprows = 1)\n",
    "    plt.plot(t, data, color = colors[i], label = f'$10^{i+2}$', alpha = tr)\n",
    "    tr = tr + 0.15\n",
    "\n",
    "plt.plot(np.NaN, np.NaN, color = 'darkgrey', label = 'Exact solution')\n",
    "\n",
    "plt.ylabel('$\\\\log$(population)')\n",
    "plt.xlabel('time (arbitrary units)')\n",
    "plt.yscale('log')\n",
    "plt.legend(title = 'shots')\n",
    "plt.savefig('figures/shots_comparison.png')\n",
    "plt.show()\n"
   ]
  },
  {
   "cell_type": "markdown",
   "metadata": {},
   "source": [
    "## Trotter error of the Hamiltonian evolution."
   ]
  },
  {
   "cell_type": "markdown",
   "metadata": {},
   "source": [
    "Using the Baker-Campbell-Hausdorff formula,\n"
   ]
  },
  {
   "cell_type": "markdown",
   "metadata": {},
   "source": [
    "$$ \n",
    "\\begin{align}\n",
    "e^{-itA} e^{-itB} = e^{-it(A+B) - i \\frac{t^2}{2} [A,B] + i \\frac{t^3}{12} [A, [A,B]] - i \\frac{t^3}{12} [B, [A,B]]} + \\dots\n",
    "\\end{align}"
   ]
  },
  {
   "cell_type": "markdown",
   "metadata": {},
   "source": [
    "So approximating $e^{-it(A+B)} \\approx e^{-itA} e^{-itB}$ (i.e., truncating the expansion at first order) comes at the cost of introducing an error that can be upper bounded by taking the norm of the second term,"
   ]
  },
  {
   "cell_type": "markdown",
   "metadata": {},
   "source": [
    "$$\n",
    "\\begin{align}\n",
    "\\left| \\left| -i \\frac{t^2}{2} [A,B] \\right| \\right| = \\frac{t^2}{2} \\left|\\left| [A,B] \\right| \\right|\n",
    "\\end{align}"
   ]
  },
  {
   "cell_type": "markdown",
   "metadata": {},
   "source": [
    "In big $\\mathcal{O}$ notation,"
   ]
  },
  {
   "cell_type": "markdown",
   "metadata": {},
   "source": [
    "$$\n",
    "\\begin{align}\n",
    "e^{-it(A+B)} = e^{-itA} e^{-itB} + \\mathcal{O} \\left( \\frac{t^2}{2} \\left|\\left| [A,B] \\right| \\right| \\right)\n",
    "\\end{align}"
   ]
  },
  {
   "cell_type": "markdown",
   "metadata": {},
   "source": [
    "(the $\\frac{1}{2}$ is typically omitted in this notation). In the context of the Trotter decomposition, $t \\to t/r $, where $r$ is the number of Trotter steps, and"
   ]
  },
  {
   "cell_type": "markdown",
   "metadata": {},
   "source": [
    "$$\n",
    "\\begin{align}\n",
    "\\epsilon_{per step} \\sim \\frac{t^2}{2r^2} \\left|\\left| [A,B] \\right|\\right|\n",
    "\\end{align}"
   ]
  },
  {
   "cell_type": "markdown",
   "metadata": {},
   "source": [
    "For the two emitters case, $A = H_0$ and $B = H_I$ and "
   ]
  },
  {
   "cell_type": "markdown",
   "metadata": {},
   "source": [
    "$$\n",
    "\\begin{align}\n",
    "|| [H_0, H_I] || = \\tilde{g} | \\tilde{\\omega}_1 - \\tilde{\\omega}_2 | \\cdot \\left|\\left| \\sigma_0^{\\dag} \\sigma_1 - \\sigma_0 \\sigma_1^{\\dag} \\right|\\right| = \\sqrt{2} \\tilde{g} | \\tilde{\\delta} |\n",
    "\\end{align}"
   ]
  },
  {
   "cell_type": "markdown",
   "metadata": {},
   "source": [
    "with $\\tilde{\\delta} \\equiv \\tilde{\\omega}_1 - \\tilde{\\omega}_0$ the relative detuning between the emtiters. In the particular case $\\tilde{\\omega}_0 = \\tilde{\\omega_1}$, the commutator above vanishes, meaning that there is no Trotter error per step so we know that the partition $e^{-it(H_0 + H_I)} = e^{-iH_0t} e^{-iH_It}$ is exact."
   ]
  },
  {
   "cell_type": "markdown",
   "metadata": {},
   "source": [
    "We also need to Trotterize $H_I$ so now,"
   ]
  },
  {
   "cell_type": "markdown",
   "metadata": {},
   "source": [
    "$$\n",
    "\\begin{align}\n",
    "e^{-iH_I t} = e^{-i \\tilde{g} (\\sigma_0^{\\dag} \\sigma_1 + \\sigma_0 \\sigma_1^{\\dag})t} = e^{-i\\tilde{g}t \\sigma_0^{\\dag} \\sigma_1} e^{-i\\tilde{g}t \\sigma_0 \\sigma_1^{\\dag}} + \\mathcal{O} \\left( \\frac{t^2}{4r^2} \\left| \\left| \\left[ \\tilde{g} \\sigma_0^{\\dag} \\sigma_1, \\tilde{g} \\sigma_0 \\sigma_1^{\\dag} \\right] \\right| \\right|  \\right)\n",
    "\\end{align}"
   ]
  },
  {
   "cell_type": "markdown",
   "metadata": {},
   "source": [
    "Computing the commutator yields\n"
   ]
  },
  {
   "cell_type": "markdown",
   "metadata": {},
   "source": [
    "$$\n",
    "\\begin{align}\n",
    "\\left[ \\tilde{g} \\sigma_0^{\\dag} \\sigma_1, \\tilde{g} \\sigma_0 \\sigma_1^{\\dag} \\right] = \\tilde{g}^2 \\left[ \\left( \\mathbf{1}_0 + Z_0\\right)Z_1 + Z_0 \\left( \\mathbf{1}_1 + Z_1\\right) \\right] = \\tilde{g}^2 \\left( Z_0 + Z_1 + 2Z_0 Z_1\\right)\n",
    "\\end{align}"
   ]
  },
  {
   "cell_type": "markdown",
   "metadata": {},
   "source": [
    "The norm of the resulting matrix is $2\\sqrt{6}$, so"
   ]
  },
  {
   "cell_type": "markdown",
   "metadata": {},
   "source": [
    "$$\n",
    "\\begin{align}\n",
    "\\left|\\left| \\left[ \\tilde{g} \\sigma_0^{\\dag} \\sigma_1, \\tilde{g} \\sigma_0 \\sigma_1^{\\dag} \\right] \\right| \\right| \\approx 2\\sqrt{6} \\tilde{g}^2 \n",
    "\\end{align}"
   ]
  },
  {
   "cell_type": "markdown",
   "metadata": {},
   "source": [
    "And as a result"
   ]
  },
  {
   "cell_type": "markdown",
   "metadata": {},
   "source": [
    "$$\n",
    "\\begin{align}\n",
    "\\epsilon_{per step} \\sim \\frac{t^2}{2r^2} \\left|\\left| [A,B] \\right|\\right| \\approx 2\\sqrt{6} \\tilde{g}^2 \\left( \\frac{t}{2r}\\right)^2\n",
    "\\end{align}"
   ]
  },
  {
   "cell_type": "markdown",
   "metadata": {},
   "source": [
    "To sum up, the total Trotter error per step for the coherent evolution can be approximated as"
   ]
  },
  {
   "cell_type": "markdown",
   "metadata": {},
   "source": [
    "$$\n",
    "\\begin{align}\n",
    "\\epsilon_{trotter} = \\left( \\sqrt{2} \\tilde{g} | \\tilde{\\delta} | + 2\\sqrt{6} \\tilde{g}^2 \\right)\\left( \\frac{t}{2r}\\right)^2\n",
    "\\end{align}"
   ]
  },
  {
   "cell_type": "markdown",
   "metadata": {},
   "source": [
    "## Kraus implementation error"
   ]
  },
  {
   "cell_type": "markdown",
   "metadata": {},
   "source": [
    "First of all, recall that we are implementing a series of four quantum channels."
   ]
  },
  {
   "cell_type": "markdown",
   "metadata": {},
   "source": [
    "\\begin{align*}\n",
    "\\left| G \\right>_S \\otimes \\left|0 \\right>_E &\\to \\left| G \\right>_S \\otimes \\left|0 \\right>_E \\\\\n",
    "\\left| \\Lambda_+ \\right>_S \\otimes \\left|0 \\right>_E &\\to \\sqrt{1- p_{G+}} \\left| \\Lambda_+ \\right>_S \\otimes \\left|0 \\right>_E +  \\sqrt{p_{G+}} \\left| G \\right>_S \\otimes \\left|1 \\right>_E\n",
    "\\end{align*}"
   ]
  },
  {
   "cell_type": "markdown",
   "metadata": {},
   "source": [
    "\\begin{align*}\n",
    "\\left| \\Lambda_+ \\right>_S \\otimes \\left|0 \\right>_E &\\to \\left| \\Lambda_+  \\right>_S \\otimes \\left|0 \\right>_E \\\\\n",
    "\\left| E \\right>_S \\otimes \\left|0 \\right>_E &\\to \\sqrt{1- p_{+E}} \\left| E \\right>_S \\otimes \\left|0 \\right>_E +  \\sqrt{p_{+E}} \\left| \\Lambda_+ \\right>_S \\otimes \\left|1 \\right>_E\n",
    "\\end{align*}"
   ]
  },
  {
   "cell_type": "markdown",
   "metadata": {},
   "source": [
    "\\begin{align*}\n",
    "\\left| G \\right>_S \\otimes \\left|0 \\right>_E &\\to \\left| G \\right>_S \\otimes \\left|0 \\right>_E \\\\\n",
    "\\left| \\Lambda_- \\right>_S \\otimes \\left|0 \\right>_E &\\to \\sqrt{1- p_{G-}} \\left| \\Lambda_- \\right>_S \\otimes \\left|0 \\right>_E +  \\sqrt{p_{G-}} \\left| G \\right>_S \\otimes \\left|1 \\right>_E\n",
    "\\end{align*}"
   ]
  },
  {
   "cell_type": "markdown",
   "metadata": {},
   "source": [
    "\\begin{align*}\n",
    "\\left| \\Lambda_- \\right>_S \\otimes \\left|0 \\right>_E &\\to \\left| \\Lambda_-  \\right>_S \\otimes \\left|0 \\right>_E \\\\\n",
    "\\left| E \\right>_S \\otimes \\left|0 \\right>_E &\\to \\sqrt{1- p_{-E}} \\left| E \\right>_S \\otimes \\left|0 \\right>_E +  \\sqrt{p_{-E}} \\left| \\Lambda_- \\right>_S \\otimes \\left|1 \\right>_E\n",
    "\\end{align*}"
   ]
  },
  {
   "cell_type": "markdown",
   "metadata": {},
   "source": [
    "Using an ancilla register of size two to model the environment, we get the combined channel transformation equations."
   ]
  },
  {
   "cell_type": "markdown",
   "metadata": {},
   "source": [
    "\\begin{align*}\n",
    "\\left| G \\right>_S \\otimes \\left|00 \\right>_E &\\to \\left| G \\right>_S \\otimes \\left|0 \\right>_E \\\\\n",
    "\\left| \\Lambda_- \\right>_S \\otimes \\left|00 \\right>_E &\\to \\sqrt{1- p_{G-}} \\left| \\Lambda_- \\right>_S \\otimes \\left|00 \\right>_E +  \\sqrt{p_{G-}} \\left| G \\right>_S \\otimes \\left|01 \\right>_E \\\\\n",
    "\\left| \\Lambda_+ \\right>_S \\otimes \\left|00 \\right>_E &\\to \\sqrt{1- p_{G+}} \\left| \\Lambda_+ \\right>_S \\otimes \\left|00 \\right>_E +  \\sqrt{p_{G+}} \\left| G \\right>_S \\otimes \\left|10 \\right>_E \\\\\n",
    "\\left| E \\right>_S \\otimes \\left|00 \\right>_E &\\to \\sqrt{1- p_{-E}}\\sqrt{1- p_{+E}} \\left| E \\right>_S \\otimes \\left|00 \\right>_E +  \\sqrt{p_{+E}}\\sqrt{1- p_{-E}} \\left| \\Lambda_+ \\right>_S \\otimes \\left|01 \\right>_E +  \\sqrt{p_{-E}}\\sqrt{1- p_{+E}} \\left| \\Lambda_- \\right>_S \\otimes \\left|10 \\right>_E +  \\sqrt{p_{-E}}\\sqrt{p_{+E}} \\left| G \\right>_S \\otimes \\left|11 \\right>_E \n",
    "\\end{align*}"
   ]
  },
  {
   "cell_type": "markdown",
   "metadata": {},
   "source": [
    "This channel is CPTP and admits a Kraus decomposition (computed using the `get_kraus`function in `utils`)"
   ]
  },
  {
   "cell_type": "code",
   "execution_count": 1,
   "metadata": {},
   "outputs": [
    {
     "name": "stdout",
     "output_type": "stream",
     "text": [
      "The channel is CPTP\n"
     ]
    },
    {
     "data": {
      "text/latex": [
       "$\\displaystyle K_0 = \\left[\\begin{matrix}1 & 0 & 0 & 0\\\\0 & \\sqrt{1 - p_{-}} & 0 & 0\\\\0 & 0 & \\sqrt{1 - p_{+}} & 0\\\\0 & 0 & 0 & \\sqrt{1 - p_{+}} \\sqrt{1 - p_{-}}\\end{matrix}\\right]$"
      ],
      "text/plain": [
       "<IPython.core.display.Math object>"
      ]
     },
     "metadata": {},
     "output_type": "display_data"
    },
    {
     "data": {
      "text/latex": [
       "$\\displaystyle K_1 = \\left[\\begin{matrix}0 & \\sqrt{p_{-}} & 0 & 0\\\\0 & 0 & 0 & 0\\\\0 & 0 & 0 & \\sqrt{p_{+}} \\sqrt{1 - p_{-}}\\\\0 & 0 & 0 & 0\\end{matrix}\\right]$"
      ],
      "text/plain": [
       "<IPython.core.display.Math object>"
      ]
     },
     "metadata": {},
     "output_type": "display_data"
    },
    {
     "data": {
      "text/latex": [
       "$\\displaystyle K_2 = \\left[\\begin{matrix}0 & 0 & \\sqrt{p_{+}} & 0\\\\0 & 0 & 0 & \\sqrt{p_{-}} \\sqrt{1 - p_{+}}\\\\0 & 0 & 0 & 0\\\\0 & 0 & 0 & 0\\end{matrix}\\right]$"
      ],
      "text/plain": [
       "<IPython.core.display.Math object>"
      ]
     },
     "metadata": {},
     "output_type": "display_data"
    },
    {
     "data": {
      "text/latex": [
       "$\\displaystyle K_3 = \\left[\\begin{matrix}0 & 0 & 0 & \\sqrt{p_{+}} \\sqrt{p_{-}}\\\\0 & 0 & 0 & 0\\\\0 & 0 & 0 & 0\\\\0 & 0 & 0 & 0\\end{matrix}\\right]$"
      ],
      "text/plain": [
       "<IPython.core.display.Math object>"
      ]
     },
     "metadata": {},
     "output_type": "display_data"
    }
   ],
   "source": [
    "from utils.get_kraus_TEST import get_kraus\n",
    "from sympy import Matrix, Symbol, sqrt, latex\n",
    "from IPython.display import display, Math\n",
    "from sympy.physics.quantum import TensorProduct\n",
    "from sympy import init_printing\n",
    "init_printing()\n",
    "\n",
    "ancilla_dim = 4\n",
    "system_dim = 4\n",
    "\n",
    "p_plus = Symbol('p_{+}')\n",
    "p_minus = Symbol('p_{-}')\n",
    "\n",
    "# p_plus_e = Symbol('p_{+E}')\n",
    "# p_minus_e = Symbol('p_{-E}')\n",
    "# p_g_plus = Symbol('p_{G+}')\n",
    "# p_g_minus = Symbol('p_{G-}')\n",
    "\n",
    "p_plus_e = p_plus\n",
    "p_minus_e = p_minus\n",
    "p_g_plus = p_plus\n",
    "p_g_minus = p_minus\n",
    "\n",
    "ket_0 = Matrix([[1],[0]])\n",
    "ket_1 = Matrix([[0],[1]])\n",
    "\n",
    "ket_00 = TensorProduct(ket_0, ket_0)\n",
    "ket_01 = TensorProduct(ket_0, ket_1)\n",
    "ket_10 = TensorProduct(ket_1, ket_0)\n",
    "ket_11 = TensorProduct(ket_1, ket_1)\n",
    "\n",
    "first_prime = TensorProduct(ket_00, ket_00) \n",
    "second_prime = sqrt(1-p_g_minus)*TensorProduct(ket_01, ket_00) + sqrt(p_g_minus)*TensorProduct(ket_00, ket_01)\n",
    "third_prime = sqrt(1-p_g_plus)*TensorProduct(ket_10, ket_00) + sqrt(p_g_plus)*TensorProduct(ket_00, ket_10)\n",
    "fourth_prime = sqrt(1-p_plus_e)*sqrt(1-p_minus_e)*TensorProduct(ket_11, ket_00) + sqrt(1 - p_plus_e)*sqrt(p_minus_e)*TensorProduct(ket_01, ket_10) + sqrt(1 - p_minus_e)*sqrt(p_plus_e)*TensorProduct(ket_10, ket_01) +sqrt(p_minus_e)*sqrt(p_plus_e)*TensorProduct(ket_00, ket_11) \n",
    "\n",
    "transformed_kets = [first_prime, second_prime, third_prime, fourth_prime]\n",
    "basis = 'computational'\n",
    "\n",
    "kraus = get_kraus(transformed_kets, basis, system_dim, ancilla_dim, True)\n",
    "counter = 0\n",
    "for k in kraus:\n",
    "    eq_latex = f'K_{counter} = ' + latex(k)\n",
    "    display(Math(eq_latex))\n",
    "    counter = counter + 1"
   ]
  },
  {
   "cell_type": "code",
   "execution_count": 2,
   "metadata": {},
   "outputs": [
    {
     "name": "stdout",
     "output_type": "stream",
     "text": [
      "\\left[\\begin{matrix}1 & 0 & 0 & 0\\\\0 & \\sqrt{1 - p_{-}} & 0 & 0\\\\0 & 0 & \\sqrt{1 - p_{+}} & 0\\\\0 & 0 & 0 & \\sqrt{1 - p_{+}} \\sqrt{1 - p_{-}}\\end{matrix}\\right]\n",
      "\\left[\\begin{matrix}0 & \\sqrt{p_{-}} & 0 & 0\\\\0 & 0 & 0 & 0\\\\0 & 0 & 0 & \\sqrt{p_{+}} \\sqrt{1 - p_{-}}\\\\0 & 0 & 0 & 0\\end{matrix}\\right]\n",
      "\\left[\\begin{matrix}0 & 0 & \\sqrt{p_{+}} & 0\\\\0 & 0 & 0 & \\sqrt{p_{-}} \\sqrt{1 - p_{+}}\\\\0 & 0 & 0 & 0\\\\0 & 0 & 0 & 0\\end{matrix}\\right]\n",
      "\\left[\\begin{matrix}0 & 0 & 0 & \\sqrt{p_{+}} \\sqrt{p_{-}}\\\\0 & 0 & 0 & 0\\\\0 & 0 & 0 & 0\\\\0 & 0 & 0 & 0\\end{matrix}\\right]\n"
     ]
    }
   ],
   "source": [
    "from sympy import print_latex\n",
    "\n",
    "for k in kraus:\n",
    "    print_latex(k)"
   ]
  },
  {
   "cell_type": "markdown",
   "metadata": {},
   "source": [
    "Using these Kraus operators, we can compute the evolution of the density matrix under the effects of the quantum channel, after one application of the channel $t \\to t +\\Delta t$"
   ]
  },
  {
   "cell_type": "code",
   "execution_count": 9,
   "metadata": {},
   "outputs": [
    {
     "data": {
      "text/latex": [
       "$\\displaystyle \\rho_{Kraus}(t + \\Delta t) =\\left[\\begin{matrix}p_{+} p_{-} \\rho_{33}{\\left(0 \\right)} + p_{+} \\rho_{22}{\\left(0 \\right)} + p_{-} \\rho_{11}{\\left(0 \\right)} + \\rho_{00}{\\left(0 \\right)} & \\sqrt{p_{+}} \\sqrt{p_{-}} \\sqrt{1 - p_{+}} \\rho_{23}{\\left(0 \\right)} + \\sqrt{1 - p_{-}} \\rho_{01}{\\left(0 \\right)} & \\sqrt{p_{+}} \\sqrt{p_{-}} \\sqrt{1 - p_{-}} \\rho_{13}{\\left(0 \\right)} + \\sqrt{1 - p_{+}} \\rho_{02}{\\left(0 \\right)} & \\sqrt{1 - p_{+}} \\sqrt{1 - p_{-}} \\rho_{03}{\\left(0 \\right)}\\\\\\sqrt{p_{+}} \\sqrt{p_{-}} \\sqrt{1 - p_{+}} \\rho_{32}{\\left(0 \\right)} + \\sqrt{1 - p_{-}} \\rho_{10}{\\left(0 \\right)} & p_{-} \\left(1 - p_{+}\\right) \\rho_{33}{\\left(0 \\right)} + \\left(1 - p_{-}\\right) \\rho_{11}{\\left(0 \\right)} & \\sqrt{1 - p_{+}} \\sqrt{1 - p_{-}} \\rho_{12}{\\left(0 \\right)} & \\sqrt{1 - p_{+}} \\left(1 - p_{-}\\right) \\rho_{13}{\\left(0 \\right)}\\\\\\sqrt{p_{+}} \\sqrt{p_{-}} \\sqrt{1 - p_{-}} \\rho_{31}{\\left(0 \\right)} + \\sqrt{1 - p_{+}} \\rho_{20}{\\left(0 \\right)} & \\sqrt{1 - p_{+}} \\sqrt{1 - p_{-}} \\rho_{21}{\\left(0 \\right)} & p_{+} \\left(1 - p_{-}\\right) \\rho_{33}{\\left(0 \\right)} + \\left(1 - p_{+}\\right) \\rho_{22}{\\left(0 \\right)} & \\left(1 - p_{+}\\right) \\sqrt{1 - p_{-}} \\rho_{23}{\\left(0 \\right)}\\\\\\sqrt{1 - p_{+}} \\sqrt{1 - p_{-}} \\rho_{30}{\\left(0 \\right)} & \\sqrt{1 - p_{+}} \\left(1 - p_{-}\\right) \\rho_{31}{\\left(0 \\right)} & \\left(1 - p_{+}\\right) \\sqrt{1 - p_{-}} \\rho_{32}{\\left(0 \\right)} & \\left(1 - p_{+}\\right) \\left(1 - p_{-}\\right) \\rho_{33}{\\left(0 \\right)}\\end{matrix}\\right]$"
      ],
      "text/plain": [
       "<IPython.core.display.Math object>"
      ]
     },
     "metadata": {},
     "output_type": "display_data"
    }
   ],
   "source": [
    "from sympy import Function, Matrix\n",
    "import numpy as np\n",
    "\n",
    "symbol_data = []\n",
    "\n",
    "for i in range(4):\n",
    "    row = []\n",
    "\n",
    "    for j in range(4):\n",
    "        row.append(Function(f\"rho_{i}{j}\")(Symbol('0')))\n",
    "    \n",
    "    symbol_data.append(row)\n",
    "\n",
    "rho = Matrix(symbol_data)\n",
    "kraus_rho = kraus[0]*(rho*kraus[0].transpose()) + kraus[1]*(rho*kraus[1].transpose()) + kraus[2]*(rho*kraus[2].transpose()) + kraus[3]*(rho*kraus[3].transpose())\n",
    "\n",
    "eq_latex = r'\\rho_{Kraus}(t + \\Delta t) =' + latex(kraus_rho)\n",
    "display(Math(eq_latex))"
   ]
  },
  {
   "cell_type": "code",
   "execution_count": 10,
   "metadata": {},
   "outputs": [
    {
     "name": "stdout",
     "output_type": "stream",
     "text": [
      "\\left[\\begin{matrix}p_{+} p_{-} \\rho'_{33}{\\left(0 \\right)} + p_{+} \\rho'_{22}{\\left(0 \\right)} + p_{-} \\rho'_{11}{\\left(0 \\right)} + \\rho'_{00}{\\left(0 \\right)} & \\sqrt{p_{+}} \\sqrt{p_{-}} \\sqrt{1 - p_{+}} \\rho'_{23}{\\left(0 \\right)} + \\sqrt{1 - p_{-}} \\rho'_{01}{\\left(0 \\right)} & \\sqrt{p_{+}} \\sqrt{p_{-}} \\sqrt{1 - p_{-}} \\rho'_{13}{\\left(0 \\right)} + \\sqrt{1 - p_{+}} \\rho'_{02}{\\left(0 \\right)} & \\sqrt{1 - p_{+}} \\sqrt{1 - p_{-}} \\rho'_{03}{\\left(0 \\right)}\\\\\\sqrt{p_{+}} \\sqrt{p_{-}} \\sqrt{1 - p_{+}} \\rho'_{32}{\\left(0 \\right)} + \\sqrt{1 - p_{-}} \\rho'_{10}{\\left(0 \\right)} & p_{-} \\left(1 - p_{+}\\right) \\rho'_{33}{\\left(0 \\right)} + \\left(1 - p_{-}\\right) \\rho'_{11}{\\left(0 \\right)} & \\sqrt{1 - p_{+}} \\sqrt{1 - p_{-}} \\rho'_{12}{\\left(0 \\right)} & \\sqrt{1 - p_{+}} \\left(1 - p_{-}\\right) \\rho'_{13}{\\left(0 \\right)}\\\\\\sqrt{p_{+}} \\sqrt{p_{-}} \\sqrt{1 - p_{-}} \\rho'_{31}{\\left(0 \\right)} + \\sqrt{1 - p_{+}} \\rho'_{20}{\\left(0 \\right)} & \\sqrt{1 - p_{+}} \\sqrt{1 - p_{-}} \\rho'_{21}{\\left(0 \\right)} & p_{+} \\left(1 - p_{-}\\right) \\rho'_{33}{\\left(0 \\right)} + \\left(1 - p_{+}\\right) \\rho'_{22}{\\left(0 \\right)} & \\left(1 - p_{+}\\right) \\sqrt{1 - p_{-}} \\rho'_{23}{\\left(0 \\right)}\\\\\\sqrt{1 - p_{+}} \\sqrt{1 - p_{-}} \\rho'_{30}{\\left(0 \\right)} & \\sqrt{1 - p_{+}} \\left(1 - p_{-}\\right) \\rho'_{31}{\\left(0 \\right)} & \\left(1 - p_{+}\\right) \\sqrt{1 - p_{-}} \\rho'_{32}{\\left(0 \\right)} & \\left(1 - p_{+}\\right) \\left(1 - p_{-}\\right) \\rho'_{33}{\\left(0 \\right)}\\end{matrix}\\right]\n"
     ]
    }
   ],
   "source": [
    "from sympy.printing.latex import latex\n",
    "\n",
    "# Custom LaTeX rendering for functions\n",
    "def custom_latex(expr):\n",
    "    return latex(expr).replace(r'\\rho_', r\"\\rho'_\")\n",
    "\n",
    "print(custom_latex(kraus_rho))"
   ]
  },
  {
   "cell_type": "code",
   "execution_count": 13,
   "metadata": {},
   "outputs": [
    {
     "name": "stdout",
     "output_type": "stream",
     "text": [
      "\\left[\\begin{matrix}p_{+E} p_{-E} \\operatorname{rho'}_{33}{\\left(t \\right)} + p_{G+} \\operatorname{rho'}_{22}{\\left(t \\right)} + p_{G-} \\operatorname{rho'}_{11}{\\left(t \\right)} + \\operatorname{rho'}_{00}{\\left(t \\right)} & \\sqrt{p_{-E}} \\sqrt{p_{G+}} \\sqrt{1 - p_{+E}} \\operatorname{rho'}_{23}{\\left(t \\right)} + \\sqrt{1 - p_{G-}} \\operatorname{rho'}_{01}{\\left(t \\right)} & \\sqrt{p_{+E}} \\sqrt{p_{G-}} \\sqrt{1 - p_{-E}} \\operatorname{rho'}_{13}{\\left(t \\right)} + \\sqrt{1 - p_{G+}} \\operatorname{rho'}_{02}{\\left(t \\right)} & \\sqrt{1 - p_{+E}} \\sqrt{1 - p_{-E}} \\operatorname{rho'}_{03}{\\left(t \\right)}\\\\\\sqrt{p_{-E}} \\sqrt{p_{G+}} \\sqrt{1 - p_{+E}} \\operatorname{rho'}_{32}{\\left(t \\right)} + \\sqrt{1 - p_{G-}} \\operatorname{rho'}_{10}{\\left(t \\right)} & p_{-E} \\left(1 - p_{+E}\\right) \\operatorname{rho'}_{33}{\\left(t \\right)} + \\left(1 - p_{G-}\\right) \\operatorname{rho'}_{11}{\\left(t \\right)} & \\sqrt{1 - p_{G+}} \\sqrt{1 - p_{G-}} \\operatorname{rho'}_{12}{\\left(t \\right)} & \\sqrt{1 - p_{+E}} \\sqrt{1 - p_{-E}} \\sqrt{1 - p_{G-}} \\operatorname{rho'}_{13}{\\left(t \\right)}\\\\\\sqrt{p_{+E}} \\sqrt{p_{G-}} \\sqrt{1 - p_{-E}} \\operatorname{rho'}_{31}{\\left(t \\right)} + \\sqrt{1 - p_{G+}} \\operatorname{rho'}_{20}{\\left(t \\right)} & \\sqrt{1 - p_{G+}} \\sqrt{1 - p_{G-}} \\operatorname{rho'}_{21}{\\left(t \\right)} & p_{+E} \\left(1 - p_{-E}\\right) \\operatorname{rho'}_{33}{\\left(t \\right)} + \\left(1 - p_{G+}\\right) \\operatorname{rho'}_{22}{\\left(t \\right)} & \\sqrt{1 - p_{+E}} \\sqrt{1 - p_{-E}} \\sqrt{1 - p_{G+}} \\operatorname{rho'}_{23}{\\left(t \\right)}\\\\\\sqrt{1 - p_{+E}} \\sqrt{1 - p_{-E}} \\operatorname{rho'}_{30}{\\left(t \\right)} & \\sqrt{1 - p_{+E}} \\sqrt{1 - p_{-E}} \\sqrt{1 - p_{G-}} \\operatorname{rho'}_{31}{\\left(t \\right)} & \\sqrt{1 - p_{+E}} \\sqrt{1 - p_{-E}} \\sqrt{1 - p_{G+}} \\operatorname{rho'}_{32}{\\left(t \\right)} & \\left(1 - p_{+E}\\right) \\left(1 - p_{-E}\\right) \\operatorname{rho'}_{33}{\\left(t \\right)}\\end{matrix}\\right]\n"
     ]
    }
   ],
   "source": [
    "print_latex(kraus_rho)"
   ]
  },
  {
   "cell_type": "markdown",
   "metadata": {},
   "source": [
    "We can now compare this output density matrix with the one obtained evolving $\\rho$ under the (purely dissipative) Markovian Master equation, under the diagonal dissipators approximation (i.e., considering only the four diagonal dissipators in the coupled basis $\\mathcal{D}(\\sigma_{G+}), \\mathcal{D}(\\sigma_{G-}), \\mathcal{D}(\\sigma_{-E}), \\mathcal{D}(\\sigma_{+E})$)"
   ]
  },
  {
   "cell_type": "code",
   "execution_count": null,
   "metadata": {},
   "outputs": [
    {
     "data": {
      "text/latex": [
       "$\\displaystyle \\frac{d \\rho_{ME}}{dt} =\\left[\\begin{matrix}\\gamma_{+} \\rho_{22}{\\left(t \\right)} + \\gamma_{-} \\rho_{11}{\\left(t \\right)} & - 0.5 \\gamma_{-} \\rho_{01}{\\left(t \\right)} & - 0.5 \\gamma_{+} \\rho_{02}{\\left(t \\right)} & 0.5 \\left(- \\gamma_{+} - \\gamma_{-}\\right) \\rho_{03}{\\left(t \\right)}\\\\- 0.5 \\gamma_{-} \\rho_{10}{\\left(t \\right)} & \\gamma_{-} \\left(- 1.0 \\rho_{11}{\\left(t \\right)} + \\rho_{33}{\\left(t \\right)}\\right) & 0.5 \\left(- \\gamma_{+} - \\gamma_{-}\\right) \\rho_{12}{\\left(t \\right)} & \\left(- 0.5 \\gamma_{+} - 1.0 \\gamma_{-}\\right) \\rho_{13}{\\left(t \\right)}\\\\- 0.5 \\gamma_{+} \\rho_{20}{\\left(t \\right)} & 0.5 \\left(- \\gamma_{+} - \\gamma_{-}\\right) \\rho_{21}{\\left(t \\right)} & \\gamma_{+} \\left(- 1.0 \\rho_{22}{\\left(t \\right)} + \\rho_{33}{\\left(t \\right)}\\right) & \\left(- 1.0 \\gamma_{+} - 0.5 \\gamma_{-}\\right) \\rho_{23}{\\left(t \\right)}\\\\0.5 \\left(- \\gamma_{+} - \\gamma_{-}\\right) \\rho_{30}{\\left(t \\right)} & \\left(- 0.5 \\gamma_{+} - 1.0 \\gamma_{-}\\right) \\rho_{31}{\\left(t \\right)} & \\left(- 1.0 \\gamma_{+} - 0.5 \\gamma_{-}\\right) \\rho_{32}{\\left(t \\right)} & 1.0 \\left(- \\gamma_{+} - \\gamma_{-}\\right) \\rho_{33}{\\left(t \\right)}\\end{matrix}\\right]$"
      ],
      "text/plain": [
       "<IPython.core.display.Math object>"
      ]
     },
     "metadata": {},
     "output_type": "display_data"
    }
   ],
   "source": [
    "import sympy as sp\n",
    "\n",
    "# Coupled basis definition\n",
    "\n",
    "gr = Matrix([[1],[0],[0],[0]])\n",
    "lambda_minus = Matrix([[0],[1],[0],[0]])\n",
    "lambda_plus = Matrix([[0],[0],[1],[0]])\n",
    "e = Matrix([[0],[0],[0],[1]])\n",
    "\n",
    "# Operators definition\n",
    "\n",
    "sigma_gplus = gr*lambda_plus.transpose()\n",
    "sigma_gminus = gr*lambda_minus.transpose()\n",
    "sigma_pluse = lambda_plus*e.transpose()\n",
    "sigma_minuse = lambda_minus*e.transpose()\n",
    "\n",
    "# Decay constants\n",
    "\n",
    "gamma_plus = Symbol(r'\\gamma_{+}')\n",
    "gamma_minus = Symbol(r'\\gamma_{-}')\n",
    "\n",
    "# gamma_plus_e = Symbol(r'\\gamma_{+E}')\n",
    "# gamma_minus_e = Symbol(r'\\gamma_{-E}')\n",
    "# gamma_g_plus = Symbol(r'\\gamma_{G+}')\n",
    "# gamma_g_minus = Symbol(r'\\gamma_{G-}')\n",
    "# gamma_g_plus_plus_e = Symbol(r'\\gamma_{G+, +E}')\n",
    "# gamma_g_minus_minus_e = Symbol(r'\\gamma_{G-, -E}')\n",
    "\n",
    "gamma_plus_e = gamma_plus\n",
    "gamma_minus_e = gamma_minus\n",
    "gamma_g_plus = gamma_plus\n",
    "gamma_g_minus = gamma_minus\n",
    "gamma_g_plus_plus_e = gamma_plus\n",
    "gamma_g_minus_minus_e = gamma_minus\n",
    "\n",
    "\n",
    "# (Diagonal) Dissipators\n",
    "\n",
    "d_gplus = gamma_g_plus*(sigma_gplus*rho*sigma_gplus.transpose() - 0.5*(sigma_gplus.transpose()*sigma_gplus*rho + rho*sigma_gplus.transpose()*sigma_gplus))\n",
    "d_gminus = gamma_g_minus*(sigma_gminus*rho*sigma_gminus.transpose() - 0.5*(sigma_gminus.transpose()*sigma_gminus*rho + rho*sigma_gminus.transpose()*sigma_gminus))\n",
    "d_pluse = gamma_plus_e*(sigma_pluse*rho*sigma_pluse.transpose() - 0.5*(sigma_pluse.transpose()*sigma_pluse*rho + rho*sigma_pluse.transpose()*sigma_pluse))\n",
    "d_minuse = gamma_minus_e*(sigma_minuse*rho*sigma_minuse.transpose() - 0.5*(sigma_minuse.transpose()*sigma_minuse*rho + rho*sigma_minuse.transpose()*sigma_minuse))\n",
    "d_gplus_pluse = gamma_g_plus_plus_e*(sigma_gplus*rho*sigma_pluse.transpose() - 0.5*(sigma_pluse.transpose()*sigma_gplus*rho + rho*sigma_pluse.transpose()*sigma_gplus))\n",
    "d_pluse_gplus = gamma_g_plus_plus_e*(sigma_pluse*rho*sigma_gplus.transpose() - 0.5*(sigma_gplus.transpose()*sigma_pluse*rho + rho*sigma_gplus.transpose()*sigma_pluse))\n",
    "d_gminus_minuse = gamma_g_minus_minus_e*(sigma_gminus*rho*sigma_minuse.transpose() - 0.5*(sigma_minuse.transpose()*sigma_gminus*rho + rho*sigma_minuse.transpose()*sigma_gminus))\n",
    "d_minuse_gminus = gamma_g_minus_minus_e*(sigma_minuse*rho*sigma_gminus.transpose() - 0.5*(sigma_gminus.transpose()*sigma_minuse*rho + rho*sigma_gminus.transpose()*sigma_minuse))\n",
    "\n",
    "drho_dt = sp.simplify(d_gplus + d_gminus+ d_pluse + d_minuse) # + d_gplus_pluse + d_pluse_gplus + d_gminus_minuse + d_minuse_gminus)\n",
    "eq_latex = r'\\frac{d \\rho_{ME}}{dt} =' + latex(drho_dt)\n",
    "display(Math(eq_latex))"
   ]
  },
  {
   "cell_type": "code",
   "execution_count": 30,
   "metadata": {},
   "outputs": [
    {
     "name": "stdout",
     "output_type": "stream",
     "text": [
      "\\left[\\begin{matrix}\\gamma_{+} \\rho'_{22}{\\left(t \\right)} + \\gamma_{-} \\rho'_{11}{\\left(t \\right)} & - 0.5 \\gamma_{-} \\rho'_{01}{\\left(t \\right)} & - 0.5 \\gamma_{+} \\rho'_{02}{\\left(t \\right)} & 0.5 \\left(- \\gamma_{+} - \\gamma_{-}\\right) \\rho'_{03}{\\left(t \\right)}\\\\- 0.5 \\gamma_{-} \\rho'_{10}{\\left(t \\right)} & \\gamma_{-} \\left(- 1.0 \\rho'_{11}{\\left(t \\right)} + \\rho'_{33}{\\left(t \\right)}\\right) & 0.5 \\left(- \\gamma_{+} - \\gamma_{-}\\right) \\rho'_{12}{\\left(t \\right)} & \\left(- 0.5 \\gamma_{+} - 1.0 \\gamma_{-}\\right) \\rho'_{13}{\\left(t \\right)}\\\\- 0.5 \\gamma_{+} \\rho'_{20}{\\left(t \\right)} & 0.5 \\left(- \\gamma_{+} - \\gamma_{-}\\right) \\rho'_{21}{\\left(t \\right)} & \\gamma_{+} \\left(- 1.0 \\rho'_{22}{\\left(t \\right)} + \\rho'_{33}{\\left(t \\right)}\\right) & \\left(- 1.0 \\gamma_{+} - 0.5 \\gamma_{-}\\right) \\rho'_{23}{\\left(t \\right)}\\\\0.5 \\left(- \\gamma_{+} - \\gamma_{-}\\right) \\rho'_{30}{\\left(t \\right)} & \\left(- 0.5 \\gamma_{+} - 1.0 \\gamma_{-}\\right) \\rho'_{31}{\\left(t \\right)} & \\left(- 1.0 \\gamma_{+} - 0.5 \\gamma_{-}\\right) \\rho'_{32}{\\left(t \\right)} & 1.0 \\left(- \\gamma_{+} - \\gamma_{-}\\right) \\rho'_{33}{\\left(t \\right)}\\end{matrix}\\right]\n"
     ]
    }
   ],
   "source": [
    "print(custom_latex(drho_dt))"
   ]
  },
  {
   "cell_type": "code",
   "execution_count": 15,
   "metadata": {},
   "outputs": [
    {
     "name": "stdout",
     "output_type": "stream",
     "text": [
      "\\left[\\begin{matrix}\\gamma_{+} \\operatorname{rho'}_{22}{\\left(t \\right)} + \\gamma_{-} \\operatorname{rho'}_{11}{\\left(t \\right)} & \\gamma_{-} \\left(- 0.5 \\operatorname{rho'}_{01}{\\left(t \\right)} + \\operatorname{rho'}_{13}{\\left(t \\right)}\\right) & \\gamma_{+} \\left(- 0.5 \\operatorname{rho'}_{02}{\\left(t \\right)} + \\operatorname{rho'}_{23}{\\left(t \\right)}\\right) & 0.5 \\left(- \\gamma_{+} - \\gamma_{-}\\right) \\operatorname{rho'}_{03}{\\left(t \\right)}\\\\\\gamma_{-} \\left(- 0.5 \\operatorname{rho'}_{10}{\\left(t \\right)} + \\operatorname{rho'}_{31}{\\left(t \\right)}\\right) & \\gamma_{-} \\left(- 1.0 \\operatorname{rho'}_{11}{\\left(t \\right)} + \\operatorname{rho'}_{33}{\\left(t \\right)}\\right) & 0.5 \\left(- \\gamma_{+} - \\gamma_{-}\\right) \\operatorname{rho'}_{12}{\\left(t \\right)} & \\left(- 0.5 \\gamma_{+} - 1.0 \\gamma_{-}\\right) \\operatorname{rho'}_{13}{\\left(t \\right)}\\\\\\gamma_{+} \\left(- 0.5 \\operatorname{rho'}_{20}{\\left(t \\right)} + \\operatorname{rho'}_{32}{\\left(t \\right)}\\right) & 0.5 \\left(- \\gamma_{+} - \\gamma_{-}\\right) \\operatorname{rho'}_{21}{\\left(t \\right)} & \\gamma_{+} \\left(- 1.0 \\operatorname{rho'}_{22}{\\left(t \\right)} + \\operatorname{rho'}_{33}{\\left(t \\right)}\\right) & \\left(- 1.0 \\gamma_{+} - 0.5 \\gamma_{-}\\right) \\operatorname{rho'}_{23}{\\left(t \\right)}\\\\0.5 \\left(- \\gamma_{+} - \\gamma_{-}\\right) \\operatorname{rho'}_{30}{\\left(t \\right)} & \\left(- 0.5 \\gamma_{+} - 1.0 \\gamma_{-}\\right) \\operatorname{rho'}_{31}{\\left(t \\right)} & \\left(- 1.0 \\gamma_{+} - 0.5 \\gamma_{-}\\right) \\operatorname{rho'}_{32}{\\left(t \\right)} & 1.0 \\left(- \\gamma_{+} - \\gamma_{-}\\right) \\operatorname{rho'}_{33}{\\left(t \\right)}\\end{matrix}\\right]\n"
     ]
    }
   ],
   "source": [
    "print_latex(drho_dt)"
   ]
  },
  {
   "cell_type": "code",
   "execution_count": 10,
   "metadata": {},
   "outputs": [
    {
     "name": "stdout",
     "output_type": "stream",
     "text": [
      "\\left[\\begin{matrix}\\rho_{00}{\\left(t \\right)} & \\rho_{01}{\\left(t \\right)} & \\rho_{02}{\\left(t \\right)} & \\rho_{03}{\\left(t \\right)}\\\\\\rho_{10}{\\left(t \\right)} & \\rho_{11}{\\left(t \\right)} & \\rho_{12}{\\left(t \\right)} & \\rho_{13}{\\left(t \\right)}\\\\\\rho_{20}{\\left(t \\right)} & \\rho_{21}{\\left(t \\right)} & \\rho_{22}{\\left(t \\right)} & \\rho_{23}{\\left(t \\right)}\\\\\\rho_{30}{\\left(t \\right)} & \\rho_{31}{\\left(t \\right)} & \\rho_{32}{\\left(t \\right)} & \\rho_{33}{\\left(t \\right)}\\end{matrix}\\right]\n"
     ]
    }
   ],
   "source": [
    "print_latex(rho)"
   ]
  },
  {
   "cell_type": "markdown",
   "metadata": {},
   "source": [
    "Imagine now that we were applying both the ME and the quantum channel in small time steps, and consider the time evolution $t \\to t + \\Delta t$. In this context, we can approximate here $\\frac{d\\rho}{dt} \\approx \\frac{\\rho (t+\\Delta t) - \\rho (t)}{\\Delta t}$, allowing us to write the matrix equation above as"
   ]
  },
  {
   "cell_type": "code",
   "execution_count": 14,
   "metadata": {},
   "outputs": [
    {
     "data": {
      "text/latex": [
       "$\\displaystyle \\rho_{ME} (t + \\Delta t)=\\left[\\begin{matrix}\\Delta t \\left(\\gamma_{G+} \\rho_{22}{\\left(t \\right)} + \\gamma_{G-} \\rho_{11}{\\left(t \\right)}\\right) + \\rho_{00}{\\left(t \\right)} & \\Delta t \\left(\\gamma_{G-, -E} \\rho_{13}{\\left(t \\right)} - 0.5 \\gamma_{G-} \\rho_{01}{\\left(t \\right)}\\right) + \\rho_{01}{\\left(t \\right)} & \\Delta t \\left(\\gamma_{G+, +E} \\rho_{23}{\\left(t \\right)} - 0.5 \\gamma_{G+} \\rho_{02}{\\left(t \\right)}\\right) + \\rho_{02}{\\left(t \\right)} & - 0.5 \\Delta t \\left(\\gamma_{+E} + \\gamma_{-E}\\right) \\rho_{03}{\\left(t \\right)} + \\rho_{03}{\\left(t \\right)}\\\\\\Delta t \\left(\\gamma_{G-, -E} \\rho_{31}{\\left(t \\right)} - 0.5 \\gamma_{G-} \\rho_{10}{\\left(t \\right)}\\right) + \\rho_{10}{\\left(t \\right)} & \\Delta t \\left(\\gamma_{-E} \\rho_{33}{\\left(t \\right)} - 1.0 \\gamma_{G-} \\rho_{11}{\\left(t \\right)}\\right) + \\rho_{11}{\\left(t \\right)} & - 0.5 \\Delta t \\left(\\gamma_{G+} + \\gamma_{G-}\\right) \\rho_{12}{\\left(t \\right)} + \\rho_{12}{\\left(t \\right)} & - 0.5 \\Delta t \\left(\\gamma_{+E} + \\gamma_{-E} + \\gamma_{G-}\\right) \\rho_{13}{\\left(t \\right)} + \\rho_{13}{\\left(t \\right)}\\\\\\Delta t \\left(\\gamma_{G+, +E} \\rho_{32}{\\left(t \\right)} - 0.5 \\gamma_{G+} \\rho_{20}{\\left(t \\right)}\\right) + \\rho_{20}{\\left(t \\right)} & - 0.5 \\Delta t \\left(\\gamma_{G+} + \\gamma_{G-}\\right) \\rho_{21}{\\left(t \\right)} + \\rho_{21}{\\left(t \\right)} & \\Delta t \\left(\\gamma_{+E} \\rho_{33}{\\left(t \\right)} - 1.0 \\gamma_{G+} \\rho_{22}{\\left(t \\right)}\\right) + \\rho_{22}{\\left(t \\right)} & - 0.5 \\Delta t \\left(\\gamma_{+E} + \\gamma_{-E} + \\gamma_{G+}\\right) \\rho_{23}{\\left(t \\right)} + \\rho_{23}{\\left(t \\right)}\\\\- 0.5 \\Delta t \\left(\\gamma_{+E} + \\gamma_{-E}\\right) \\rho_{30}{\\left(t \\right)} + \\rho_{30}{\\left(t \\right)} & - 0.5 \\Delta t \\left(\\gamma_{+E} + \\gamma_{-E} + \\gamma_{G-}\\right) \\rho_{31}{\\left(t \\right)} + \\rho_{31}{\\left(t \\right)} & - 0.5 \\Delta t \\left(\\gamma_{+E} + \\gamma_{-E} + \\gamma_{G+}\\right) \\rho_{32}{\\left(t \\right)} + \\rho_{32}{\\left(t \\right)} & - 1.0 \\Delta t \\left(\\gamma_{+E} + \\gamma_{-E}\\right) \\rho_{33}{\\left(t \\right)} + \\rho_{33}{\\left(t \\right)}\\end{matrix}\\right]$"
      ],
      "text/plain": [
       "<IPython.core.display.Math object>"
      ]
     },
     "metadata": {},
     "output_type": "display_data"
    }
   ],
   "source": [
    "delta_t = Symbol(r'\\Delta t')\n",
    "symbol_data = []\n",
    "\n",
    "for i in range(4):\n",
    "    row = []\n",
    "\n",
    "    for j in range(4):\n",
    "        row.append(Function(f'rho_{i}{j}')(Symbol('t')))\n",
    "    \n",
    "    symbol_data.append(row)\n",
    "\n",
    "evol_rho = Matrix(symbol_data) + sp.simplify(delta_t*drho_dt)\n",
    "eq_latex = r'\\rho_{ME} (t + \\Delta t)=' + latex(evol_rho)\n",
    "display(Math(eq_latex))"
   ]
  },
  {
   "cell_type": "markdown",
   "metadata": {},
   "source": [
    "To explictly conect these two approaches (approximated ME and Kraus representation) we can define the decay probabilities for a small time evolution $t \\to t + \\Delta t$ as $ p_{\\alpha}  = 1 - \\exp ({-\\gamma_{\\alpha}t} )\\approx \\gamma_{\\alpha} \\Delta t$, with $\\alpha = G+,G-,-E,+E$. With this, the Kraus evolution yields"
   ]
  },
  {
   "cell_type": "code",
   "execution_count": 17,
   "metadata": {},
   "outputs": [
    {
     "data": {
      "text/latex": [
       "$\\displaystyle \\rho_{Kraus}(t + \\Delta t) =\\left[\\begin{matrix}\\Delta t^{2} \\gamma_{+E} \\gamma_{-E} \\rho_{33}{\\left(t \\right)} + \\Delta t \\gamma_{G+} \\rho_{22}{\\left(t \\right)} + \\Delta t \\gamma_{G-} \\rho_{11}{\\left(t \\right)} + \\rho_{00}{\\left(t \\right)} & \\sqrt{\\Delta t \\gamma_{-E}} \\sqrt{\\Delta t \\gamma_{G+}} \\sqrt{- \\Delta t \\gamma_{+E} + 1} \\rho_{23}{\\left(t \\right)} + \\sqrt{- \\Delta t \\gamma_{G-} + 1} \\rho_{01}{\\left(t \\right)} & \\sqrt{\\Delta t \\gamma_{+E}} \\sqrt{\\Delta t \\gamma_{G-}} \\sqrt{- \\Delta t \\gamma_{-E} + 1} \\rho_{13}{\\left(t \\right)} + \\sqrt{- \\Delta t \\gamma_{G+} + 1} \\rho_{02}{\\left(t \\right)} & \\sqrt{- \\Delta t \\gamma_{+E} + 1} \\sqrt{- \\Delta t \\gamma_{-E} + 1} \\rho_{03}{\\left(t \\right)}\\\\\\sqrt{\\Delta t \\gamma_{-E}} \\sqrt{\\Delta t \\gamma_{G+}} \\sqrt{- \\Delta t \\gamma_{+E} + 1} \\rho_{32}{\\left(t \\right)} + \\sqrt{- \\Delta t \\gamma_{G-} + 1} \\rho_{10}{\\left(t \\right)} & \\Delta t \\gamma_{-E} \\left(- \\Delta t \\gamma_{+E} + 1\\right) \\rho_{33}{\\left(t \\right)} + \\left(- \\Delta t \\gamma_{G-} + 1\\right) \\rho_{11}{\\left(t \\right)} & \\sqrt{- \\Delta t \\gamma_{G+} + 1} \\sqrt{- \\Delta t \\gamma_{G-} + 1} \\rho_{12}{\\left(t \\right)} & \\sqrt{- \\Delta t \\gamma_{+E} + 1} \\sqrt{- \\Delta t \\gamma_{-E} + 1} \\sqrt{- \\Delta t \\gamma_{G-} + 1} \\rho_{13}{\\left(t \\right)}\\\\\\sqrt{\\Delta t \\gamma_{+E}} \\sqrt{\\Delta t \\gamma_{G-}} \\sqrt{- \\Delta t \\gamma_{-E} + 1} \\rho_{31}{\\left(t \\right)} + \\sqrt{- \\Delta t \\gamma_{G+} + 1} \\rho_{20}{\\left(t \\right)} & \\sqrt{- \\Delta t \\gamma_{G+} + 1} \\sqrt{- \\Delta t \\gamma_{G-} + 1} \\rho_{21}{\\left(t \\right)} & \\Delta t \\gamma_{+E} \\left(- \\Delta t \\gamma_{-E} + 1\\right) \\rho_{33}{\\left(t \\right)} + \\left(- \\Delta t \\gamma_{G+} + 1\\right) \\rho_{22}{\\left(t \\right)} & \\sqrt{- \\Delta t \\gamma_{+E} + 1} \\sqrt{- \\Delta t \\gamma_{-E} + 1} \\sqrt{- \\Delta t \\gamma_{G+} + 1} \\rho_{23}{\\left(t \\right)}\\\\\\sqrt{- \\Delta t \\gamma_{+E} + 1} \\sqrt{- \\Delta t \\gamma_{-E} + 1} \\rho_{30}{\\left(t \\right)} & \\sqrt{- \\Delta t \\gamma_{+E} + 1} \\sqrt{- \\Delta t \\gamma_{-E} + 1} \\sqrt{- \\Delta t \\gamma_{G-} + 1} \\rho_{31}{\\left(t \\right)} & \\sqrt{- \\Delta t \\gamma_{+E} + 1} \\sqrt{- \\Delta t \\gamma_{-E} + 1} \\sqrt{- \\Delta t \\gamma_{G+} + 1} \\rho_{32}{\\left(t \\right)} & \\left(- \\Delta t \\gamma_{+E} + 1\\right) \\left(- \\Delta t \\gamma_{-E} + 1\\right) \\rho_{33}{\\left(t \\right)}\\end{matrix}\\right]$"
      ],
      "text/plain": [
       "<IPython.core.display.Math object>"
      ]
     },
     "metadata": {},
     "output_type": "display_data"
    }
   ],
   "source": [
    "substitutions = {p_plus_e : delta_t*gamma_plus_e,\n",
    "                 p_minus_e : delta_t*gamma_minus_e,\n",
    "                 p_g_plus : delta_t*gamma_g_plus,\n",
    "                 p_g_minus : delta_t*gamma_g_minus}\n",
    "\n",
    "approx_rho = kraus_rho.subs(substitutions)\n",
    "\n",
    "eq_latex = r'\\rho_{Kraus}(t + \\Delta t) =' + latex(approx_rho)\n",
    "display(Math(eq_latex))"
   ]
  },
  {
   "cell_type": "code",
   "execution_count": 19,
   "metadata": {},
   "outputs": [
    {
     "name": "stdout",
     "output_type": "stream",
     "text": [
      "\\left[\\begin{matrix}\\Delta t^{2} \\gamma_{+E} \\gamma_{-E} \\rho_{33}{\\left(t \\right)} + \\Delta t \\gamma_{G+} \\rho_{22}{\\left(t \\right)} + \\Delta t \\gamma_{G-} \\rho_{11}{\\left(t \\right)} + \\rho_{00}{\\left(t \\right)} & \\sqrt{\\Delta t \\gamma_{-E}} \\sqrt{\\Delta t \\gamma_{G+}} \\sqrt{- \\Delta t \\gamma_{+E} + 1} \\rho_{23}{\\left(t \\right)} + \\sqrt{- \\Delta t \\gamma_{G-} + 1} \\rho_{01}{\\left(t \\right)} & \\sqrt{\\Delta t \\gamma_{+E}} \\sqrt{\\Delta t \\gamma_{G-}} \\sqrt{- \\Delta t \\gamma_{-E} + 1} \\rho_{13}{\\left(t \\right)} + \\sqrt{- \\Delta t \\gamma_{G+} + 1} \\rho_{02}{\\left(t \\right)} & \\sqrt{- \\Delta t \\gamma_{+E} + 1} \\sqrt{- \\Delta t \\gamma_{-E} + 1} \\rho_{03}{\\left(t \\right)}\\\\\\sqrt{\\Delta t \\gamma_{-E}} \\sqrt{\\Delta t \\gamma_{G+}} \\sqrt{- \\Delta t \\gamma_{+E} + 1} \\rho_{32}{\\left(t \\right)} + \\sqrt{- \\Delta t \\gamma_{G-} + 1} \\rho_{10}{\\left(t \\right)} & \\Delta t \\gamma_{-E} \\left(- \\Delta t \\gamma_{+E} + 1\\right) \\rho_{33}{\\left(t \\right)} + \\left(- \\Delta t \\gamma_{G-} + 1\\right) \\rho_{11}{\\left(t \\right)} & \\sqrt{- \\Delta t \\gamma_{G+} + 1} \\sqrt{- \\Delta t \\gamma_{G-} + 1} \\rho_{12}{\\left(t \\right)} & \\sqrt{- \\Delta t \\gamma_{+E} + 1} \\sqrt{- \\Delta t \\gamma_{-E} + 1} \\sqrt{- \\Delta t \\gamma_{G-} + 1} \\rho_{13}{\\left(t \\right)}\\\\\\sqrt{\\Delta t \\gamma_{+E}} \\sqrt{\\Delta t \\gamma_{G-}} \\sqrt{- \\Delta t \\gamma_{-E} + 1} \\rho_{31}{\\left(t \\right)} + \\sqrt{- \\Delta t \\gamma_{G+} + 1} \\rho_{20}{\\left(t \\right)} & \\sqrt{- \\Delta t \\gamma_{G+} + 1} \\sqrt{- \\Delta t \\gamma_{G-} + 1} \\rho_{21}{\\left(t \\right)} & \\Delta t \\gamma_{+E} \\left(- \\Delta t \\gamma_{-E} + 1\\right) \\rho_{33}{\\left(t \\right)} + \\left(- \\Delta t \\gamma_{G+} + 1\\right) \\rho_{22}{\\left(t \\right)} & \\sqrt{- \\Delta t \\gamma_{+E} + 1} \\sqrt{- \\Delta t \\gamma_{-E} + 1} \\sqrt{- \\Delta t \\gamma_{G+} + 1} \\rho_{23}{\\left(t \\right)}\\\\\\sqrt{- \\Delta t \\gamma_{+E} + 1} \\sqrt{- \\Delta t \\gamma_{-E} + 1} \\rho_{30}{\\left(t \\right)} & \\sqrt{- \\Delta t \\gamma_{+E} + 1} \\sqrt{- \\Delta t \\gamma_{-E} + 1} \\sqrt{- \\Delta t \\gamma_{G-} + 1} \\rho_{31}{\\left(t \\right)} & \\sqrt{- \\Delta t \\gamma_{+E} + 1} \\sqrt{- \\Delta t \\gamma_{-E} + 1} \\sqrt{- \\Delta t \\gamma_{G+} + 1} \\rho_{32}{\\left(t \\right)} & \\left(- \\Delta t \\gamma_{+E} + 1\\right) \\left(- \\Delta t \\gamma_{-E} + 1\\right) \\rho_{33}{\\left(t \\right)}\\end{matrix}\\right]\n"
     ]
    }
   ],
   "source": [
    "print_latex(approx_rho)"
   ]
  },
  {
   "cell_type": "markdown",
   "metadata": {},
   "source": [
    "Since $\\Delta t$ is asummed to be a small time step, we can additionally perform a first order Taylor expansion of the square roots $\\sqrt{1 - \\gamma_{\\alpha}} \\approx 1 - \\frac{\\gamma_{\\alpha}}{2}$, with $\\alpha = G+, G-, -E, +E$. Doing this and ignoring terms of higher than first order in $\\Delta t$, allows us to recover the density matrix output by the $ME$."
   ]
  },
  {
   "cell_type": "markdown",
   "metadata": {},
   "source": [
    "## \"Trotter\" error of the Kraus evolution."
   ]
  },
  {
   "cell_type": "markdown",
   "metadata": {},
   "source": [
    "Sequential applications of the quantum channel, in time slices $\\Delta t = t/k$ seem to improve the results of the simulations, in contrast to one unique application at $t$ (see the example right below)"
   ]
  },
  {
   "cell_type": "code",
   "execution_count": 1,
   "metadata": {},
   "outputs": [
    {
     "data": {
      "image/png": "[encoded data removed]",
      "text/plain": [
       "<Figure size 640x480 with 1 Axes>"
      ]
     },
     "metadata": {},
     "output_type": "display_data"
    }
   ],
   "source": [
    "from tests.purely_dissipative_generalized_original_circuit import get_circuit\n",
    "from main_functions.generalized_estimator_solver import estimator_solver\n",
    "from tests.tests_generalized_ME_methods import solve_master_equation\n",
    "from qiskit_aer import AerSimulator\n",
    "from utils.generate_complementary_colors import generate_complementary_colors\n",
    "import numpy as np \n",
    "import matplotlib.pyplot as plt\n",
    "plt.rcParams['text.usetex'] = True\n",
    "plt.rcParams['figure.dpi'] = 100\n",
    "plt.rcParams['savefig.dpi'] = 600\n",
    "\n",
    "omega_m = [1.2, 1.21]\n",
    "omega_c = 1.1\n",
    "gamma = [0.8*(10**-6)]*2\n",
    "kappa = [0.2]\n",
    "g = [0.03, 0.03]\n",
    "\n",
    "initial_state = [0, 0, 0, 1]\n",
    "t = np.linspace(0, 750, 200)\n",
    "\n",
    "trotter = [1,2,3,4,5]\n",
    "backend = AerSimulator()\n",
    "optimization_level = 0\n",
    "options = {'default_shots' : 10**3}\n",
    "\n",
    "colors = generate_complementary_colors(len(trotter), palette_type='default')\n",
    "\n",
    "evs_markovian = solve_master_equation(omega_m, omega_c, gamma, kappa, g, t, initial_state, 'diagonal', False)\n",
    "plt.plot(t, evs_markovian['1'], linestyle = 'solid', color = 'darkgrey', label = 'Diagonal approximation QuTiP solution')\n",
    "\n",
    "counter = 0\n",
    "\n",
    "for r in trotter:\n",
    "    qc = get_circuit(2, omega_m, omega_c, g, gamma, kappa, initial_state, r)\n",
    "    evs_qiskit = estimator_solver(qc, 2, t, backend, optimization_level, options)\n",
    "\n",
    "    plt.plot(t, evs_qiskit['1'], linestyle = 'solid', color = colors[counter], label = f'r = {r}' )\n",
    "    counter = counter + 1\n",
    "\n",
    "plt.ylabel('population')\n",
    "plt.xlabel('time (arbitrary units)')\n",
    "plt.legend()\n",
    "#plt.savefig('figures/generalized_two_qubit_circuit_test_5_trotter.png', bbox_inches='tight')\n",
    "plt.show()"
   ]
  },
  {
   "cell_type": "markdown",
   "metadata": {},
   "source": [
    "Now, why is this happening? For example for $ k = 2$ and $k=3$, this would mean"
   ]
  },
  {
   "cell_type": "markdown",
   "metadata": {},
   "source": [
    "$$\n",
    "\\begin{align}\n",
    "\\rho (t) = \\sum_{j=0}^{3} K_j \\left(\\frac{t}{2} \\right) \\left( \\sum_{i=0}^{3} K_i \\left(\\frac{t}{2} \\right) \\rho(0) K_i^{\\dag} \\left(\\frac{t}{2} \\right) \\right) K_j^{\\dag} \\left(\\frac{t}{2} \\right) \n",
    "\\end{align}"
   ]
  },
  {
   "cell_type": "markdown",
   "metadata": {},
   "source": [
    "$$\n",
    "\\begin{align}\n",
    "\\rho (t) = \\sum_{k=0}^{3} K_k \\left(\\frac{t}{3} \\right) \\left[ \\sum_{j=0}^{3} K_j \\left(\\frac{t}{3} \\right) \\left( \\sum_{i=0}^{3} K_i \\left(\\frac{t}{3} \\right) \\rho(0) K_i^{\\dag} \\left(\\frac{t}{3} \\right) \\right) K_j^{\\dag} \\left(\\frac{t}{3} \\right) \\right] K_k^{\\dag} \\left(\\frac{t}{3} \\right)\n",
    "\\end{align}"
   ]
  },
  {
   "cell_type": "markdown",
   "metadata": {},
   "source": [
    "We can compute this explicitly"
   ]
  },
  {
   "cell_type": "code",
   "execution_count": 20,
   "metadata": {},
   "outputs": [
    {
     "name": "stdout",
     "output_type": "stream",
     "text": [
      "The channel is CPTP\n"
     ]
    },
    {
     "data": {
      "text/latex": [
       "$\\displaystyle K_0 = \\left[\\begin{matrix}1 & 0 & 0 & 0\\\\0 & \\sqrt{1 - p_{G-}} & 0 & 0\\\\0 & 0 & \\sqrt{1 - p_{G+}} & 0\\\\0 & 0 & 0 & \\sqrt{1 - p_{+E}} \\sqrt{1 - p_{-E}}\\end{matrix}\\right]$"
      ],
      "text/plain": [
       "<IPython.core.display.Math object>"
      ]
     },
     "metadata": {},
     "output_type": "display_data"
    },
    {
     "data": {
      "text/latex": [
       "$\\displaystyle K_1 = \\left[\\begin{matrix}0 & \\sqrt{p_{G-}} & 0 & 0\\\\0 & 0 & 0 & 0\\\\0 & 0 & 0 & \\sqrt{p_{+E}} \\sqrt{1 - p_{-E}}\\\\0 & 0 & 0 & 0\\end{matrix}\\right]$"
      ],
      "text/plain": [
       "<IPython.core.display.Math object>"
      ]
     },
     "metadata": {},
     "output_type": "display_data"
    },
    {
     "data": {
      "text/latex": [
       "$\\displaystyle K_2 = \\left[\\begin{matrix}0 & 0 & \\sqrt{p_{G+}} & 0\\\\0 & 0 & 0 & \\sqrt{p_{-E}} \\sqrt{1 - p_{+E}}\\\\0 & 0 & 0 & 0\\\\0 & 0 & 0 & 0\\end{matrix}\\right]$"
      ],
      "text/plain": [
       "<IPython.core.display.Math object>"
      ]
     },
     "metadata": {},
     "output_type": "display_data"
    },
    {
     "data": {
      "text/latex": [
       "$\\displaystyle K_3 = \\left[\\begin{matrix}0 & 0 & 0 & \\sqrt{p_{+E}} \\sqrt{p_{-E}}\\\\0 & 0 & 0 & 0\\\\0 & 0 & 0 & 0\\\\0 & 0 & 0 & 0\\end{matrix}\\right]$"
      ],
      "text/plain": [
       "<IPython.core.display.Math object>"
      ]
     },
     "metadata": {},
     "output_type": "display_data"
    }
   ],
   "source": [
    "from utils.get_kraus_TEST import get_kraus\n",
    "from sympy import Matrix, Symbol, sqrt, latex, Function\n",
    "from IPython.display import display, Math\n",
    "from sympy.physics.quantum import TensorProduct\n",
    "from sympy import init_printing\n",
    "init_printing()\n",
    "\n",
    "ancilla_dim = 4\n",
    "system_dim = 4\n",
    "\n",
    "#time_slice = Symbol('t/k')\n",
    "\n",
    "p_plus_e = Symbol('p_{+E}')\n",
    "p_minus_e = Symbol('p_{-E}')\n",
    "p_g_plus = Symbol('p_{G+}')\n",
    "p_g_minus = Symbol('p_{G-}')\n",
    "\n",
    "ket_0 = Matrix([[1],[0]])\n",
    "ket_1 = Matrix([[0],[1]])\n",
    "\n",
    "ket_00 = TensorProduct(ket_0, ket_0)\n",
    "ket_01 = TensorProduct(ket_0, ket_1)\n",
    "ket_10 = TensorProduct(ket_1, ket_0)\n",
    "ket_11 = TensorProduct(ket_1, ket_1)\n",
    "\n",
    "first_prime = TensorProduct(ket_00, ket_00) \n",
    "second_prime = sqrt(1-p_g_minus)*TensorProduct(ket_01, ket_00) + sqrt(p_g_minus)*TensorProduct(ket_00, ket_01)\n",
    "third_prime = sqrt(1-p_g_plus)*TensorProduct(ket_10, ket_00) + sqrt(p_g_plus)*TensorProduct(ket_00, ket_10)\n",
    "fourth_prime = sqrt(1-p_plus_e)*sqrt(1-p_minus_e)*TensorProduct(ket_11, ket_00) + sqrt(1 - p_plus_e)*sqrt(p_minus_e)*TensorProduct(ket_01, ket_10) + sqrt(1 - p_minus_e)*sqrt(p_plus_e)*TensorProduct(ket_10, ket_01) +sqrt(p_minus_e)*sqrt(p_plus_e)*TensorProduct(ket_00, ket_11) \n",
    "\n",
    "transformed_kets = [first_prime, second_prime, third_prime, fourth_prime]\n",
    "basis = 'computational'\n",
    "\n",
    "kraus = get_kraus(transformed_kets, basis, system_dim, ancilla_dim, True)\n",
    "counter = 0\n",
    "for k in kraus:\n",
    "    eq_latex = f'K_{counter} = ' + latex(k)\n",
    "    display(Math(eq_latex))\n",
    "    counter = counter + 1"
   ]
  },
  {
   "cell_type": "code",
   "execution_count": 21,
   "metadata": {},
   "outputs": [
    {
     "data": {
      "text/latex": [
       "$\\displaystyle \\rho_{Kraus}(t + \\Delta t) = \\sum_{i=0} K_i \\left(\\frac{t}{2} \\right)\\left[\\begin{matrix}p_{+E} p_{-E} \\rho_{33} + p_{G+} \\rho_{22} + p_{G-} \\rho_{11} + \\rho_{00} & \\sqrt{p_{-E}} \\sqrt{p_{G+}} \\rho_{23} \\sqrt{1 - p_{+E}} + \\rho_{01} \\sqrt{1 - p_{G-}} & \\sqrt{p_{+E}} \\sqrt{p_{G-}} \\rho_{13} \\sqrt{1 - p_{-E}} + \\rho_{02} \\sqrt{1 - p_{G+}} & \\rho_{03} \\sqrt{1 - p_{+E}} \\sqrt{1 - p_{-E}}\\\\\\sqrt{p_{-E}} \\sqrt{p_{G+}} \\rho_{32} \\sqrt{1 - p_{+E}} + \\rho_{10} \\sqrt{1 - p_{G-}} & p_{-E} \\rho_{33} \\cdot \\left(1 - p_{+E}\\right) + \\rho_{11} \\cdot \\left(1 - p_{G-}\\right) & \\rho_{12} \\sqrt{1 - p_{G+}} \\sqrt{1 - p_{G-}} & \\rho_{13} \\sqrt{1 - p_{+E}} \\sqrt{1 - p_{-E}} \\sqrt{1 - p_{G-}}\\\\\\sqrt{p_{+E}} \\sqrt{p_{G-}} \\rho_{31} \\sqrt{1 - p_{-E}} + \\rho_{20} \\sqrt{1 - p_{G+}} & \\rho_{21} \\sqrt{1 - p_{G+}} \\sqrt{1 - p_{G-}} & p_{+E} \\rho_{33} \\cdot \\left(1 - p_{-E}\\right) + \\rho_{22} \\cdot \\left(1 - p_{G+}\\right) & \\rho_{23} \\sqrt{1 - p_{+E}} \\sqrt{1 - p_{-E}} \\sqrt{1 - p_{G+}}\\\\\\rho_{30} \\sqrt{1 - p_{+E}} \\sqrt{1 - p_{-E}} & \\rho_{31} \\sqrt{1 - p_{+E}} \\sqrt{1 - p_{-E}} \\sqrt{1 - p_{G-}} & \\rho_{32} \\sqrt{1 - p_{+E}} \\sqrt{1 - p_{-E}} \\sqrt{1 - p_{G+}} & \\rho_{33} \\cdot \\left(1 - p_{+E}\\right) \\left(1 - p_{-E}\\right)\\end{matrix}\\right]K_i^{\\dag} \\left(\\frac{t}{2} \\right) = \\left[\\begin{matrix}p_{+E} p_{-E} \\rho_{33} \\cdot \\left(1 - p_{+E}\\right) \\left(1 - p_{-E}\\right) + p_{+E} p_{-E} \\rho_{33} + p_{G+} \\rho_{22} + p_{G+} \\left(p_{+E} \\rho_{33} \\cdot \\left(1 - p_{-E}\\right) + \\rho_{22} \\cdot \\left(1 - p_{G+}\\right)\\right) + p_{G-} \\rho_{11} + p_{G-} \\left(p_{-E} \\rho_{33} \\cdot \\left(1 - p_{+E}\\right) + \\rho_{11} \\cdot \\left(1 - p_{G-}\\right)\\right) + \\rho_{00} & \\sqrt{p_{-E}} \\sqrt{p_{G+}} \\rho_{23} \\cdot \\left(1 - p_{+E}\\right) \\sqrt{1 - p_{-E}} \\sqrt{1 - p_{G+}} + \\sqrt{1 - p_{G-}} \\left(\\sqrt{p_{-E}} \\sqrt{p_{G+}} \\rho_{23} \\sqrt{1 - p_{+E}} + \\rho_{01} \\sqrt{1 - p_{G-}}\\right) & \\sqrt{p_{+E}} \\sqrt{p_{G-}} \\rho_{13} \\sqrt{1 - p_{+E}} \\left(1 - p_{-E}\\right) \\sqrt{1 - p_{G-}} + \\sqrt{1 - p_{G+}} \\left(\\sqrt{p_{+E}} \\sqrt{p_{G-}} \\rho_{13} \\sqrt{1 - p_{-E}} + \\rho_{02} \\sqrt{1 - p_{G+}}\\right) & \\rho_{03} \\cdot \\left(1 - p_{+E}\\right) \\left(1 - p_{-E}\\right)\\\\\\sqrt{p_{-E}} \\sqrt{p_{G+}} \\rho_{32} \\cdot \\left(1 - p_{+E}\\right) \\sqrt{1 - p_{-E}} \\sqrt{1 - p_{G+}} + \\sqrt{1 - p_{G-}} \\left(\\sqrt{p_{-E}} \\sqrt{p_{G+}} \\rho_{32} \\sqrt{1 - p_{+E}} + \\rho_{10} \\sqrt{1 - p_{G-}}\\right) & p_{-E} \\rho_{33} \\left(1 - p_{+E}\\right)^{2} \\cdot \\left(1 - p_{-E}\\right) + \\left(1 - p_{G-}\\right) \\left(p_{-E} \\rho_{33} \\cdot \\left(1 - p_{+E}\\right) + \\rho_{11} \\cdot \\left(1 - p_{G-}\\right)\\right) & \\rho_{12} \\cdot \\left(1 - p_{G+}\\right) \\left(1 - p_{G-}\\right) & \\rho_{13} \\cdot \\left(1 - p_{+E}\\right) \\left(1 - p_{-E}\\right) \\left(1 - p_{G-}\\right)\\\\\\sqrt{p_{+E}} \\sqrt{p_{G-}} \\rho_{31} \\sqrt{1 - p_{+E}} \\left(1 - p_{-E}\\right) \\sqrt{1 - p_{G-}} + \\sqrt{1 - p_{G+}} \\left(\\sqrt{p_{+E}} \\sqrt{p_{G-}} \\rho_{31} \\sqrt{1 - p_{-E}} + \\rho_{20} \\sqrt{1 - p_{G+}}\\right) & \\rho_{21} \\cdot \\left(1 - p_{G+}\\right) \\left(1 - p_{G-}\\right) & p_{+E} \\rho_{33} \\cdot \\left(1 - p_{+E}\\right) \\left(1 - p_{-E}\\right)^{2} + \\left(1 - p_{G+}\\right) \\left(p_{+E} \\rho_{33} \\cdot \\left(1 - p_{-E}\\right) + \\rho_{22} \\cdot \\left(1 - p_{G+}\\right)\\right) & \\rho_{23} \\cdot \\left(1 - p_{+E}\\right) \\left(1 - p_{-E}\\right) \\left(1 - p_{G+}\\right)\\\\\\rho_{30} \\cdot \\left(1 - p_{+E}\\right) \\left(1 - p_{-E}\\right) & \\rho_{31} \\cdot \\left(1 - p_{+E}\\right) \\left(1 - p_{-E}\\right) \\left(1 - p_{G-}\\right) & \\rho_{32} \\cdot \\left(1 - p_{+E}\\right) \\left(1 - p_{-E}\\right) \\left(1 - p_{G+}\\right) & \\rho_{33} \\left(1 - p_{+E}\\right)^{2} \\left(1 - p_{-E}\\right)^{2}\\end{matrix}\\right]$"
      ],
      "text/plain": [
       "<IPython.core.display.Math object>"
      ]
     },
     "metadata": {},
     "output_type": "display_data"
    }
   ],
   "source": [
    "from sympy import Matrix\n",
    "\n",
    "symbol_data = []\n",
    "\n",
    "for i in range(4):\n",
    "    row = []\n",
    "\n",
    "    for j in range(4):\n",
    "        row.append(Symbol(f'rho_{i}{j}'))\n",
    "    \n",
    "    symbol_data.append(row)\n",
    "\n",
    "rho = Matrix(symbol_data)\n",
    "kraus_rho = kraus[0]*(rho*kraus[0].transpose()) + kraus[1]*(rho*kraus[1].transpose()) + kraus[2]*(rho*kraus[2].transpose()) + kraus[3]*(rho*kraus[3].transpose())\n",
    "two_evolved_kraus_rho = kraus[0]*(kraus_rho*kraus[0].transpose()) + kraus[1]*(kraus_rho*kraus[1].transpose()) + kraus[2]*(kraus_rho*kraus[2].transpose()) + kraus[3]*(kraus_rho*kraus[3].transpose())\n",
    "\n",
    "eq_latex = r'\\rho_{Kraus}(t + \\Delta t) = \\sum_{i=0} K_i \\left(\\frac{t}{2} \\right)' + latex(kraus_rho) + r'K_i^{\\dag} \\left(\\frac{t}{2} \\right) = ' + latex(two_evolved_kraus_rho)\n",
    "display(Math(eq_latex))"
   ]
  },
  {
   "cell_type": "code",
   "execution_count": 23,
   "metadata": {},
   "outputs": [
    {
     "name": "stdout",
     "output_type": "stream",
     "text": [
      "\\left[\\begin{matrix}p_{+E} p_{-E} \\rho_{33} \\cdot \\left(1 - p_{+E}\\right) \\left(1 - p_{-E}\\right) + p_{+E} p_{-E} \\rho_{33} + p_{G+} \\rho_{22} + p_{G+} \\left(p_{+E} \\rho_{33} \\cdot \\left(1 - p_{-E}\\right) + \\rho_{22} \\cdot \\left(1 - p_{G+}\\right)\\right) + p_{G-} \\rho_{11} + p_{G-} \\left(p_{-E} \\rho_{33} \\cdot \\left(1 - p_{+E}\\right) + \\rho_{11} \\cdot \\left(1 - p_{G-}\\right)\\right) + \\rho_{00} & \\sqrt{p_{-E}} \\sqrt{p_{G+}} \\rho_{23} \\cdot \\left(1 - p_{+E}\\right) \\sqrt{1 - p_{-E}} \\sqrt{1 - p_{G+}} + \\sqrt{1 - p_{G-}} \\left(\\sqrt{p_{-E}} \\sqrt{p_{G+}} \\rho_{23} \\sqrt{1 - p_{+E}} + \\rho_{01} \\sqrt{1 - p_{G-}}\\right) & \\sqrt{p_{+E}} \\sqrt{p_{G-}} \\rho_{13} \\sqrt{1 - p_{+E}} \\left(1 - p_{-E}\\right) \\sqrt{1 - p_{G-}} + \\sqrt{1 - p_{G+}} \\left(\\sqrt{p_{+E}} \\sqrt{p_{G-}} \\rho_{13} \\sqrt{1 - p_{-E}} + \\rho_{02} \\sqrt{1 - p_{G+}}\\right) & \\rho_{03} \\cdot \\left(1 - p_{+E}\\right) \\left(1 - p_{-E}\\right)\\\\\\sqrt{p_{-E}} \\sqrt{p_{G+}} \\rho_{32} \\cdot \\left(1 - p_{+E}\\right) \\sqrt{1 - p_{-E}} \\sqrt{1 - p_{G+}} + \\sqrt{1 - p_{G-}} \\left(\\sqrt{p_{-E}} \\sqrt{p_{G+}} \\rho_{32} \\sqrt{1 - p_{+E}} + \\rho_{10} \\sqrt{1 - p_{G-}}\\right) & p_{-E} \\rho_{33} \\left(1 - p_{+E}\\right)^{2} \\cdot \\left(1 - p_{-E}\\right) + \\left(1 - p_{G-}\\right) \\left(p_{-E} \\rho_{33} \\cdot \\left(1 - p_{+E}\\right) + \\rho_{11} \\cdot \\left(1 - p_{G-}\\right)\\right) & \\rho_{12} \\cdot \\left(1 - p_{G+}\\right) \\left(1 - p_{G-}\\right) & \\rho_{13} \\cdot \\left(1 - p_{+E}\\right) \\left(1 - p_{-E}\\right) \\left(1 - p_{G-}\\right)\\\\\\sqrt{p_{+E}} \\sqrt{p_{G-}} \\rho_{31} \\sqrt{1 - p_{+E}} \\left(1 - p_{-E}\\right) \\sqrt{1 - p_{G-}} + \\sqrt{1 - p_{G+}} \\left(\\sqrt{p_{+E}} \\sqrt{p_{G-}} \\rho_{31} \\sqrt{1 - p_{-E}} + \\rho_{20} \\sqrt{1 - p_{G+}}\\right) & \\rho_{21} \\cdot \\left(1 - p_{G+}\\right) \\left(1 - p_{G-}\\right) & p_{+E} \\rho_{33} \\cdot \\left(1 - p_{+E}\\right) \\left(1 - p_{-E}\\right)^{2} + \\left(1 - p_{G+}\\right) \\left(p_{+E} \\rho_{33} \\cdot \\left(1 - p_{-E}\\right) + \\rho_{22} \\cdot \\left(1 - p_{G+}\\right)\\right) & \\rho_{23} \\cdot \\left(1 - p_{+E}\\right) \\left(1 - p_{-E}\\right) \\left(1 - p_{G+}\\right)\\\\\\rho_{30} \\cdot \\left(1 - p_{+E}\\right) \\left(1 - p_{-E}\\right) & \\rho_{31} \\cdot \\left(1 - p_{+E}\\right) \\left(1 - p_{-E}\\right) \\left(1 - p_{G-}\\right) & \\rho_{32} \\cdot \\left(1 - p_{+E}\\right) \\left(1 - p_{-E}\\right) \\left(1 - p_{G+}\\right) & \\rho_{33} \\left(1 - p_{+E}\\right)^{2} \\left(1 - p_{-E}\\right)^{2}\\end{matrix}\\right]\n"
     ]
    }
   ],
   "source": [
    "print_latex(two_evolved_kraus_rho)"
   ]
  },
  {
   "cell_type": "markdown",
   "metadata": {},
   "source": [
    "[WIP]"
   ]
  },
  {
   "cell_type": "markdown",
   "metadata": {},
   "source": [
    "## Trotter error of the separation between unitary and dissipative evolutions."
   ]
  },
  {
   "cell_type": "markdown",
   "metadata": {},
   "source": [
    "[WIP]"
   ]
  },
  {
   "cell_type": "markdown",
   "metadata": {},
   "source": [
    "## Diagonal approximation error "
   ]
  },
  {
   "cell_type": "markdown",
   "metadata": {},
   "source": [
    "[WIP]"
   ]
  },
  {
   "cell_type": "markdown",
   "metadata": {},
   "source": []
  }
 ],
 "metadata": {
  "kernelspec": {
   "display_name": "Python 3",
   "language": "python",
   "name": "python3"
  },
  "language_info": {
   "codemirror_mode": {
    "name": "ipython",
    "version": 3
   },
   "file_extension": ".py",
   "mimetype": "text/x-python",
   "name": "python",
   "nbconvert_exporter": "python",
   "pygments_lexer": "ipython3",
   "version": "3.12.3"
  }
 },
 "nbformat": 4,
 "nbformat_minor": 2
}
