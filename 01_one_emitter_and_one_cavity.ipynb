{
 "cells": [
  {
   "cell_type": "markdown",
   "metadata": {},
   "source": [
    "# Quantum circuit construction of the Markovian evolution of one emitter coupled to a plasmonic nanocavity"
   ]
  },
  {
   "cell_type": "markdown",
   "metadata": {},
   "source": [
    "## Starting point: The Markovian Master Equation\n"
   ]
  },
  {
   "cell_type": "markdown",
   "metadata": {},
   "source": [
    "After performing the Markovian approximation on the total system, we get to the ME for the system's reduced density operator:"
   ]
  },
  {
   "cell_type": "markdown",
   "metadata": {},
   "source": [
    "\n",
    "\\begin{align*}\n",
    "\\frac{d\\rho_S}{dt} = -i[H_S + H_{LS}, \\rho_S] + \\mathcal{D}_{0} [\\rho_S]\n",
    "\\end{align*} \n"
   ]
  },
  {
   "cell_type": "markdown",
   "metadata": {},
   "source": [
    "where"
   ]
  },
  {
   "cell_type": "markdown",
   "metadata": {},
   "source": [
    "\n",
    "\\begin{align*}\n",
    "H_S + H_{LS} = \\left[ \\omega +  \\Delta \\left( \\frac{g^2}{\\left( \\frac{\\kappa}{2}\\right)^2 + (\\Delta)^2}\\right)\\right] \\sigma^{\\dag} \\sigma\n",
    "\\end{align*} \n"
   ]
  },
  {
   "cell_type": "markdown",
   "metadata": {},
   "source": [
    "\n",
    "\\begin{align*}\n",
    "\\mathcal{D} [\\rho_S] = \\left( \\gamma + \\kappa \\frac{ g^2 }{\\left( \\frac{\\kappa}{2}\\right)^2 + (\\Delta)^2} \\right) \\left( \\sigma \\rho_S \\sigma^{\\dag} - \\frac{1}{2} \\left\\lbrace \\sigma^{\\dag} \\sigma, \\rho_S \\right\\rbrace \\right)\n",
    "\\end{align*} \n"
   ]
  },
  {
   "cell_type": "markdown",
   "metadata": {},
   "source": [
    "with $\\omega, \\omega_c$ the frequencies of the emitter and the cavity, respectively, $g$ the coupling strength, $\\gamma$ the spontanous decay rate of the emitter, $\\kappa$ the cavity losses onto the environment and $\\Delta \\equiv \\omega - \\omega_c$ the detuning between the two."
   ]
  },
  {
   "cell_type": "markdown",
   "metadata": {},
   "source": [
    "Defining the effective variables $\\tilde{\\omega} \\equiv \\omega+ \\Delta \\left( \\frac{g^2 }{\\left( \\frac{\\kappa}{2}\\right)^2 + (\\Delta)^2}\\right)$, $\\tilde{\\gamma} \\equiv \\gamma + \\kappa \\frac{g^2}{\\left( \\frac{\\kappa}{2}\\right)^2 + (\\Delta)^2}$, we can rewrite the ME as (writing $\\rho$ instead of $\\rho_S$ for clarity)( NOTE TO SELF: This last notation simplification is also done in section 3.4.2 of Breuer)"
   ]
  },
  {
   "cell_type": "markdown",
   "metadata": {},
   "source": [
    "\n",
    "\\begin{align*}\n",
    "\\frac{d\\rho}{dt} = -i[\\tilde{\\omega}\\sigma^{\\dag} \\sigma, \\rho] + \\tilde{\\gamma} \\left( \\sigma \\rho \\sigma^{\\dag}- \\frac{1}{2} \\{ \\sigma^{\\dag}\\sigma, \\rho \\} \\right)\n",
    "\\end{align*} \n"
   ]
  },
  {
   "cell_type": "markdown",
   "metadata": {},
   "source": [
    "This ME contains two different types of evolution: an unitary one under the superoperator $-i[H, \\rho]$ and a dissipative one under $\\mathcal{D}[\\rho]$. Let's see how to implement each one as quantum circuits separately."
   ]
  },
  {
   "cell_type": "markdown",
   "metadata": {},
   "source": [
    "## Unitary evolution."
   ]
  },
  {
   "cell_type": "markdown",
   "metadata": {},
   "source": [
    "The generator of the Hamiltonian evolution is the operator $U(t) = \\exp(-iHt)$. In our particular case,"
   ]
  },
  {
   "cell_type": "markdown",
   "metadata": {},
   "source": [
    "\\begin{align*}\n",
    "U(t) = \\exp \\left( -i\\omega \\sigma^{\\dag} \\sigma t\\right)\n",
    "\\end{align*}"
   ]
  },
  {
   "cell_type": "markdown",
   "metadata": {},
   "source": [
    "In terms of Pauli matrices (using that $\\sigma \\equiv (X - i Y)/2$\n",
    "),"
   ]
  },
  {
   "cell_type": "markdown",
   "metadata": {},
   "source": [
    "\\begin{align*}\n",
    "U(t) = \\exp \\left( -\\frac{i\\omega t}{2} \\left[ \\mathbb{1} + Z \\right] \\right) = \\exp \\left( - \\frac{i\\omega t}{2} Z \\right)\n",
    "\\end{align*}"
   ]
  },
  {
   "cell_type": "markdown",
   "metadata": {},
   "source": [
    "where we used the fact that $[\\mathbf{1}, Z] = 0$ and $\\exp \\left( -i\\alpha t \\mathbf{1} \\right) =  \\mathbf{1} \\exp \\left( -i\\alpha t\\right)$ (and this last term is just a global factor in the operator that can be omitted)"
   ]
  },
  {
   "cell_type": "markdown",
   "metadata": {},
   "source": [
    "Identifying the resulting exponential as the rotation gate $R_Z (\\alpha)$ for $\\alpha = \\omega t$ (see Nielsen and Chuang section 4.2), we can readily implement the evolution operator $U(t)$ as the quantum gate $U_{\\text{gate}}$"
   ]
  },
  {
   "cell_type": "markdown",
   "metadata": {},
   "source": [
    "\\begin{align*}\n",
    "U_{\\text{gate}} (t) = R_Z(\\alpha(t)\n",
    ")\n",
    "\\end{align*}"
   ]
  },
  {
   "cell_type": "markdown",
   "metadata": {},
   "source": [
    "without the need of Trotterization."
   ]
  },
  {
   "cell_type": "markdown",
   "metadata": {},
   "source": [
    "## Dissipative dynamics."
   ]
  },
  {
   "cell_type": "markdown",
   "metadata": {},
   "source": [
    "Unlike the unitary evolution, implementing the evolution superoperator $D(t) = \\exp \\left(\\mathcal{D} t \\right)$ is not a straightforward thing to do. Over the years, many algorithmic techniques have been used for simulating dissipation as Stochastic wavefunction methods or Variational quantum algorithms. In our approach, we will seek to find a dilated unitary operator $U_{dilated}$ acting on an enlarged Hibert space such that when tracing out the ancillary (auxiliary) system, we can reproduce the desired non-unitary dynamics on the system of interest. To derive this dilated operator, we will use Kraus operators and quantum channels formalism (later on we will see that we do not actually need the explicit expression of $U_{dilated}$, it is enough to compute its Kraus representation)."
   ]
  },
  {
   "cell_type": "markdown",
   "metadata": {},
   "source": [
    "### Effect of the dissipator on the density operator"
   ]
  },
  {
   "cell_type": "markdown",
   "metadata": {},
   "source": [
    "Our starting point will be to see what effect the dissipator $\\mathcal{D} [\\rho]$ has on the system density operator to see which kind of quantum channel we need to define. In this simple case, this can be done straightforwardly through standard matrix product."
   ]
  },
  {
   "cell_type": "markdown",
   "metadata": {},
   "source": [
    "\n",
    "\\begin{align*}\n",
    "\\mathcal{D} [\\rho_S] = \\left( \\gamma + g^2 \\frac{\\kappa}{\\left( \\frac{\\kappa}{2}\\right)^2 + (\\Delta)^2} \\right) \\left( \\sigma \\rho_S \\sigma^{\\dag} - \\frac{1}{2} \\left\\lbrace \\sigma^{\\dag} \\sigma, \\rho_S \\right\\rbrace \\right) \\rightarrow \\begin{pmatrix}\n",
    "\\gamma \\rho_{11} & -\\frac{\\gamma}{2} \\rho_{01} \\\\\n",
    "-\\frac{\\gamma}{2} \\rho_{10} & -\\gamma \\rho_{11}\n",
    "\\end{pmatrix}\n",
    "\\end{align*} "
   ]
  },
  {
   "cell_type": "markdown",
   "metadata": {},
   "source": [
    "Since we are only interested in the purely dissipative dynamics of the density operator, we can set $H$ to zero just momentarily in the ME and get"
   ]
  },
  {
   "cell_type": "markdown",
   "metadata": {},
   "source": [
    "\n",
    "\\begin{align*}\n",
    "\\frac{d\\rho}{dt} = \\mathcal{D} [\\rho_S]  \\rightarrow\n",
    "\\frac{d}{dt} \\begin{pmatrix}\n",
    "\\rho_{00} & \\rho_{01} \\\\\n",
    "\\rho_{10} & \\rho_{11}\n",
    "\\end{pmatrix} = \\begin{pmatrix}\n",
    "\\gamma \\rho_{11} & -\\frac{\\gamma}{2} \\rho_{01} \\\\\n",
    "-\\frac{\\gamma}{2} \\rho_{10} & -\\gamma \\rho_{11}\n",
    "\\end{pmatrix}.\n",
    "\\end{align*} "
   ]
  },
  {
   "cell_type": "markdown",
   "metadata": {},
   "source": [
    "From the expression above we can derive a system of differential equations for the matrix elements of the density operator "
   ]
  },
  {
   "cell_type": "markdown",
   "metadata": {},
   "source": [
    "\\begin{cases}\n",
    "\\frac{d \\rho_{00}}{dt} = \\gamma \\rho_{11} \\\\\n",
    "\\frac{d \\rho_{01}}{dt} = - \\frac{\\gamma}{2} \\rho_{01} \\\\\n",
    "\\frac{d \\rho_{10}}{dt} = - \\frac{\\gamma}{2} \\rho_{10} \\\\\n",
    "\\frac{d \\rho_{11}}{dt} = - \\gamma \\rho_{11}\n",
    "\\end{cases}"
   ]
  },
  {
   "cell_type": "markdown",
   "metadata": {},
   "source": [
    "with solutions"
   ]
  },
  {
   "cell_type": "markdown",
   "metadata": {},
   "source": [
    "\\begin{align*}\n",
    "\\rho_{00} (t) &= \\rho_{00} (0) + \\rho_{11}(0) \\left( 1 - e^{-\\gamma t} \\right) \\\\\n",
    "\\rho_{01} (t) &= \\rho_{01} (0) e^{-\\frac{\\gamma}{2} t} \\\\\n",
    "\\rho_{10} (t) &= \\rho_{10} (0) e^{-\\frac{\\gamma}{2} t} \\\\\n",
    "\\rho_{11}(t) &= \\rho_{11} (0) e^{-\\gamma t}\n",
    "\\end{align*}"
   ]
  },
  {
   "cell_type": "markdown",
   "metadata": {},
   "source": [
    "Interpreting the diagonal elements of the density operator as the populations of states $\\left| 0\\right> ( \\rho_{00})$ and $\\left| 1\\right> ( \\rho_{11})$, one may infer that the effect of the dissipator on the system is to transfer population from the state $\\left| 1\\right>$ to $\\left| 0 \\right>$ at rate $1 - e^{-\\gamma t}$, i.e., it is modelling the spontaneous decay of an emitter with decay rate $\\gamma$."
   ]
  },
  {
   "cell_type": "markdown",
   "metadata": {},
   "source": [
    "### Probabilistic interpretation. Amplitude damping channels (ADCs)"
   ]
  },
  {
   "cell_type": "markdown",
   "metadata": {},
   "source": [
    "The decay that the dissipator $\\mathcal{D}[\\rho]$ induces on the system physically involves releasing a photon onto the environment. Let's consider then an enlarged Hilbert space $\\mathcal{H} = \\mathcal{H}_S \\otimes \\mathcal{H}_E$ where $S$ denotes the system and $E$, its environment Let's say we let the total system evolve from some instant $t$ to $t + \\Delta t$, for some $\\Delta t$. Under the exclusive action of the dissipator $\\mathcal{D}$, there is some probability $p$ that the system decays from $\\left| 1 \\right>_S $ to $\\left| 0 \\right>_S$, releasing a photon in the process, therefore making the environment transition from $\\left|0\\right>_E$ to $\\left| 1 \\right>_E$. This process can be described through a quantum channel $\\varepsilon$ with transformation equations"
   ]
  },
  {
   "cell_type": "markdown",
   "metadata": {},
   "source": [
    "\\begin{align*}\n",
    "\\left| 0 \\right>_S \\otimes \\left|0 \\right>_E &\\to \\left| 0 \\right>_S \\otimes \\left|0 \\right>_E \\\\\n",
    "\\left| 1 \\right>_S \\otimes \\left|0 \\right>_E &\\to \\sqrt{1- p} \\left| 1 \\right>_S \\otimes \\left|0 \\right>_E +  \\sqrt{p} \\left| 0 \\right>_S \\otimes \\left|1 \\right>_E\n",
    "\\end{align*}"
   ]
  },
  {
   "cell_type": "markdown",
   "metadata": {},
   "source": [
    "Assuming the quantum channel $\\varepsilon$ to be Completely Positive and Trace Preserving (CPTP) (we can check this later on), it admits a Kraus decomposition"
   ]
  },
  {
   "cell_type": "markdown",
   "metadata": {},
   "source": [
    "\\begin{align*}\n",
    "\\varepsilon [\\rho] = \\sum_i K_i \\rho K_i^{\\dag}\n",
    "\\end{align*}"
   ]
  },
  {
   "cell_type": "markdown",
   "metadata": {},
   "source": [
    "where $K_i \\in H_S$ are the __Kraus operators__ representing the channel satisfying the completeness relation $\\sum_i K_i^{\\dag} K_i = \\mathbb{1}$."
   ]
  },
  {
   "cell_type": "markdown",
   "metadata": {},
   "source": [
    "Let's see how to derive the Kraus representation of the channel from the transformation equations. Let's start by defining an __isometric extension__ or __Stinespring dilation__(see [1](#references)) $V$ that maps states from the reduced system space $\\mathcal{H}_S$ to the enlarged Hilbert space $\\mathcal{H}_S \\otimes \\mathcal{H}_E$ according to the transformation equations for the channel, "
   ]
  },
  {
   "cell_type": "markdown",
   "metadata": {},
   "source": [
    "\\begin{align*}\n",
    "V \\left| 0 \\right>_S &= \\left|0 \\right>_S \\otimes \\left|0 \\right>_E \\\\\n",
    "V \\left| 1 \\right>_S &= \\sqrt{1- p} \\left| 1 \\right>_S \\otimes \\left|0 \\right>_E +  \\sqrt{p} \\left| 0 \\right>_S \\otimes \\left|1 \\right>_E\n",
    "\\end{align*}"
   ]
  },
  {
   "cell_type": "markdown",
   "metadata": {},
   "source": [
    "Note that this is in fact an isometry because it is a linear operator of the form $V: \\mathbb{C}^{2} \\to \\left( \\mathbb{C}^{2} \\right)^{\\otimes 2}$ such that $V^{\\dag} V = \\mathbf{1}$ (this last property actually ensures complete positivity). Equivalently, it admits a matrix representation with orthonormal columns"
   ]
  },
  {
   "cell_type": "markdown",
   "metadata": {},
   "source": [
    "NOTE TO SELF?: This isometry is a rectangular matrix that contains a subset of columns of the $U_{dilated}$ (see [2](#references)).\n"
   ]
  },
  {
   "cell_type": "markdown",
   "metadata": {},
   "source": [
    "NOTE TO SELF: Check that $V^{\\dag} V = \\mathbb{1}$ ensures complete positivity (look for a reference at least)"
   ]
  },
  {
   "cell_type": "markdown",
   "metadata": {},
   "source": [
    "\\begin{align*}\n",
    "V_{00} &= _S\\left< 0 \\right| V \\left| 0 \\right>_S = \\left< 0 \\right| \\left. 0 \\right>_S \\otimes \\left| 0 \\right>_E \\to \\begin{pmatrix} 1 \\\\ 0 \\end{pmatrix} \\\\\n",
    "V_{01} &= _S\\left< 0 \\right| V \\left| 1 \\right>_S = \\sqrt{1-p}  \\cancel{\\left< 0 \\right| \\left. 1 \\right>_S} \\otimes \\left| 0 \\right>_E  + \\sqrt{p} \\left< 0 \\right| \\left. 0 \\right>_S \\otimes \\left| 1 \\right>_E \\to \\begin{pmatrix} 0 \\\\ \\sqrt{p} \\end{pmatrix} \\\\\n",
    "V_{10} &= _S\\left< 1 \\right| V \\left| 0 \\right>_S = \\cancel{\\left< 1 \\right| \\left. 0 \\right>_S} \\otimes \\left| 0 \\right>_E \\to \\begin{pmatrix} 0 \\\\ 0 \\end{pmatrix} \\\\\n",
    "V_{11} &= _S\\left< 1 \\right| V \\left| 1 \\right>_S = \\sqrt{1-p} \\left< 1 \\right| \\left. 1 \\right>_S \\otimes \\left| 0 \\right>_E  + \\sqrt{p}  \\cancel{\\left< 1 \\right| \\left. 0 \\right>_S} \\otimes \\left| 1 \\right>_E \\to \\begin{pmatrix} \\sqrt{1-p} \\\\ 0 \\end{pmatrix}\n",
    "\n",
    "\\end{align*}"
   ]
  },
  {
   "cell_type": "markdown",
   "metadata": {},
   "source": [
    "As a result,"
   ]
  },
  {
   "cell_type": "markdown",
   "metadata": {},
   "source": [
    "\\begin{align*}\n",
    "\n",
    "V \\to \n",
    "\\begin{pmatrix} \n",
    "V_{00} & V_{01} \\\\\n",
    "V_{10} & V_{11}\n",
    "\\end{pmatrix} = \n",
    "\\begin{pmatrix} \n",
    "1 & 0 \\\\\n",
    "0 & \\sqrt{p} \\\\\n",
    "0 & \\sqrt{1-p} \\\\\n",
    "0 & 0 \n",
    "\n",
    "\\end{pmatrix}\n",
    "\\end{align*}"
   ]
  },
  {
   "cell_type": "markdown",
   "metadata": {},
   "source": [
    "Now, since $V$ is an isometric extension of $\\varepsilon[\\rho] = \\sum_i K_i \\rho K_i^{\\dag}$, we have $V =  \\sum_i K_i \\otimes \\left|i\\right>_E$, with $ \\{ \\left|i\\right>_E \\}$ some orthonormal basis of $\\mathcal{H}_E$ (see [1](#references)). Or, equivalently, $K_i = \\left( \\mathbf{1}_S \\otimes \\left< i \\right|_E \\right) V$ (intuitively, the projection $\\mathbf{1}_S \\otimes \\left<i \\right|_E $ selects the component of $V$ that corresponds to the $i$-th basis state in the environment). Since in our case $\\mathcal{H}_E$ is two-dimensional, we will have two Kraus operators $K_0, K_1$.\n"
   ]
  },
  {
   "cell_type": "markdown",
   "metadata": {},
   "source": [
    "One can easily compute the matrix elements of these two operators in the system space. For example,"
   ]
  },
  {
   "cell_type": "markdown",
   "metadata": {},
   "source": [
    "\\begin{align*}\n",
    "(K_0)_{00} = _S\\left< 0 \\right| \\mathbb{1}_S \\otimes _E\\left< 0 \\right| V  \\left| 0 \\right>_S = _S\\left< 0 \\right| \\otimes \\left(  \\left| 0 \\right>_S \\left< 0 \\right| \\left. 0 \\right>_E\\right) = \\left< 0 \\right| \\left. 0 \\right>_S \\otimes \\left< 0 \\right| \\left. 0 \\right>_E = 1.\n",
    "\\end{align*}"
   ]
  },
  {
   "cell_type": "markdown",
   "metadata": {},
   "source": [
    "Repeating this process for all four elements of each matrix, we arrive at the Kraus representation of the channel,"
   ]
  },
  {
   "cell_type": "markdown",
   "metadata": {},
   "source": [
    "\\begin{align*}\n",
    "K_0 = \\begin{pmatrix}\n",
    "1 & 0 \\\\\n",
    "0 & \\sqrt{1-p}\n",
    "\\end{pmatrix} \\hspace{20mm}\n",
    "K_1 = \\begin{pmatrix}\n",
    "0 & \\sqrt{p} \\\\\n",
    "0 & 0\n",
    "\\end{pmatrix}\n",
    "\\end{align*}"
   ]
  },
  {
   "cell_type": "markdown",
   "metadata": {},
   "source": [
    "In ket-bra notation,"
   ]
  },
  {
   "cell_type": "markdown",
   "metadata": {},
   "source": [
    "\\begin{align*}\n",
    "K_0 = \\left| 0 \\right> \\left< 0 \\right| + \\sqrt{1-p} \\left| 1 \\right> \\left< 1 \\right| \\\\\n",
    "K_1 = \\sqrt{p} \\left|0 \\right> \\left< 1 \\right|\n",
    "\\end{align*}"
   ]
  },
  {
   "cell_type": "markdown",
   "metadata": {},
   "source": [
    "Finally, it is straightforward to check that $K_0^{\\dag} K_0 + K_1^{\\dag} K_1 = \\mathbf{1}$ (ensuring trace preservation)."
   ]
  },
  {
   "cell_type": "markdown",
   "metadata": {},
   "source": [
    "This particular channel is widely known in quantum communication and information theory as the __amplitude damping channel__ (ADC)."
   ]
  },
  {
   "cell_type": "markdown",
   "metadata": {},
   "source": [
    "### Connecting the ME formalism with the Kraus decomposition.\n"
   ]
  },
  {
   "cell_type": "markdown",
   "metadata": {},
   "source": [
    "We saw previously that, under the quantum channel $\\varepsilon$, $\\rho$ evolves as"
   ]
  },
  {
   "cell_type": "markdown",
   "metadata": {},
   "source": [
    "\\begin{align*}\n",
    "\\rho(t) = \\sum_i K_i \\rho(0) K_i^{\\dag}\n",
    "\\end{align*}"
   ]
  },
  {
   "cell_type": "markdown",
   "metadata": {},
   "source": [
    "Assumming a general initial state $\\rho(0) = \\begin{pmatrix} \\rho_{00}(0) & \\rho_{01}(0) \\\\\\rho_{10}(0) & \\rho_{11}(0) \\end{pmatrix}$ we arrrive (using simple matrix product) at"
   ]
  },
  {
   "cell_type": "markdown",
   "metadata": {},
   "source": [
    "\\begin{align*}\n",
    "\\begin{pmatrix}\n",
    "\\rho_{00} (t) & \\rho_{01} (t) \\\\\n",
    "\\rho_{10} (t) & \\rho_{11} (t)\n",
    "\\end{pmatrix} = \n",
    "\n",
    "\\begin{pmatrix}\n",
    "\\rho_{00} (0) + p \\rho_{11}(0) & \\sqrt{1-p} \\rho_{01}(0) \\\\\n",
    "\\sqrt{1-p} \\rho_{10} (0) & (1-p) \\rho_{11}\n",
    "\\end{pmatrix}\n",
    "\\end{align*}"
   ]
  },
  {
   "cell_type": "markdown",
   "metadata": {},
   "source": [
    "which gives us the evolution of each matrix element of the density operator $\\rho$"
   ]
  },
  {
   "cell_type": "markdown",
   "metadata": {},
   "source": [
    "\\begin{align*}\n",
    "\\rho_{00} (t) &= \\rho_{00} (0) + p\\rho_{11}(0)  \\\\\n",
    "\\rho_{01} (t) &= \\rho_{01} (0) \\sqrt{1-p} \\\\\n",
    "\\rho_{10} (t) &= \\rho_{10} (0) \\sqrt{1-p} \\\\\n",
    "\\rho_{11}(t) &= \\rho_{11} (0) (1-p)\n",
    "\\end{align*}"
   ]
  },
  {
   "cell_type": "markdown",
   "metadata": {},
   "source": [
    "A quick comparison of the evolution of these elements under the amplitude damping channel $\\varepsilon$ with the one give by the dissipator $\\mathcal{D}$ in the Markovian ME, allows the connection of the transition probability $p$ with the spontaneous decay rate $\\gamma$ as $p = 1 - e^{-\\gamma t}$."
   ]
  },
  {
   "cell_type": "markdown",
   "metadata": {},
   "source": [
    "To sum everything up, this connection of the ADC with the ME lets us model the dissipator $\\mathcal{D}$ by implementing a quantum circuit that produces the transformation equations defined above. This can be done just by infering quantum gates from the transformation equations, without the need of an analytical expression of $U_{dilated}$. More complex dissipators (or channels) would not allow this inference and therefore the exact expression of $U_{dilated}$ would most likely be needed."
   ]
  },
  {
   "cell_type": "markdown",
   "metadata": {},
   "source": [
    "### Quantum circuit construction of the ADC.\n"
   ]
  },
  {
   "cell_type": "markdown",
   "metadata": {},
   "source": [
    "We seek to implement the following trasnformation equations"
   ]
  },
  {
   "cell_type": "markdown",
   "metadata": {},
   "source": [
    "\\begin{align*}\n",
    "\\left| 0 \\right>_S \\otimes \\left|0 \\right>_E &\\to \\left| 0 \\right>_S \\otimes \\left|0 \\right>_E \\\\\n",
    "\\left| 1 \\right>_S \\otimes \\left|0 \\right>_E &\\to \\sqrt{1- p} \\left| 1 \\right>_S \\otimes \\left|0 \\right>_E +  \\sqrt{p} \\left| 0 \\right>_S \\otimes \\left|1 \\right>_E\n",
    "\\end{align*}"
   ]
  },
  {
   "cell_type": "markdown",
   "metadata": {},
   "source": [
    "The enlargement of the Hilbert space will imply a widening of the circuit, due to the additional `QuantumRegister` containing the ancilla qubit. Remember that this qubit does not need to represent anything physical, it is included just so that the total transformation $U_{\\text{dilated}}$ is unitary (and therefore implementable as a `QuantumCircuit`). The quantum circuit implementing this $U_{\\text{dilated}}$ must be one that after tracing over this auxiliary register, outputs the system desired state $\\rho$.\n",
    "\n"
   ]
  },
  {
   "cell_type": "markdown",
   "metadata": {},
   "source": [
    "First, notice how the circuit should leave the state $\\left| 0 \\right>_S $ untouched while putting $\\left| 1 \\right>_S$ in a particular superposition of $\\left| 0 \\right>_S$ and $\\left| 1 \\right>_S$. The first idea of acting exclusively when the system is in $\\left| 1 \\right>_S$ suggests using a controlled gate. Additionally, the amplitudes $\\sqrt{1-p}$ and $\\sqrt{p}$ suggest using a $R_y (\\theta)$ gate with $\\theta$ satisfying $\\sin \\theta = \\sqrt{p}$, since "
   ]
  },
  {
   "cell_type": "markdown",
   "metadata": {},
   "source": [
    "\\begin{align*}\n",
    "R_y (\\theta) \\left| 0 \\right> = \\cos \\theta \\left|0 \\right> + \\sin \\theta \\left| 1 \\right>\n",
    "\\end{align*} "
   ]
  },
  {
   "cell_type": "markdown",
   "metadata": {},
   "source": [
    "Finally, notice how in the last summand of the second equation, when the environment is in $\\left| 1 \\right>$, the system state is flipped from $\\left| 1 \\right>$ to $\\left| 0 \\right>$. This suggests using a CX gate on the system, controlled by the ancilla. "
   ]
  },
  {
   "cell_type": "markdown",
   "metadata": {},
   "source": [
    "Putting everything together, the circuit modeling $\\varepsilon$ (and therefore $\\mathcal{D}$) is the one below."
   ]
  },
  {
   "cell_type": "code",
   "execution_count": 1,
   "metadata": {},
   "outputs": [
    {
     "data": {
      "image/png": "[encoded data removed]",
      "text/plain": [
       "<Figure size 436.286x284.278 with 1 Axes>"
      ]
     },
     "execution_count": 1,
     "metadata": {},
     "output_type": "execute_result"
    }
   ],
   "source": [
    "from qiskit import QuantumCircuit, QuantumRegister, ClassicalRegister\n",
    "from qiskit.circuit import Parameter\n",
    "import matplotlib.pyplot as plt\n",
    "plt.rcParams['text.usetex'] = True\n",
    "plt.rcParams['figure.dpi'] = 100\n",
    "plt.rcParams['savefig.dpi'] = 600\n",
    "\n",
    "system = QuantumRegister(1, 'q')\n",
    "ancilla = QuantumRegister(1, 'a')\n",
    "classical = ClassicalRegister(1, 'c')\n",
    "\n",
    "theta = Parameter('$\\\\theta (t)$') \n",
    "\n",
    "qc = QuantumCircuit(system, ancilla, classical)\n",
    "qc.cry(theta, system, ancilla)\n",
    "qc.cx(ancilla, system)\n",
    "qc.reset(ancilla)\n",
    "qc.measure(system, classical)\n",
    "\n",
    "a = qc.draw('mpl')\n",
    "a.savefig('fig1b', bbox_inches='tight')\n",
    "a"
   ]
  },
  {
   "cell_type": "markdown",
   "metadata": {},
   "source": [
    "Here the reset operation on the ancilla register mimics the partial trace operation over the environment degrees of freedom in the ME formalism.\n",
    "\n"
   ]
  },
  {
   "cell_type": "markdown",
   "metadata": {},
   "source": [
    "## Extra: Studying the evolution of the matrix elements under ME and QC evolution."
   ]
  },
  {
   "cell_type": "code",
   "execution_count": 2,
   "metadata": {},
   "outputs": [
    {
     "data": {
      "image/png": "[encoded data removed]",
      "text/plain": [
       "<Figure size 640x480 with 1 Axes>"
      ]
     },
     "metadata": {},
     "output_type": "display_data"
    }
   ],
   "source": [
    "from qutip import sigmam, sigmap, basis, mesolve\n",
    "import numpy as np\n",
    "from utils.get_kraus_TEST import get_kraus\n",
    "from sympy import Matrix, sqrt, zeros\n",
    "from sympy.physics.quantum import TensorProduct\n",
    "from utils.generate_complementary_colors import generate_complementary_colors\n",
    "from qutip import Qobj, ptrace, tensor\n",
    "\n",
    "import matplotlib.pyplot as plt\n",
    "plt.rcParams['text.usetex'] = True\n",
    "plt.rcParams['figure.dpi'] = 100\n",
    "plt.rcParams['savefig.dpi'] = 600\n",
    "plt.rcParams.update({'font.size': 15})\n",
    "\n",
    "\n",
    "omega_m = 1.2\n",
    "omega_c = 1.1\n",
    "gamma = 0.8*(10**-6)\n",
    "kappa = 0.2\n",
    "g = 0.03\n",
    "delta = omega_m - omega_c\n",
    "gamma_eff = gamma + (kappa*(g**2))/((0.5*kappa)**2 + delta**2)\n",
    "\n",
    "t = np.linspace(0, 750, 50)\n",
    "\n",
    "h = 0*sigmam()\n",
    "rho0 = (1/np.sqrt(2))*(basis(2,1) + basis(2,0))\n",
    "lind = np.sqrt(gamma_eff)*sigmam()\n",
    "obs = sigmap()*sigmam()\n",
    "\n",
    "result = mesolve(h, rho0, t, lind, obs, options = {'store_states' : True})\n",
    "ME_density_matrices = [ state if state.isoper else state.proj() for state in result.states ]\n",
    "\n",
    "############\n",
    "ket_0 = Matrix([[1],[0]])\n",
    "ket_1 = Matrix([[0],[1]])\n",
    "\n",
    "cx = Matrix([[1, 0, 0, 0],\n",
    "             [0, 0, 0, 1],\n",
    "             [0, 0, 1, 0],\n",
    "             [0, 1, 0, 0]])\n",
    "# cx = Matrix([[1, 0, 0, 0],\n",
    "#               [0, 1, 0, 0],\n",
    "#               [0, 0, 0, 1],\n",
    "#               [0, 0, 1, 0]])\n",
    "\n",
    "\n",
    "kraus_reset = [Matrix([[1, 0],[0, 0]]), Matrix([[0, 1],[0, 0]])]\n",
    "dilated_kraus_reset = [TensorProduct(Matrix([[1,0],[0,1]]), k) for k in kraus_reset]\n",
    "\n",
    "kraus_density_matrices = []\n",
    "qc_density_matrices = []\n",
    "\n",
    "for instant in t:\n",
    "    p = 1 - np.exp(-gamma_eff*instant)\n",
    "    theta = 2*np.arcsin(np.sqrt(p))\n",
    "\n",
    "    # cry = Matrix([[1, 0, 0, 0],\n",
    "    #               [0, np.cos(theta/2), 0, -np.sin(theta/2)],\n",
    "    #               [0, 0, 1, 0],\n",
    "    #               [0, np.sin(theta/2), 0, np.cos(theta/2)]])\n",
    "    \n",
    "    cry = Matrix([[1, 0, 0, 0],\n",
    "                  [0, 1, 0, 0],\n",
    "                  [0, 0, np.cos(theta/2), -np.sin(theta/2)],\n",
    "                  [0, 0, np.sin(theta/2), np.cos(theta/2)]])\n",
    "\n",
    "    first_prime = TensorProduct(ket_0, ket_0) \n",
    "    second_prime = sqrt(1-p)*TensorProduct(ket_1, ket_0) + sqrt(p)*TensorProduct(ket_0, ket_1)\n",
    "\n",
    "    transformed_kets = [first_prime, second_prime]\n",
    "    base = 'computational'\n",
    "    system_dim = 2\n",
    "    ancilla_dim = 2\n",
    "\n",
    "    kraus = get_kraus(transformed_kets, base, system_dim, ancilla_dim, False)\n",
    "\n",
    "    rho = ME_density_matrices[0]\n",
    "    rho = kraus[0]*rho*kraus[0].transpose() + kraus[1]*rho*kraus[1].transpose()\n",
    "    rho_to_np_array = np.array(rho, dtype = complex)\n",
    "    kraus_density_matrices.append(np.abs(rho_to_np_array))\n",
    "\n",
    "    ##########\n",
    "\n",
    "    #initial_state = tensor(rho0, basis(2,1))\n",
    "    #rho = Matrix(initial_state*initial_state.dag())\n",
    "    rho = TensorProduct(Matrix(ME_density_matrices[0]), Matrix([[1, 0],[0, 0]]))\n",
    "    rho = cry*rho*cry.transpose()\n",
    "    rho = cx*rho*cx.transpose()\n",
    "    rho = dilated_kraus_reset[0]*rho*dilated_kraus_reset[0].transpose() + dilated_kraus_reset[1]*rho*dilated_kraus_reset[1].transpose()\n",
    "    rho_to_qobj = Qobj(rho)\n",
    "    reduced_rho = ptrace(Qobj(rho, dims=[[2, 2], [2, 2]]), 0)\n",
    "    reduced_rho_to_np_array = reduced_rho.full()\n",
    "    qc_density_matrices.append(np.abs(reduced_rho_to_np_array))\n",
    "\n",
    "\n",
    "colors = generate_complementary_colors(4, 'default', 'maroon')\n",
    "tags = ['00', '01', '10', '11']\n",
    "counter = 0\n",
    "for i in range(2):\n",
    "    for j in range(2):\n",
    "        if (i,j) == (0,0):\n",
    "            ME_elements = [ np.abs(ME_density_matrices[idx].full())[1][1] for idx in range(len(t))]\n",
    "        elif (i,j) == (1,1):\n",
    "            ME_elements = [ ME_density_matrices[idx][0][0] for idx in range(len(t))]\n",
    "        else:\n",
    "            ME_elements = [ ME_density_matrices[idx][i][j] for idx in range(len(t))]\n",
    "        kraus_elements = [ kraus_density_matrices[idx][i][j] for idx in range(len(t))]\n",
    "        qc_elements = [ qc_density_matrices[idx][i][j] for idx in range(len(t))]\n",
    "\n",
    "        adim_t = gamma_eff*t\n",
    "        # plt.plot(t[0:-3:3], ME_elements[0:-3:3], color = colors[counter], linestyle = 'none', marker = 'o', markersize = 6, alpha = 0.2)\n",
    "        plt.plot(adim_t, ME_elements, color = colors[counter], linestyle = 'solid', markersize = 6)\n",
    "        plt.plot(adim_t[1:-2:4], kraus_elements[1:-2:4], color = colors[counter], linestyle = 'none', marker = 's', alpha = 0.6)\n",
    "        plt.plot(adim_t[3:-1:4], qc_elements[3:-1:4], color = colors[counter], linestyle = 'none', marker = '^')\n",
    "        #plt.plot(np.NaN, np.NaN, color = colors[counter], linestyle = 'none', marker = 'o', label = f'$\\\\rho_{{{i}{j}}} (t)$')\n",
    "\n",
    "        counter = counter + 1\n",
    "plt.plot(np.NaN, np.NaN, color = 'black', linestyle = 'solid', label = f'Master equation', alpha = 0.2)\n",
    "plt.plot(np.NaN, np.NaN, color = 'black', linestyle = 'none', marker = 's', label = f'Kraus')\n",
    "plt.plot(np.NaN, np.NaN, color = 'black', linestyle = 'none', marker = '^',label = f'Quantum circuit')\n",
    "plt.xlabel('$\\\\tilde{\\\\gamma}_0 t$')\n",
    "#plt.legend(loc='upper center', bbox_to_anchor=(0.5, -0.1), frameon=False)\n",
    "plt.legend(frameon=False)\n",
    "plt.savefig('fig1c_rescaled', bbox_inches='tight')\n",
    "plt.show()"
   ]
  },
  {
   "cell_type": "code",
   "execution_count": 7,
   "metadata": {},
   "outputs": [],
   "source": [
    "from qutip import sigmam, sigmap, basis, mesolve\n",
    "import numpy as np\n",
    "from utils.get_kraus_TEST import get_kraus\n",
    "from sympy import Matrix, sqrt, zeros\n",
    "from sympy.physics.quantum import TensorProduct\n",
    "from utils.generate_complementary_colors import generate_complementary_colors\n",
    "from qutip import Qobj, ptrace, tensor\n",
    "from qiskit import QuantumCircuit, QuantumRegister, ClassicalRegister, generate_preset_pass_manager\n",
    "from qiskit.circuit import Parameter\n",
    "from qiskit_aer import AerSimulator\n",
    "from qiskit_ibm_runtime import SamplerV2\n",
    "from qiskit_ibm_runtime.fake_provider import FakeMarrakesh\n",
    "from utils.isa_cdr import get_populations\n",
    "\n",
    "import matplotlib.pyplot as plt\n",
    "plt.rcParams['text.usetex'] = True\n",
    "plt.rcParams['figure.dpi'] = 100\n",
    "plt.rcParams['savefig.dpi'] = 600\n",
    "plt.rcParams.update({'font.size': 15})\n",
    "\n",
    "omega_m = 1.2\n",
    "omega_c = 1.1\n",
    "gamma = 0.8*(10**-6)\n",
    "kappa = 0.2\n",
    "g = 0.03\n",
    "delta = omega_m - omega_c\n",
    "gamma_eff = gamma + (kappa*(g**2))/((0.5*kappa)**2 + delta**2)\n",
    "t = np.linspace(0, 750, 50)\n",
    "\n",
    "h = 0*sigmam()\n",
    "rho0 = basis(2,0)\n",
    "lind = np.sqrt(gamma_eff)*sigmam()\n",
    "obs = sigmap()*sigmam()\n",
    "result = mesolve(h, rho0, t, lind, obs)\n",
    "qutip_evs = result.expect[0]\n",
    "\n",
    "system = QuantumRegister(1, 'q')\n",
    "ancilla = QuantumRegister(1, 'a')\n",
    "cbits = ClassicalRegister(1, 'c')\n",
    "\n",
    "delta_t = Parameter('$t$') \n",
    "theta = (((1 - (-delta_t*gamma_eff).exp())**(1/2)).arcsin())*2\n",
    "\n",
    "qc = QuantumCircuit(system, ancilla, cbits)\n",
    "qc.x(system)\n",
    "qc.cry(theta, system, ancilla)\n",
    "qc.cx(ancilla, system)\n",
    "qc.reset(ancilla)\n",
    "qc.measure_all(system)\n",
    "\n",
    "optimization_level = 3\n",
    "noiseless_backend = AerSimulator()\n",
    "noisy_backend = FakeMarrakesh()\n",
    "\n",
    "pm = generate_preset_pass_manager(optimization_level, noisy_backend)\n",
    "isa_qc = pm.run(qc)\n",
    "pubs = [(isa_qc, x) for x in t]\n",
    "\n",
    "exact_sampler = SamplerV2(mode = noiseless_backend)\n",
    "noisy_sampler = SamplerV2(mode = noisy_backend)\n",
    "\n",
    "exact_job = exact_sampler.run(pubs)\n",
    "exact_result = exact_job.result()\n",
    "exact_evs, std = get_populations(1, exact_result)\n",
    "\n",
    "noisy_job = noisy_sampler.run(pubs)\n",
    "noisy_result = noisy_job.result()\n",
    "noisy_evs, std = get_populations(1, noisy_result)"
   ]
  },
  {
   "cell_type": "code",
   "execution_count": 8,
   "metadata": {},
   "outputs": [
    {
     "data": {
      "image/png": "[encoded data removed]",
      "text/plain": [
       "<Figure size 640x480 with 1 Axes>"
      ]
     },
     "metadata": {},
     "output_type": "display_data"
    }
   ],
   "source": [
    "plt.plot(gamma_eff*t[0:-2:2], qutip_evs[0:-2:2], color = 'darkgrey', linestyle = 'solid', linewidth = 2.5, label = f'Exact solution')\n",
    "plt.plot(gamma_eff*t[0:-2:2], exact_evs['0'][0:-2:2], color = 'hotpink', linestyle = 'none', marker = 's', label = f'Classical simulation')\n",
    "plt.plot(gamma_eff*t[1:-1:2], noisy_evs['0'][1:-1:2], color = 'turquoise', linestyle = 'none', marker = '^',label = f'Quantum experiment')\n",
    "plt.xlabel('$\\\\tilde{\\\\gamma} t$')\n",
    "plt.ylabel('population of $\\\\left |1 \\\\right>_q$')\n",
    "#plt.legend(loc='upper center', bbox_to_anchor=(0.5, -0.1), frameon=False)\n",
    "plt.legend(frameon=False)\n",
    "plt.savefig('poster_single_qubit', bbox_inches='tight')\n",
    "plt.show()"
   ]
  },
  {
   "cell_type": "markdown",
   "metadata": {},
   "source": [
    "pintar el abs y ponerlo en la fig\n"
   ]
  },
  {
   "cell_type": "markdown",
   "metadata": {},
   "source": [
    "NOTE TO SELF: Maybe add to the plot the evolution of the system density matrix elements under the matrix representation of the circuit."
   ]
  },
  {
   "cell_type": "markdown",
   "metadata": {},
   "source": [
    "## One step further. Adding incoherent pumping.\n"
   ]
  },
  {
   "cell_type": "markdown",
   "metadata": {},
   "source": [
    "In this case, the ME becomes"
   ]
  },
  {
   "cell_type": "markdown",
   "metadata": {},
   "source": [
    "\\begin{align*}\n",
    "\\frac{d\\rho_S}{dt} = -i[H_S + H_{LS}, \\rho_S] + \\mathcal{D}_{0}(\\gamma) [\\rho_S] + \\mathcal{D}_{0}(\\Lambda) [\\rho_S]\n",
    "\\end{align*} "
   ]
  },
  {
   "cell_type": "markdown",
   "metadata": {},
   "source": [
    "where we added the parameter dependency on the dissipators to differentiate the spontaneous decay with the pumping. This last term is defined as (see [3](#references))"
   ]
  },
  {
   "cell_type": "markdown",
   "metadata": {},
   "source": [
    "\\begin{align*}\n",
    "\\mathcal{D}_0 (\\Lambda) [\\rho_S] = \\Lambda \\left( \\sigma^{\\dag} \\rho_S \\sigma - \\frac{1}{2} \\left\\lbrace \\sigma \\sigma^{\\dag}, \\rho_S \\right\\rbrace \\right)\n",
    "\\end{align*}"
   ]
  },
  {
   "cell_type": "markdown",
   "metadata": {},
   "source": [
    "where $\\Lambda$ is the pumping rate."
   ]
  },
  {
   "cell_type": "markdown",
   "metadata": {},
   "source": [
    "Once again, we set $H$ and $\\mathcal{D}_0 (\\gamma)$ to zero just to see the effect of this new dissipator on the density matrix elements."
   ]
  },
  {
   "cell_type": "markdown",
   "metadata": {},
   "source": [
    "\n",
    "\\begin{align*}\n",
    "\\frac{d\\rho}{dt} = \\mathcal{D}_0 (\\Lambda) [\\rho_S]  \\rightarrow\n",
    "\\frac{d}{dt} \\begin{pmatrix}\n",
    "\\rho_{00} & \\rho_{01} \\\\\n",
    "\\rho_{10} & \\rho_{11}\n",
    "\\end{pmatrix} = \\begin{pmatrix}\n",
    "-\\Lambda \\rho_{00} & -\\frac{\\Lambda}{2} \\rho_{01} \\\\\n",
    "-\\frac{\\Lambda}{2} \\rho_{10} & \\Lambda \\rho_{00}\n",
    "\\end{pmatrix}.\n",
    "\\end{align*} "
   ]
  },
  {
   "cell_type": "markdown",
   "metadata": {},
   "source": [
    "From this, we get the following system of differential equations for the matrix elements"
   ]
  },
  {
   "cell_type": "markdown",
   "metadata": {},
   "source": [
    "\\begin{cases}\n",
    "\\frac{d \\rho_{00}}{dt} = -\\Lambda \\rho_{00} \\\\\n",
    "\\frac{d \\rho_{01}}{dt} = - \\frac{\\Lambda}{2} \\rho_{01} \\\\\n",
    "\\frac{d \\rho_{10}}{dt} = - \\frac{\\Lambda}{2} \\rho_{10} \\\\\n",
    "\\frac{d \\rho_{11}}{dt} = \\Lambda \\rho_{00}\n",
    "\\end{cases}"
   ]
  },
  {
   "cell_type": "markdown",
   "metadata": {},
   "source": [
    "with solutions"
   ]
  },
  {
   "cell_type": "markdown",
   "metadata": {},
   "source": [
    "\\begin{align*}\n",
    "\\rho_{00} (t) &= \\rho_{00} (0) e^{-\\Lambda t} \\\\\n",
    "\\rho_{01} (t) &= \\rho_{01} (0) e^{-\\frac{\\Lambda}{2} t} \\\\\n",
    "\\rho_{10} (t) &= \\rho_{10} (0) e^{-\\frac{\\Lambda}{2} t} \\\\\n",
    "\\rho_{11}(t) &= \\rho_{11} (0) + \\rho_{00}(0) \\left( 1 - e^{-\\Lambda t} \\right)\n",
    "\\end{align*}"
   ]
  },
  {
   "cell_type": "markdown",
   "metadata": {},
   "source": [
    "Interpreting once again the diagonal elements of the density operator as the populations of states $\\left| 0\\right> ( \\rho_{00})$ and $\\left| 1\\right> ( \\rho_{11})$, one may infer that the effect of the dissipator on the system is the reverse to that of the decay i.e., to transfer population from the state $\\left| 0\\right>$ to $\\left| 1 \\right>$ at rate $1 - e^{-\\Lambda t}$."
   ]
  },
  {
   "cell_type": "markdown",
   "metadata": {},
   "source": [
    "Analogously, we can define a quantum 'excitation' channel $\\varphi$ in the enlarged Hilbert space $\\mathcal{H}_S \\otimes \\mathcal{H}_E$ that performs the transformations"
   ]
  },
  {
   "cell_type": "markdown",
   "metadata": {},
   "source": [
    "\\begin{align*}\n",
    "\\left| 1 \\right>_S \\otimes \\left|0 \\right>_E &\\to \\left| 1 \\right>_S \\otimes \\left|0 \\right>_E \\\\\n",
    "\\left| 0 \\right>_S \\otimes \\left|0 \\right>_E &\\to \\sqrt{1- q} \\left| 0 \\right>_S \\otimes \\left|0 \\right>_E +  \\sqrt{q} \\left| 1 \\right>_S \\otimes \\left|1 \\right>_E\n",
    "\\end{align*}"
   ]
  },
  {
   "cell_type": "markdown",
   "metadata": {},
   "source": [
    "where $q$ is the probability of exciting $\\left| 0\\right>_S$ to $\\left| 1\\right>_S$."
   ]
  },
  {
   "cell_type": "markdown",
   "metadata": {},
   "source": [
    "The Stinespring dilation of this channel $W$ admits a rectangular matrix representation"
   ]
  },
  {
   "cell_type": "markdown",
   "metadata": {},
   "source": [
    "\\begin{align*}\n",
    "\n",
    "W \\to \n",
    "\\begin{pmatrix} \n",
    "\\sqrt{1-q} & 0 \\\\\n",
    "0 & 0 \\\\\n",
    "0 & 1 \\\\\n",
    "\\sqrt{q} & 0 \n",
    "\n",
    "\\end{pmatrix}\n",
    "\\end{align*}"
   ]
  },
  {
   "cell_type": "markdown",
   "metadata": {},
   "source": [
    "from which we can retrieve a set of Kraus operators for the channel $\\varphi$"
   ]
  },
  {
   "cell_type": "markdown",
   "metadata": {},
   "source": [
    "\\begin{align*}\n",
    "M_0 = \\begin{pmatrix}\n",
    "\\sqrt{1-q} & 0 \\\\\n",
    "0 & 1\n",
    "\\end{pmatrix} \\hspace{20mm}\n",
    "M_1 = \\begin{pmatrix}\n",
    "0 & 0 \\\\\n",
    "\\sqrt{q} & 0\n",
    "\\end{pmatrix}\n",
    "\\end{align*}"
   ]
  },
  {
   "cell_type": "markdown",
   "metadata": {},
   "source": [
    "under which $\\rho (t)$ evolves as"
   ]
  },
  {
   "cell_type": "markdown",
   "metadata": {},
   "source": [
    "\\begin{align*}\n",
    "\\rho(t) = \\sum_i M_i \\rho(0) M_i^{\\dag} \\to \n",
    "\\begin{pmatrix}\n",
    "\\rho_{00} (t) & \\rho_{01} (t) \\\\\n",
    "\\rho_{10} (t) & \\rho_{11} (t)\n",
    "\\end{pmatrix} = \n",
    "\n",
    "\\begin{pmatrix}\n",
    "(1-q) \\rho_{00} (0) & \\sqrt{1-q} \\rho_{01}(0) \\\\\n",
    "\\sqrt{1-q} \\rho_{10} (0) & \\rho_{11} (0) + q \\rho_{00} (0)\n",
    "\\end{pmatrix}\n",
    "\\end{align*}"
   ]
  },
  {
   "cell_type": "markdown",
   "metadata": {},
   "source": [
    "This allows us to connect the excitation probability $q$ with the pumping rate $\\Lambda$ as $q = 1 - e^{-\\Lambda t}$."
   ]
  },
  {
   "cell_type": "markdown",
   "metadata": {},
   "source": [
    "From the transformation equations standpoint, this dissipators works as a reverse ADC; it acts only when the system is in $\\left| 0 \\right>$. After that, it performs the same amplitude modifications and flips than the regular ADC. This suggest using the same quantum circuit that we used for the ADC, and simply change the controlled-$R_y(\\phi)$ to an 'anti-controlled'-$R_y(\\phi)$ (i.e., a controlled gate with control state set on $\\left|0 \\right>$ instead of the usual $\\left| 1 \\right>$), with $\\phi$ satisfying $\\sin \\phi = \\sqrt{q}$."
   ]
  },
  {
   "cell_type": "code",
   "execution_count": 1,
   "metadata": {},
   "outputs": [
    {
     "data": {
      "image/png": "[encoded data removed]",
      "text/plain": [
       "<Figure size 519.897x200.667 with 1 Axes>"
      ]
     },
     "execution_count": 1,
     "metadata": {},
     "output_type": "execute_result"
    }
   ],
   "source": [
    "from qiskit import QuantumCircuit, QuantumRegister\n",
    "from qiskit.circuit import Parameter\n",
    "\n",
    "system = QuantumRegister(1, 'q')\n",
    "ancilla = QuantumRegister(1, 'a')\n",
    "\n",
    "phi = Parameter('$\\\\phi$') \n",
    "\n",
    "qc = QuantumCircuit(system, ancilla)\n",
    "qc.x(system)\n",
    "qc.cry(phi, system, ancilla)\n",
    "qc.x(system)\n",
    "qc.cx(ancilla, system)\n",
    "qc.reset(ancilla)\n",
    "\n",
    "qc.draw('mpl')"
   ]
  },
  {
   "cell_type": "markdown",
   "metadata": {},
   "source": [
    "## Combining both channels (spontaneous decay and incoherent pumping)"
   ]
  },
  {
   "cell_type": "markdown",
   "metadata": {},
   "source": [
    "The exclusively-dissipative ME under spontaneous decay and incoherent pumping reads"
   ]
  },
  {
   "cell_type": "markdown",
   "metadata": {},
   "source": [
    "\\begin{align*}\n",
    "\\frac{d\\rho_S}{dt} = \\mathcal{D}_{0}(\\gamma) [\\rho_S] + \\mathcal{D}_{0}(\\Lambda) [\\rho_S]\n",
    "\\end{align*} "
   ]
  },
  {
   "cell_type": "markdown",
   "metadata": {},
   "source": [
    "which yields the following system of differential equations for the density matrix elements"
   ]
  },
  {
   "cell_type": "markdown",
   "metadata": {},
   "source": [
    "\\begin{cases}\n",
    "\\frac{d \\rho_{00}}{dt} = \\gamma \\rho_{11} -\\Lambda \\rho_{00} \\\\\n",
    "\\frac{d \\rho_{01}}{dt} = - \\left( \\frac{\\gamma}{2} - \\frac{\\Lambda}{2} \\right)\\rho_{01} \\\\\n",
    "\\frac{d \\rho_{10}}{dt} = - \\left( \\frac{\\gamma}{2} - \\frac{\\Lambda}{2} \\right) \\rho_{10} \\\\\n",
    "\\frac{d \\rho_{11}}{dt} = - \\gamma \\rho_{11} + \\Lambda \\rho_{00}\n",
    "\\end{cases}"
   ]
  },
  {
   "cell_type": "markdown",
   "metadata": {},
   "source": [
    "With solutions"
   ]
  },
  {
   "cell_type": "markdown",
   "metadata": {},
   "source": [
    "\\begin{align*}\n",
    "\\rho_{00} (t) &= \\rho_{00} (0) \\left( \\frac{\\gamma}{\\gamma + \\Lambda} + \\frac{\\Lambda}{\\gamma + \\Lambda} e^{-(\\gamma + \\Lambda)t} \\right) + \\rho_{11} (0) \\left(  \\frac{\\gamma}{\\gamma + \\Lambda} -   \\frac{\\gamma}{\\gamma + \\Lambda} e^{-(\\gamma + \\Lambda)t} \\right) \\\\\n",
    "\\rho_{01} (t) &= \\rho_{01} (0) e^{-\\frac{(\\gamma + \\Lambda)}{2}t} \\\\\n",
    "\\rho_{10} (t) &= \\rho_{10} (0) e^{-\\frac{(\\gamma + \\Lambda)}{2}t} \\\\\n",
    "\\rho_{11}(t) &= \\rho_{00} (0) \\left( \\frac{\\Lambda}{\\gamma + \\Lambda} - \\frac{\\Lambda}{\\gamma + \\Lambda} e^{-(\\gamma + \\Lambda)t} \\right) + \\rho_{11} (0) \\left(  \\frac{\\Lambda}{\\gamma + \\Lambda} +   \\frac{\\gamma}{\\gamma + \\Lambda} e^{-(\\gamma + \\Lambda)t} \\right)\n",
    "\\end{align*}"
   ]
  },
  {
   "cell_type": "markdown",
   "metadata": {},
   "source": [
    "For a small time evolution $t \\to t + \\Delta t$, the above solution can be approximated (expanding at first order the exponentials) as"
   ]
  },
  {
   "cell_type": "markdown",
   "metadata": {},
   "source": [
    "\\begin{align*}\n",
    "\\rho_{00} (t + \\Delta t) & \\approx \\rho_{00} (t) \\left( 1 - \\Lambda \\Delta t \\right) + \\rho_{11} (t) \\gamma \\Delta t \\\\\n",
    "\\rho_{01} ( t+ \\Delta t) & \\approx \\rho_{01} (t) \\left( 1 - \\frac{(\\gamma + \\Lambda)}{2} \\Delta t\\right) \\\\\n",
    "\\rho_{10} ( t+ \\Delta t) & \\approx \\rho_{10} (t) \\left( 1 - \\frac{(\\gamma + \\Lambda)}{2} \\Delta t\\right) \\\\\n",
    "\\rho_{11}( t+ \\Delta t) & \\approx \\rho_{00} (t) \\Lambda \\Delta t + \\rho_{11} (t) \\left(  1 - \\gamma \\Delta t \\right)\n",
    "\\end{align*}"
   ]
  },
  {
   "cell_type": "markdown",
   "metadata": {},
   "source": [
    "Now we would like to verify once again that we can connect the results from the evolution under the ME with those obtained after evolving $\\rho$ through the quantum channels $\\varphi$ and $\\varepsilon$. We will do this connection with too different approaches."
   ]
  },
  {
   "cell_type": "markdown",
   "metadata": {},
   "source": [
    "### First approach. Sequential application of the channels."
   ]
  },
  {
   "cell_type": "markdown",
   "metadata": {},
   "source": [
    "Starting from the Kraus demposition of $\\varepsilon$ and $\\varphi$ derived previously,"
   ]
  },
  {
   "cell_type": "markdown",
   "metadata": {},
   "source": [
    "\\begin{align*}\n",
    "K_0 = \\begin{pmatrix}\n",
    "1 & 0 \\\\\n",
    "0 & \\sqrt{1-p}\n",
    "\\end{pmatrix} \\hspace{20mm}\n",
    "K_1 = \\begin{pmatrix}\n",
    "0 & \\sqrt{p} \\\\\n",
    "0 & 0\n",
    "\\end{pmatrix}\n",
    "\\end{align*}"
   ]
  },
  {
   "cell_type": "markdown",
   "metadata": {},
   "source": [
    "\\begin{align*}\n",
    "M_0 = \\begin{pmatrix}\n",
    "\\sqrt{1-q} & 0 \\\\\n",
    "0 & 1\n",
    "\\end{pmatrix} \\hspace{20mm}\n",
    "M_1 = \\begin{pmatrix}\n",
    "0 & 0 \\\\\n",
    "\\sqrt{q} & 0\n",
    "\\end{pmatrix}\n",
    "\\end{align*}"
   ]
  },
  {
   "cell_type": "markdown",
   "metadata": {},
   "source": [
    "We can define the sequential channel $\\varphi \\circ \\varepsilon$ through his action on $\\rho$ as $\\varphi \\circ \\varepsilon [\\rho] \\equiv \\varepsilon [ \\varphi[\\rho]]$. Under this channel, $\\rho$ evolves from $t = 0$ to an arbitrary $t$ as"
   ]
  },
  {
   "cell_type": "markdown",
   "metadata": {},
   "source": [
    "\\begin{align*}\n",
    "\\rho(t) = \\sum_i K_i \\left( \\sum_j M_j \\rho(0) M_j^{\\dag} \\right) K_i^{\\dag}\n",
    "\\end{align*}"
   ]
  },
  {
   "cell_type": "markdown",
   "metadata": {},
   "source": [
    "With the matrix elements evolving as"
   ]
  },
  {
   "cell_type": "markdown",
   "metadata": {},
   "source": [
    "\\begin{align*}\n",
    "\\rho_{00} (t ) &= \\rho_{00} (0) \\left(p q + \\left[1 -q \\right] \\right)+ \\rho_{11} (0) p \\\\\n",
    "\\rho_{01} (t) &= \\rho_{01} (0) \\sqrt{1 - p} \\sqrt{1 - q} \\\\\n",
    "\\rho_{10} ( t) &= \\rho_{10} (0) \\sqrt{1 - p} \\sqrt{1 - q} \\\\\n",
    "\\rho_{11}( t) &= \\rho_{00} (0) q + \\rho_{11} (0) \\left(p q + \\left[1 -p \\right] \\right)\n",
    "\\end{align*}"
   ]
  },
  {
   "cell_type": "markdown",
   "metadata": {},
   "source": [
    "This evolution is not exactly the same as the one given by the ME for arbitrary $t$, as it can be readily seeen. However, if one assumes a small time evolution $t \\to t + \\Delta t$ and performs the approximations $\\sqrt{1 + x} \\approx 1 + \\frac{x}{2}$, $p = 1 - e^{-\\gamma t} \\approx \\gamma \\Delta t$ and $q \\approx \\Lambda \\Delta t$, neglects terms of second order in $\\Delta t$, then"
   ]
  },
  {
   "cell_type": "markdown",
   "metadata": {},
   "source": [
    "\\begin{align*}\n",
    "\\rho_{00} (t + \\Delta t) \\approx \\rho_{00} (t) \\left( 1 - \\Lambda \\Delta t \\right) + \\rho_{11} (t) \\gamma \\Delta t \\\\\n",
    "\\rho_{01} ( t+ \\Delta t) \\approx \\rho_{01} (t) \\left( 1 - \\frac{(\\gamma + \\Lambda)}{2} \\Delta t \\right) \\\\\n",
    "\\rho_{10} ( t+ \\Delta t) \\approx \\rho_{10} (t) \\left( 1 - \\frac{(\\gamma + \\Lambda)}{2} \\Delta t \\right) \\\\\n",
    "\\rho_{11}( t+ \\Delta t) \\approx \\rho_{00} (t) \\Lambda \\Delta t + \\rho_{11} (t) \\left(  1 - \\gamma \\Delta t \\right)\n",
    "\\end{align*}"
   ]
  },
  {
   "cell_type": "markdown",
   "metadata": {},
   "source": [
    "And we get exactly the same approximate form for the evolution of the density matrix as in the ME."
   ]
  },
  {
   "cell_type": "markdown",
   "metadata": {},
   "source": [
    "### Second approach. Defining a new combined channel."
   ]
  },
  {
   "cell_type": "markdown",
   "metadata": {},
   "source": [
    "Starting from the transformation equations for each channel,"
   ]
  },
  {
   "cell_type": "markdown",
   "metadata": {},
   "source": [
    "\\begin{align*}\n",
    "\\left| 0 \\right>_S \\otimes \\left|0 \\right>_E &\\to \\left| 0 \\right>_S \\otimes \\left|0 \\right>_E \\\\\n",
    "\\left| 1 \\right>_S \\otimes \\left|0 \\right>_E &\\to \\sqrt{1- p} \\left| 1 \\right>_S \\otimes \\left|0 \\right>_E +  \\sqrt{p} \\left| 0 \\right>_S \\otimes \\left|1 \\right>_E\n",
    "\\end{align*}"
   ]
  },
  {
   "cell_type": "markdown",
   "metadata": {},
   "source": [
    "\n",
    "\\begin{align*}\n",
    "\\left| 1 \\right>_S \\otimes \\left|0 \\right>_E &\\to \\left| 1 \\right>_S \\otimes \\left|0 \\right>_E \\\\\n",
    "\\left| 0 \\right>_S \\otimes \\left|0 \\right>_E &\\to \\sqrt{1- q} \\left| 0 \\right>_S \\otimes \\left|0 \\right>_E +  \\sqrt{q} \\left| 1 \\right>_S \\otimes \\left|1 \\right>_E\n",
    "\\end{align*}"
   ]
  },
  {
   "cell_type": "markdown",
   "metadata": {},
   "source": [
    "we can define a new channel $\\psi$ commbining the effect of the previous two in a single set of transformation equations,"
   ]
  },
  {
   "cell_type": "markdown",
   "metadata": {},
   "source": [
    "\n",
    "\\begin{align*}\n",
    "\\left| 0 \\right>_S \\otimes \\left|0 \\right>_E &\\to \\sqrt{1- q} \\left| 0 \\right>_S \\otimes \\left|0 \\right>_E +  \\sqrt{q} \\left| 1 \\right>_S \\otimes \\left|1 \\right>_E \\\\ \n",
    "\\left| 1 \\right>_S \\otimes \\left|0 \\right>_E &\\to \\sqrt{1- p} \\left| 1 \\right>_S \\otimes \\left|0 \\right>_E +  \\sqrt{p} \\left| 0 \\right>_S \\otimes \\left|1 \\right>_E\n",
    "\n",
    "\\end{align*}"
   ]
  },
  {
   "cell_type": "markdown",
   "metadata": {},
   "source": [
    "The Kraus decomposition of this channel can be achieved through a set of operators $\\left\\lbrace L_0, L_1 \\right\\rbrace$"
   ]
  },
  {
   "cell_type": "markdown",
   "metadata": {},
   "source": [
    "\\begin{align*}\n",
    "L_0 = \\begin{pmatrix}\n",
    "\\sqrt{1-q} & 0 \\\\\n",
    "0 & \\sqrt{1-p}\n",
    "\\end{pmatrix} \\hspace{20mm}\n",
    "L_1 = \\begin{pmatrix}\n",
    "0 & \\sqrt{p} \\\\\n",
    "\\sqrt{q} & 0\n",
    "\\end{pmatrix}\n",
    "\\end{align*}"
   ]
  },
  {
   "cell_type": "markdown",
   "metadata": {},
   "source": [
    "which yield the evolved density matrix"
   ]
  },
  {
   "cell_type": "markdown",
   "metadata": {},
   "source": [
    "\\begin{align*}\n",
    "\\rho(t) = \\sum_i L_i \\rho(0) L_i^{\\dag} \n",
    "\\end{align*}"
   ]
  },
  {
   "cell_type": "markdown",
   "metadata": {},
   "source": [
    "with matrix elements"
   ]
  },
  {
   "cell_type": "markdown",
   "metadata": {},
   "source": [
    "\\begin{align*}\n",
    "\\rho_{00} (t ) &= \\rho_{00} (0) \\left(1 -q \\right)+ \\rho_{11} (0) p \\\\\n",
    "\\rho_{01} (t) &= \\rho_{01} (0) \\sqrt{1 - p} \\sqrt{1 - q} + \\sqrt{p} \\sqrt{q} \\rho_{10} (0) \\\\\n",
    "\\rho_{10} ( t) &= \\rho_{10} (0) \\sqrt{1 - p} \\sqrt{1 - q} + \\sqrt{p} \\sqrt{q} \\rho_{01} (0) \\\\\n",
    "\\rho_{11}( t) &= \\rho_{00} (0) q + \\rho_{11} (0) \\left(1 -p \\right)\n",
    "\\end{align*}"
   ]
  },
  {
   "cell_type": "markdown",
   "metadata": {},
   "source": [
    "Again, these equations differ both from the previous approach and the ME. However, performing the short time step approximation we did in the previous approach, we arrive at"
   ]
  },
  {
   "cell_type": "markdown",
   "metadata": {},
   "source": [
    "\\begin{align*}\n",
    "...\n",
    "\\end{align*}"
   ]
  },
  {
   "cell_type": "markdown",
   "metadata": {},
   "source": [
    "NOTE TO SELF: I think I am missing something (idk what) since different set of Kraus operators musst yield the same evolution of the density matrix elements, ssince although different, they represent the same physical process. As a result, I should obtain the exact same results with both approaches, not only on the small time limit. Honestly think that the first is the correct one but from delRe, it seems like the second approach is the correct one, which does not really make sense to me."
   ]
  },
  {
   "cell_type": "markdown",
   "metadata": {},
   "source": [
    "### Circuit representation "
   ]
  },
  {
   "cell_type": "markdown",
   "metadata": {},
   "source": [
    "Knowing how both circuits work for $\\varepsilon$ and $\\varphi$\n",
    " (leftside of the barrier), it is easy to see that the exact same transformations can be implemented through a shallower circuit (rightside of the barrier)"
   ]
  },
  {
   "cell_type": "code",
   "execution_count": 5,
   "metadata": {},
   "outputs": [
    {
     "data": {
      "image/png": "[encoded data removed]",
      "text/plain": [
       "<Figure size 1021.56x200.667 with 1 Axes>"
      ]
     },
     "execution_count": 5,
     "metadata": {},
     "output_type": "execute_result"
    }
   ],
   "source": [
    "from qiskit import QuantumCircuit, QuantumRegister\n",
    "from qiskit.circuit import Parameter\n",
    "\n",
    "system = QuantumRegister(1, 'q')\n",
    "ancilla = QuantumRegister(1, 'a')\n",
    "\n",
    "phi = Parameter('$\\\\phi$') \n",
    "theta = Parameter('$\\\\theta$')\n",
    "\n",
    "qc = QuantumCircuit(system, ancilla)\n",
    "\n",
    "## raw combination \n",
    "\n",
    "qc.x(system)\n",
    "qc.cry(phi, system, ancilla)\n",
    "qc.x(system)\n",
    "qc.cry(theta, system, ancilla)\n",
    "qc.cx(ancilla, system)\n",
    "qc.reset(ancilla)\n",
    "\n",
    "qc.barrier()\n",
    "\n",
    "# simplified commbined channel\n",
    "\n",
    "qc.ry(phi, ancilla)\n",
    "qc.cry(theta-phi, system, ancilla)\n",
    "qc.cx(ancilla, system)\n",
    "qc.reset(ancilla)\n",
    "\n",
    "qc.draw('mpl')"
   ]
  },
  {
   "cell_type": "markdown",
   "metadata": {},
   "source": [
    "In this way, the $Ry(\\varphi)$ goes through if the system is in the ground state (since the controlled-$R_y (\\theta - \\phi)$ would not activate) but it gets undone and instead $R_y (\\theta)$ is applied if it is in $\\left| 1 \\right>_S$."
   ]
  },
  {
   "cell_type": "markdown",
   "metadata": {},
   "source": [
    "Another way to see that these two circuits are equivalent is by compairing the `Operator` associated to each of them"
   ]
  },
  {
   "cell_type": "code",
   "execution_count": 7,
   "metadata": {},
   "outputs": [
    {
     "data": {
      "text/plain": [
       "True"
      ]
     },
     "execution_count": 7,
     "metadata": {},
     "output_type": "execute_result"
    }
   ],
   "source": [
    "from qiskit import QuantumCircuit, QuantumRegister\n",
    "from qiskit.circuit import Parameter\n",
    "from qiskit.quantum_info import Operator\n",
    "\n",
    "system = QuantumRegister(1, 'q')\n",
    "ancilla = QuantumRegister(1, 'a')\n",
    "\n",
    "# Give the parameter random values\n",
    "\n",
    "phi = 0.2\n",
    "theta = 1\n",
    "\n",
    "## raw combination \n",
    "\n",
    "qc1 = QuantumCircuit(system, ancilla)\n",
    "qc1.x(system)\n",
    "qc1.cry(phi, system, ancilla)\n",
    "qc1.x(system)\n",
    "qc1.cry(theta, system, ancilla)\n",
    "qc1.cx(ancilla, system)\n",
    "\n",
    "# simplified commbined channel\n",
    "\n",
    "qc2 = QuantumCircuit(system, ancilla)\n",
    "qc2.ry(phi, ancilla)\n",
    "qc2.cry(theta-phi, system, ancilla)\n",
    "qc2.cx(ancilla, system)\n",
    "\n",
    "Operator.from_circuit(qc1) == Operator.from_circuit(qc2)"
   ]
  },
  {
   "cell_type": "markdown",
   "metadata": {},
   "source": [
    "NOTE TO SELF: It is important to remakr that, without the incoherent pumping, the channel is outputting correct off-diagonal elements in rho, i.ee., is exactly replicating the spontaneous decay dissipator. It is the combinantion of it with tthe incoherent pumping that is messing things up."
   ]
  },
  {
   "cell_type": "markdown",
   "metadata": {},
   "source": [
    "### [WIP] Proving circuit equivalency using Kraus operators."
   ]
  },
  {
   "cell_type": "markdown",
   "metadata": {},
   "source": [
    "The simplified version of the circuit representing the combined channel $\\varepsilon \\left[ \\varphi [\\rho] \\right]$ we obtained above is very similar to the one in [4](#rerferences)."
   ]
  },
  {
   "cell_type": "markdown",
   "metadata": {},
   "source": [
    "## References <a id='references'></a>\n"
   ]
  },
  {
   "cell_type": "markdown",
   "metadata": {},
   "source": [
    "[1] Lecture 13, October 7, 2015 on Quantum Information Theory by Professor Mark. M. Wilde"
   ]
  },
  {
   "cell_type": "markdown",
   "metadata": {},
   "source": [
    "[2] Quantum Information Theory - Quantum Channels by Nicholas Evgenidze (April 1, 2024)"
   ]
  },
  {
   "cell_type": "markdown",
   "metadata": {},
   "source": [
    "[3] A. Devi, et.al. Phys. Rev. A 105, 013701 (2022)."
   ]
  },
  {
   "cell_type": "markdown",
   "metadata": {},
   "source": [
    "[4] L. Del Re., et. al. Phys. Rev. B 102, 125112 (2020)."
   ]
  },
  {
   "cell_type": "markdown",
   "metadata": {},
   "source": []
  }
 ],
 "metadata": {
  "kernelspec": {
   "display_name": "Python 3",
   "language": "python",
   "name": "python3"
  },
  "language_info": {
   "codemirror_mode": {
    "name": "ipython",
    "version": 3
   },
   "file_extension": ".py",
   "mimetype": "text/x-python",
   "name": "python",
   "nbconvert_exporter": "python",
   "pygments_lexer": "ipython3",
   "version": "3.12.3"
  }
 },
 "nbformat": 4,
 "nbformat_minor": 2
}
