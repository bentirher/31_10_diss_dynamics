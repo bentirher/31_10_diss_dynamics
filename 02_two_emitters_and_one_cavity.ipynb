{
 "cells": [
  {
   "cell_type": "markdown",
   "metadata": {},
   "source": [
    "# Quantum circuit construction of the Markovian evolution of two identical quantum emitters coupled to a plasmonic nanocavity\n"
   ]
  },
  {
   "cell_type": "markdown",
   "metadata": {},
   "source": [
    "## Starting point: The Markovian Master Equation\n"
   ]
  },
  {
   "cell_type": "markdown",
   "metadata": {},
   "source": [
    "The Markovian master equation (ME) for two TLSs reads"
   ]
  },
  {
   "cell_type": "markdown",
   "metadata": {},
   "source": [
    "\n",
    "\\begin{align*}\n",
    "\\frac{d\\rho_S}{dt} = -i[H_S + H_{LS}, \\rho_S] + \\sum_{i = 0}^{1} \\mathcal{D}_{i} [\\rho_S] + \\mathcal{D}_{01} [\\rho_S]\n",
    "\\end{align*} \n"
   ]
  },
  {
   "cell_type": "markdown",
   "metadata": {},
   "source": [
    "where\n"
   ]
  },
  {
   "cell_type": "markdown",
   "metadata": {},
   "source": [
    "\n",
    "\\begin{align*}\n",
    "H_S + H_{LS} = \\sum_{i = 0}^{1} \\left[ \\omega_i + \\Delta^{(i)}  \\left( \\frac{g_i^2}{\\left( \\frac{\\kappa}{2}\\right)^2 + (\\Delta^{(i)})^2}\\right)\\right] \\sigma_i^{\\dag} \\sigma_i + \\bar{\\Delta} \\frac{2g_0g_1 }{\\left(\\frac{\\kappa}{2}\\right)^2 + (\\bar{\\Delta})^2} \\left( \\sigma_0^{\\dag} \\sigma_1 + \\sigma_0 \\sigma_1^{\\dag} \\right)\n",
    "\\end{align*} \n"
   ]
  },
  {
   "cell_type": "markdown",
   "metadata": {},
   "source": [
    "\n",
    "\\begin{align*}\n",
    "\\mathcal{D}_{i} [\\rho_S] = \\left( \\gamma_i + \\kappa  \\frac{g_i^2}{\\left( \\frac{\\kappa}{2}\\right)^2 + (\\Delta^{(i)})^2} \\right) \\left( \\sigma_i \\rho_S \\sigma_i^{\\dag} - \\frac{1}{2} \\left\\lbrace \\sigma_i^{\\dag} \\sigma_i, \\rho_S \\right\\rbrace \\right)\n",
    "\\end{align*} \n"
   ]
  },
  {
   "cell_type": "markdown",
   "metadata": {},
   "source": [
    "\n",
    "\\begin{align*}\n",
    "\\mathcal{D}_{01} [\\rho_S] = \\left(  \\kappa\\frac{g_0g_1}{\\left( \\frac{\\kappa}{2}\\right)^2 + (\\bar{\\Delta})^2} \\right) \\left( \\sigma_0 \\rho_S \\sigma_1^{\\dag} - \\frac{1}{2} \\left\\lbrace \\sigma_1^{\\dag} \\sigma_0, \\rho_S \\right\\rbrace \\right)\n",
    "\\end{align*} \n"
   ]
  },
  {
   "cell_type": "markdown",
   "metadata": {},
   "source": [
    "\n",
    "\\begin{align*}\n",
    "\\mathcal{D}_{10} [\\rho_S] = \\left( \\kappa \\frac{ g_0g_1}{\\left( \\frac{\\kappa}{2}\\right)^2 + (\\bar{\\Delta})^2} \\right) \\left( \\sigma_1 \\rho_S \\sigma_0^{\\dag} - \\frac{1}{2} \\left\\lbrace \\sigma_0^{\\dag} \\sigma_1, \\rho_S \\right\\rbrace \\right)\n",
    "\\end{align*} \n"
   ]
  },
  {
   "cell_type": "markdown",
   "metadata": {},
   "source": [
    "with $\\Delta^{(i)} \\equiv \\omega_i - \\omega_c$ and $\\bar{\\Delta} \\equiv (\\omega_0 + \\omega_1)/ 2 - \\omega_c$ the detunings of each emitter and the mean detuning, respectively. "
   ]
  },
  {
   "cell_type": "markdown",
   "metadata": {},
   "source": [
    "Defining the effective variables $\\tilde{\\omega}_i \\equiv \\omega_i + \\Delta^{(i)} \\left( \\frac{g_i^2  }{\\left( \\frac{\\kappa}{2}\\right)^2 + (\\Delta^{(i)})^2}\\right)$, $\\tilde{g} \\equiv \\bar{\\Delta} \\frac{2g_0g_1 }{\\left(\\frac{\\kappa}{2}\\right)^2 + (\\bar{\\Delta})^2}$, $\\tilde{\\gamma}_i \\equiv \\gamma_i + \\kappa\\frac{g_i^2 }{\\left( \\frac{\\kappa}{2}\\right)^2 + (\\Delta^{(i)})^2}$, $\\gamma_{01} \\equiv \\kappa \n",
    "\\frac{ g_0g_1 }{\\left( \\frac{\\kappa}{2}\\right)^2 + (\\bar{\\Delta})^2}$ we can rewrite the ME as "
   ]
  },
  {
   "cell_type": "markdown",
   "metadata": {},
   "source": [
    "$$ \n",
    "\\begin{align*}\n",
    "\\frac{d\\rho_S}{dt} =& -i\\left[\\sum_{i=0}^1 \\tilde{\\omega}_i \\sigma_i^{\\dag} \\sigma_i + \\tilde{g} \\left(\\sigma_0^{\\dag} \\sigma_1 + \\sigma_0 \\sigma_1^{\\dag} \\right), \\rho_S \\right] + \n",
    "\\sum_{i=0}^1 \\tilde{\\gamma}_i \\left( \\sigma_i \\rho_S \\sigma_i^{\\dag} - \\frac{1}{2} \\left\\lbrace \\sigma_i^{\\dag} \\sigma_i, \\rho_S \\right\\rbrace \\right) +\n",
    " \\gamma_{01} \\left( \\sigma_0 \\rho_S \\sigma_1^{\\dag} - \\frac{1}{2} \\left\\lbrace \\sigma_1^{\\dag} \\sigma_0, \\rho_S \\right\\rbrace  + \\sigma_1 \\rho_S \\sigma_0^{\\dag} - \\frac{1}{2} \\left\\lbrace \\sigma_0^{\\dag} \\sigma_1, \\rho_S \\right\\rbrace \\right)\n",
    "\\end{align*} \n",
    "$$"
   ]
  },
  {
   "cell_type": "markdown",
   "metadata": {},
   "source": [
    "As done in the previous notebook `01_one_emitter_and_one_cavity.ipynb`, from now on we will refer to $\\rho_S$ as $\\rho$ for simplicity and clarity purposes."
   ]
  },
  {
   "cell_type": "markdown",
   "metadata": {},
   "source": [
    "The two main differences between the ME for the single emitter case and this one are (1) the effective coupling between the emitters through $\\tilde{g}$ and (2) the cross dissipation term $\\gamma_{01}$. The first one goes into the Hamiltonian part of the circuit so we should not have much of a problem dealing with it. The second one, though, cannot be approached as of now with our previous quantum channel approach, since this dissipator is NOT in __Lindblad form__ (see [2](#references))"
   ]
  },
  {
   "cell_type": "markdown",
   "metadata": {},
   "source": [
    "\\begin{align*}\n",
    "\\mathcal{D} [\\rho] = \\sum_{i} L_i \\rho L_i^{\\dag} - \\frac{1}{2} \\left\\lbrace L_i^{\\dag} L_i, \\rho \\right\\rbrace\n",
    "\n",
    "\\end{align*}"
   ]
  },
  {
   "cell_type": "markdown",
   "metadata": {},
   "source": [
    "so its definition in term of single qubit decays is not clear at all. "
   ]
  },
  {
   "cell_type": "markdown",
   "metadata": {},
   "source": [
    "In order to rewrite the dissipator into something that ressembles the diagonal Lindblad form, we could try finding the basis where the superoperator $\\mathcal{D}_{01}$ is diagonal and hopefully decompose the channel into a composition of (simpler) single qubit ones. However $\\mathcal{D}$ is a superoperator so this would imply diagonalizing a $(2^2)^2$ square matrix just for two qubits, which is computationally heavy, specially for increasing $n$. So as a first approach, let's try a simpler diagonalization: the diagonalization of  $H$. "
   ]
  },
  {
   "cell_type": "markdown",
   "metadata": {},
   "source": [
    "At a first glance, this should not solve any of our problems since $H$ does not share eigenbasis with $\\mathcal{D}_{01}$ so, at most, we will only be able to write part of $\\mathcal{D}_{01}$ in diagonal form, with some leftovers cross-terms still. Nevertheless, the usefulness of this method will become relevant later on."
   ]
  },
  {
   "cell_type": "markdown",
   "metadata": {},
   "source": [
    "## Diagonalization of H"
   ]
  },
  {
   "cell_type": "markdown",
   "metadata": {},
   "source": [
    "The total system Hamiltonian can be expressed in the computational basis (uncoupled basis) $\\left\\lbrace \\ket{00}, \\ket{01}, \\ket{10}, \\ket{11} \\right\\rbrace$ $\\left(\\left\\lbrace \\ket{gg}, \\ket{ge}, \\ket{eg}, \\ket{ee} \\right\\rbrace \\right)$ as the matrix"
   ]
  },
  {
   "cell_type": "markdown",
   "metadata": {},
   "source": [
    "$$ \n",
    "\\begin{align}\n",
    "H = \\begin{pmatrix}\n",
    "0 & 0 & 0 & 0 \\\\\n",
    "0 & \\tilde{\\omega_1} & \\tilde{g} & 0 \\\\ \n",
    "0 & \\tilde{g} & \\tilde{\\omega_0} & 0 \\\\\n",
    "0 & 0 & 0 & \\tilde{\\omega_0} + \\tilde{\\omega_1}\n",
    "\\end{pmatrix}\n",
    "\\end{align}"
   ]
  },
  {
   "cell_type": "markdown",
   "metadata": {},
   "source": [
    "Diagonalization of $H$ yields the following eigenvalues and eigenvectors:"
   ]
  },
  {
   "cell_type": "markdown",
   "metadata": {},
   "source": [
    "$$ \n",
    "\\begin{align*}\n",
    "\\lambda_1 = 0 \\rightarrow v_1 = \\begin{pmatrix} 1 \\\\ 0 \\\\ 0 \\\\ 0 \\end{pmatrix} \n",
    "\\end{align*} \n",
    "$$"
   ]
  },
  {
   "cell_type": "markdown",
   "metadata": {},
   "source": [
    "$$ \n",
    "\\begin{align*}\n",
    "\\lambda_2 = \\frac{\\tilde{\\omega}_0 + \\tilde{\\omega}_1}{2} - \\Lambda \\rightarrow v_2 = \\begin{pmatrix} 0 \\\\ - \\sin \\theta \\\\ \\cos \\theta \\\\ 0 \\end{pmatrix} \n",
    "\\end{align*} \n",
    "$$"
   ]
  },
  {
   "cell_type": "markdown",
   "metadata": {},
   "source": [
    "$$ \n",
    "\\begin{align*}\n",
    "\\lambda_3 = \\frac{\\tilde{\\omega}_0 + \\tilde{\\omega}_1}{2} + \\Lambda \\rightarrow v_2 = \\begin{pmatrix} 0 \\\\ \\cos \\theta \\\\ \\sin \\theta \\\\ 0 \\end{pmatrix} \n",
    "\\end{align*} \n",
    "$$"
   ]
  },
  {
   "cell_type": "markdown",
   "metadata": {},
   "source": [
    "$$ \n",
    "\\begin{align*}\n",
    "\\lambda_4 = \\tilde{\\omega}_0 + \\tilde{\\omega}_1 \\rightarrow v_4 = \\begin{pmatrix} 0 \\\\ 0 \\\\ 0 \\\\ 1 \\end{pmatrix} \n",
    "\\end{align*} \n",
    "$$"
   ]
  },
  {
   "cell_type": "markdown",
   "metadata": {},
   "source": [
    "where we have defined the variables $\\delta \\equiv \\tilde{\\omega}_0 - \\tilde{\\omega}_1$, $2\\Lambda = \\sqrt{4\\tilde{g}^2 + \\delta^2}$  following the notation in [1](#references). The angle $\\theta$ satisfies $\\sin \\theta = \\frac{g}{\\sqrt{\\Lambda(2 \\Lambda + \\delta)}} $ and $\\cos \\theta = \\sqrt{\\frac{2\\Lambda + \\delta}{4\\Lambda}}$."
   ]
  },
  {
   "cell_type": "markdown",
   "metadata": {},
   "source": [
    "Identifying $v_1, v_2, v_3, v_4$ as matrix representations of $\\ket{G}, \\ket{\\Lambda_-}, \\ket{\\Lambda_+}, \\ket{E}$, respectively, we get the following (normalized) transformation equations between the computational and the coupled basis:\n"
   ]
  },
  {
   "cell_type": "markdown",
   "metadata": {},
   "source": [
    "$$ \n",
    "\\begin{align*}\n",
    "\\ket{G} &= \\ket{00} \\\\\n",
    "\\ket{\\Lambda_-} &= - \\sin \\theta \\ket{01} + \\cos \\theta \\ket{10} \\\\\n",
    "\\ket{\\Lambda_+} &= \\cos \\theta \\ket{01} + \\sin \\theta \\ket{10}  \\\\\n",
    "\\ket{E} &= \\ket{11}\n",
    "\\end{align*} \n",
    "$$"
   ]
  },
  {
   "cell_type": "markdown",
   "metadata": {},
   "source": [
    "In the particular case $\\tilde{\\omega}_0 = \\tilde{\\omega}_1 = \\tilde{\\omega}$, $\\cos \\theta = \\sin \\theta  = \\frac{1}{\\sqrt{2}}$ and the transformation equations from the computational to the coupled basis simplify to"
   ]
  },
  {
   "cell_type": "markdown",
   "metadata": {},
   "source": [
    "$$ \n",
    "\\begin{align*}\n",
    "\\ket{00} &= \\ket{G} \\\\\n",
    "\\ket{01} &= \\frac{1}{\\sqrt{2}} \\left( \\ket{\\Lambda_+} - \\ket{\\Lambda_-} \\right) \\\\\n",
    "\\ket{10} &= \\frac{1}{\\sqrt{2}} \\left( \\ket{\\Lambda_-} + \\ket{\\Lambda_+} \\right) \\\\\n",
    "\\ket{11} &= \\ket{E}\n",
    "\\end{align*} \n",
    "$$"
   ]
  },
  {
   "cell_type": "markdown",
   "metadata": {},
   "source": [
    "For this initial derivation, we will assume that __both emitters are identical__ (same $\\omega$ and $\\gamma$) and that they are __coupled with same strength to the cavity__ (same $g$). Under these assumptions we ensure that $\\tilde{\\omega}_0 = \\tilde{\\omega}_1$ is fulfilled and so we can use the simplified transformation equations above."
   ]
  },
  {
   "cell_type": "markdown",
   "metadata": {},
   "source": [
    "In the next notebook, we will see how to generalize the calculations done here for non-identical emitters."
   ]
  },
  {
   "cell_type": "markdown",
   "metadata": {},
   "source": [
    "## Rewriting the dissipators"
   ]
  },
  {
   "cell_type": "markdown",
   "metadata": {},
   "source": [
    "First we rewrite the $\\sigma_i$ operators into this basis:"
   ]
  },
  {
   "cell_type": "markdown",
   "metadata": {},
   "source": [
    "$$ \n",
    "\\begin{align*}\n",
    "\\sigma_0 \\equiv \\sigma \\otimes \\mathbf{1} = \\ket{0}\\bra{1} \\otimes (\\ket{0}\\bra{0} + \\ket{1}\\bra{1}) = \\ket{00} \\bra{10} + \\ket{01} \\bra{11}  = \\\\\n",
    "= \\frac{1}{\\sqrt{2}} \\ket{G} \\left( \\bra{\\Lambda_-} + \\bra{\\Lambda_+} \\right) + \\frac{1}{\\sqrt{2}} \\left( \\ket{\\Lambda_+} - \\ket{\\Lambda_-} \\right) \\bra{E} \\equiv \\frac{1}{\\sqrt{2}} \\left( \\sigma_{\\text{G+}} +  \\sigma_{\\text{G-}} + \\sigma_{\\text{+E}} - \\sigma_{\\text{-E}} \\right)\n",
    "\\end{align*} \n",
    "$$"
   ]
  },
  {
   "cell_type": "markdown",
   "metadata": {},
   "source": [
    "$$ \n",
    "\\begin{align*}\n",
    "\\sigma_1 \\equiv \\sigma \\otimes \\mathbf{1} \\equiv \\frac{1}{\\sqrt{2}} \\left( \\sigma_{\\text{G+}} -  \\sigma_{\\text{G-}} + \\sigma_{\\text{+E}} + \\sigma_{\\text{-E}} \\right)\n",
    "\\end{align*} \n",
    "$$"
   ]
  },
  {
   "cell_type": "markdown",
   "metadata": {},
   "source": [
    "where we have defined the lowering operators in the coupled basis $\\sigma_{ij} = \\ket{i}\\bra{j}$, for $i,j = G, -, +, E$."
   ]
  },
  {
   "cell_type": "markdown",
   "metadata": {},
   "source": [
    "With this, we can rewrite the individual dissipators as follows"
   ]
  },
  {
   "cell_type": "markdown",
   "metadata": {},
   "source": [
    "$$ \n",
    "\\begin{align*}\n",
    "\\mathcal{D}_0 [\\rho] = \\tilde{\\gamma}_0 \\left( \\sigma_0 \\rho \\sigma_0^{\\dag} - \\frac{1}{2} \\left\\lbrace \\sigma_0^{\\dag} \\sigma_0, \\rho \\right\\rbrace \\right) = \\\\\n",
    "= \\frac{\\tilde{\\gamma_0}}{2} \\left[ \\left( \\sigma_{\\text{G+}} +  \\sigma_{\\text{G-}} + \\sigma_{\\text{+E}} - \\sigma_{\\text{-E}} \\right) \\rho \\left( \\sigma_{\\text{G+}}^{\\dag} +  \\sigma_{\\text{G-}}^{\\dag} + \\sigma_{\\text{+E}}^{\\dag} - \\sigma_{\\text{-E}}^{\\dag} \\right) - \\frac{1}{2} \\left\\lbrace \\left( \\sigma_{\\text{G+}}^{\\dag} +  \\sigma_{\\text{G-}}^{\\dag} + \\sigma_{\\text{+E}}^{\\dag} - \\sigma_{\\text{-E}}^{\\dag} \\right)\\left( \\sigma_{\\text{G+}} +  \\sigma_{\\text{G-}} + \\sigma_{\\text{+E}} - \\sigma_{\\text{-E}} \\right), \\rho \\right\\rbrace \\right] \\equiv \\\\\n",
    "\\equiv \\frac{\\tilde{\\gamma}_0}{2} \\left( \\mathcal{D}_{\\text{G+}} [\\rho] + \\mathcal{D}_{\\text{G-}} [\\rho] + \\mathcal{D}_{\\text{+E}} [\\rho] + \\mathcal{D}_{\\text{-E}} [\\rho] + \\mathcal{D}_{\\text{G+, +E}} [\\rho] + \\mathcal{D}_{\\text{+E, G+}} [\\rho] - \\mathcal{D}_{\\text{G-, -E}} [\\rho] - \\mathcal{D}_{\\text{-E,G-}} [\\rho]\\right)\n",
    "\\end{align*} \n",
    "$$"
   ]
  },
  {
   "cell_type": "markdown",
   "metadata": {},
   "source": [
    "$$ \n",
    "\\begin{align*}\n",
    "\\mathcal{D}_1 [\\rho] = \\tilde{\\gamma}_1 \\left( \\sigma_1 \\rho \\sigma_1^{\\dag} - \\frac{1}{2} \\left\\lbrace \\sigma_1^{\\dag} \\sigma_1, \\rho \\right\\rbrace \\right) \\equiv \\\\\n",
    "\\equiv \\frac{\\tilde{\\gamma}_1}{2} \\left( \\mathcal{D}_{\\text{G+}} [\\rho] + \\mathcal{D}_{\\text{G-}} [\\rho] + \\mathcal{D}_{\\text{+E}} [\\rho] + \\mathcal{D}_{\\text{-E}} [\\rho] + \\mathcal{D}_{\\text{G+, +E}} [\\rho] + \\mathcal{D}_{\\text{+E, G+}} [\\rho] - \\mathcal{D}_{\\text{G-, -E}} [\\rho] - \\mathcal{D}_{\\text{-E,G-}} [\\rho]\\right)\n",
    "\\end{align*} \n",
    "$$"
   ]
  },
  {
   "cell_type": "markdown",
   "metadata": {},
   "source": [
    "where $\\mathcal{D}_{\\alpha, \\beta} [\\rho] \\equiv \\sigma_{\\alpha}\\rho \\sigma_{\\beta}^{\\dag} - \\frac{1}{2}\\left\\lbrace \\sigma_{\\beta}^{\\dag} \\sigma_{\\alpha}, \\rho \\right\\rbrace $. If only $\\alpha$ is specified, it means $\\beta = \\alpha$ (diagonal dissipators)."
   ]
  },
  {
   "cell_type": "markdown",
   "metadata": {},
   "source": [
    "For the cross dissipators,"
   ]
  },
  {
   "cell_type": "markdown",
   "metadata": {},
   "source": [
    "$$ \n",
    "\\begin{align*}\n",
    "\\mathcal{D}_{01} [\\rho] + \\mathcal{D}_{10} [\\rho] = \\gamma_{01} \\left( \\sigma_0 \\rho \\sigma_1^{\\dag} - \\frac{1}{2} \\left\\lbrace \\sigma_1^{\\dag} \\sigma_0, \\rho \\right\\rbrace  + \\sigma_1 \\rho \\sigma_0^{\\dag} - \\frac{1}{2} \\left\\lbrace \\sigma_0^{\\dag} \\sigma_1, \\rho \\right\\rbrace \\right) = \\\\\n",
    "= \\tilde{\\gamma}_{01}\\left( \\mathcal{D}_{\\text{G+}} [\\rho] - \\mathcal{D}_{\\text{G-}} [\\rho] + \\mathcal{D}_{\\text{+E}} [\\rho] - \\mathcal{D}_{\\text{-E}} [\\rho] + \\mathcal{D}_{\\text{G+, +E}} [\\rho] + \\mathcal{D}_{\\text{+E, G+}} [\\rho] - \\mathcal{D}_{\\text{G-, -E}} [\\rho] - \\mathcal{D}_{\\text{-E,G-}} [\\rho]\\right)\n",
    "\\end{align*} \n",
    "$$"
   ]
  },
  {
   "cell_type": "markdown",
   "metadata": {},
   "source": [
    "The total dissipator in the coupled basis can be written as"
   ]
  },
  {
   "cell_type": "markdown",
   "metadata": {},
   "source": [
    "$$ \n",
    "\\begin{align*}\n",
    "\\mathcal{D} [\\rho] = \\mathcal{D}_0 [\\rho] + \\mathcal{D}_1 [\\rho] + \\mathcal{D}_{01} [\\rho] + \\mathcal{D}_{10} [\\rho] \\equiv \\\\\n",
    "\\equiv \\gamma_+ \\left( \\mathcal{D}_{\\text{G+}} [\\rho] + \\mathcal{D}_{\\text{+E}} [\\rho] \\right) + \\gamma_- \\left( \\mathcal{D}_{\\text{G-}} [\\rho]  + \\mathcal{D}_{\\text{-E}} [\\rho] \\right) + \\gamma_+ \\left( \\mathcal{D}_{\\text{G+, +E}} [\\rho] + \\mathcal{D}_{\\text{+E, G+}} [\\rho] \\right) - \\gamma_- \\left( \\mathcal{D}_{\\text{G-, -E}} [\\rho] + \\mathcal{D}_{\\text{-E,G-}} [\\rho]\\right)\n",
    "\\end{align*} \n",
    "$$"
   ]
  },
  {
   "cell_type": "markdown",
   "metadata": {},
   "source": [
    "where $\\gamma_{\\pm} \\equiv \\frac{\\tilde{\\gamma}_0 + \\tilde{\\gamma}_1}{2} \\pm \\gamma_{01}$ represents the decay rates of the transitions ending or starting at $\\ket{\\Lambda_{\\pm}}$"
   ]
  },
  {
   "cell_type": "markdown",
   "metadata": {},
   "source": [
    "## Simulations with just the diagonal dissipators"
   ]
  },
  {
   "cell_type": "markdown",
   "metadata": {},
   "source": [
    "The function `solve_master_equation` in `ME_methods_comparison.py` solves the time evolution in three ways: `original` (solves the full ME with the cavity), `markovian` (solves the Markovian ME with the effective removal of the cavity), `diagonal` (solves the Markovian ME in the coupled basis, considering exclusively the four diagonal dissipators $\\mathcal{D}_{\\text{G+}} [\\rho], \\mathcal{D}_{\\text{+E}} [\\rho], \\mathcal{D}_{\\text{G-}} [\\rho]  + \\mathcal{D}_{\\text{-E}} [\\rho]$). We see that `diagonal` and `markovian` yield the same results for identical emitters."
   ]
  },
  {
   "cell_type": "code",
   "execution_count": 11,
   "metadata": {},
   "outputs": [
    {
     "data": {
      "image/png": "[encoded data removed]",
      "text/plain": [
       "<Figure size 640x480 with 1 Axes>"
      ]
     },
     "metadata": {},
     "output_type": "display_data"
    }
   ],
   "source": [
    "from deprecated_functions.ME_methods_comparison import solve_master_equation\n",
    "import numpy as np\n",
    "from utils.generate_complementary_colors import generate_complementary_colors\n",
    "\n",
    "import matplotlib.pyplot as plt\n",
    "plt.rcParams['text.usetex'] = True\n",
    "plt.rcParams['figure.dpi'] = 100\n",
    "plt.rcParams['savefig.dpi'] = 600\n",
    "\n",
    "omega_m = [1.2, 1.2]\n",
    "omega_c = 1.1\n",
    "gamma = [0.8*(10**-6), 0.8*(10**-6)]\n",
    "kappa = [0.2]\n",
    "g = [0.01, 0.01]\n",
    "t = np.linspace(0, 750, 25)\n",
    "initial_state = [0, 0, 0, 1] # Coordinates in computational basis\n",
    "types = ['original', 'markovian', 'diagonal']\n",
    "\n",
    "evs_original = solve_master_equation(omega_m, omega_c, gamma, kappa, g, t, initial_state, 'original')\n",
    "evs_markovian = solve_master_equation(omega_m, omega_c, gamma, kappa, g, t, initial_state, 'markovian')\n",
    "evs_diagonal = solve_master_equation(omega_m, omega_c, gamma, kappa, g, t, initial_state, 'diagonal')\n",
    "\n",
    "labels = ['E', '+', 'G']\n",
    "colors = generate_complementary_colors(len(labels), palette_type='default')\n",
    "counter  = 0\n",
    "\n",
    "for l in labels:\n",
    "\n",
    "    plt.plot(t, evs_original[l], linestyle = 'solid', color = colors[counter], alpha = 0.4)\n",
    "    plt.plot(t, evs_markovian[l], linestyle = 'dotted', color = colors[counter])\n",
    "    plt.plot(t, evs_diagonal[l], linestyle = 'dashed', color = colors[counter])\n",
    "\n",
    "    plt.plot(np.NaN, np.NaN, linestyle = 'None', marker = '.', color = colors[counter], label = '$%s$' %l)\n",
    "    counter = counter + 1\n",
    "\n",
    "plt.plot(np.NaN, np.NaN, linestyle = 'dotted', color = 'black', label = 'Markovian')\n",
    "plt.plot(np.NaN, np.NaN, linestyle = 'dashed', color = 'black', label = 'diagonal')\n",
    "plt.plot(np.NaN, np.NaN, linestyle = 'solid', color = 'black', label = 'original', alpha = 0.4)\n",
    "#plt.plot(t, evs_markovian['E'] + evs_markovian['+'] + evs_diagonal['G'])\n",
    "\n",
    "plt.ylabel('population')\n",
    "plt.xlabel('time (arbitrary units)')\n",
    "plt.legend()\n",
    "#plt.savefig('figures/classical_simulation_without_cross_dissipators.png', bbox_inches='tight')\n",
    "plt.show()"
   ]
  },
  {
   "cell_type": "markdown",
   "metadata": {},
   "source": [
    "Now, why is this? When studying population dynamics, the observables of interests are the projectors $\\sigma^{\\dag}_i \\sigma_i = \\left| 1 \\right>_i \\left< 1 \\right|_i$. The expectation value of these observables can be expressed in term of the matrix elements of the reduced density operator $\\rho$. For example, for this initial case of two identical emitters,"
   ]
  },
  {
   "cell_type": "markdown",
   "metadata": {},
   "source": [
    "\\begin{align*}\n",
    "\\left< \\sigma_0^{\\dag} \\sigma_0 \\right> \\equiv \\mathrm{Tr} \\left(  \\sigma_0^{\\dag} \\sigma_0 \\rho \\right) = \\mathrm{Tr} \\left( \\left[ \\sigma^{\\dag}\\sigma \\otimes \\mathbf{1} \\right] \\rho \\right) = \n",
    "\\mathrm{Tr} \\left( \\left[ \\left| 10 \\right> \\left< 10 \\right| + \\left| 11 \\right> \\left< 11 \\right| \\right] \\rho \\right) = \\\\\n",
    "=\\sum_{i \\in \\{ G, \\Lambda_-, \\Lambda_+, E \\}} \\left< i \\right| \\left( \\left[ \\frac{1}{2} \\left( \\left| \\Lambda_+ \\right> \\left<\\Lambda_+  \\right| + \\left| \\Lambda_+ \\right> \\left<\\Lambda_-  \\right| + \\left| \\Lambda_- \\right> \\left<\\Lambda_+  \\right| + \\left| \\Lambda_- \\right> \\left<\\Lambda_-  \\right|\\right) + \\left| E \\right> \\left< E \\right| \\right] \\rho \\right) \\left| i \\right> = \\\\\n",
    "= \\frac{1}{2} \\left( \\rho'_{22} + \\rho'_{12} + \\rho'_{21} + \\rho'_{11} \\right) + \\rho'_{33}\n",
    "\\end{align*}"
   ]
  },
  {
   "cell_type": "markdown",
   "metadata": {},
   "source": [
    "\\begin{align*}\n",
    "\\left< \\sigma_1^{\\dag} \\sigma_1 \\right> \\equiv \\mathrm{Tr} \\left(  \\sigma_1^{\\dag} \\sigma_1 \\rho_S \\right) = \\\\\n",
    "=\\sum_{i \\in \\{ G, \\Lambda_-, \\Lambda_+, E \\}} \\left< i \\right| \\left( \\left[ \\frac{1}{2} \\left( \\left| \\Lambda_+ \\right> \\left<\\Lambda_+  \\right| - \\left| \\Lambda_+ \\right> \\left<\\Lambda_-  \\right| - \\left| \\Lambda_- \\right> \\left<\\Lambda_+  \\right| + \\left| \\Lambda_- \\right> \\left<\\Lambda_-  \\right|\\right) + \\left| E \\right> \\left< E \\right| \\right] \\rho_S \\right) \\left| i \\right> = \\\\\n",
    "= \\frac{1}{2} \\left( \\rho'_{22} - \\rho'_{12} - \\rho'_{21} + \\rho'_{11} \\right) + \\rho'_{33}\n",
    "\\end{align*}"
   ]
  },
  {
   "cell_type": "markdown",
   "metadata": {},
   "source": [
    "where $\\rho' = P^{\\dag} \\rho P$ is the reduced density operator in the coupled basis and the indeces $i,j$ in $\\rho'_{ij}$ run from 0 to 3."
   ]
  },
  {
   "cell_type": "markdown",
   "metadata": {},
   "source": [
    "Even though these expectation values for both emitters do depend on off-diagonal elements of the density operator, simple matrix multiplication (below) shows that these ones in particular are NOT affected whatsoever by any of the four off-diagonal dissipators that we omitted in our simulations, therefore explaning why these are not needed for succesful depictions of population dynamics."
   ]
  },
  {
   "cell_type": "markdown",
   "metadata": {},
   "source": [
    "$$ \n",
    "\\begin{align*}\n",
    "\\mathcal{D}_{\\text{G+, +E}} [\\rho'] = \\sigma_{G+}\\rho' \\sigma_{+E}^{\\dag} - \\frac{1}{2}\\left\\lbrace \\sigma_{+E}^{\\dag} \\sigma_{G+}, \\rho' \\right\\rbrace \\rightarrow \n",
    "\\begin{pmatrix} 0 & 0 & \\rho'_{23} & 0 \\\\ 0 & 0 & 0 & 0 \\\\ 0 & 0 & 0 & 0 \\\\ 0 & 0 & 0 & 0 \\end{pmatrix}\n",
    "\\end{align*}"
   ]
  },
  {
   "cell_type": "markdown",
   "metadata": {},
   "source": [
    "$$ \n",
    "\\begin{align*}\n",
    "\\mathcal{D}_{\\text{+E, G+}} [\\rho'] \\rightarrow \n",
    "\\begin{pmatrix} 0 & 0 & 0 & 0 \\\\ 0 & 0 & 0 & 0 \\\\ \\rho'_{32\n",
    "} & 0 & 0 & 0 \\\\ 0 & 0 & 0 & 0 \\end{pmatrix}\n",
    "\\end{align*}"
   ]
  },
  {
   "cell_type": "markdown",
   "metadata": {},
   "source": [
    "$$ \n",
    "\\begin{align*}\n",
    "\\mathcal{D}_{\\text{G-, -E}} [\\rho'] \\rightarrow \n",
    "\\begin{pmatrix} 0 & \\rho'_{13} & 0 & 0 \\\\ 0 & 0 & 0 & 0 \\\\ 0 & 0 & 0 & 0 \\\\ 0 & 0 & 0 & 0 \\end{pmatrix}\n",
    "\\end{align*}"
   ]
  },
  {
   "cell_type": "markdown",
   "metadata": {},
   "source": [
    "$$ \n",
    "\\begin{align*}\n",
    "\\mathcal{D}_{\\text{-E, G-}} [\\rho'] \\rightarrow \n",
    "\\begin{pmatrix} 0 & 0 & 0 & 0 \\\\ \\rho'_{31} & 0 & 0 & 0 \\\\ 0 & 0 & 0 & 0 \\\\ 0 & 0 & 0 & 0 \\end{pmatrix}\n",
    "\\end{align*}"
   ]
  },
  {
   "cell_type": "markdown",
   "metadata": {},
   "source": [
    "We can also arrive to the same conclusion by following more analytically explicit calculations. Ignoring the Hamiltonian evolution, and considering just the evolution of $\\rho$ under these off-diagonal dissipators,"
   ]
  },
  {
   "cell_type": "markdown",
   "metadata": {},
   "source": [
    "\\begin{align*}\n",
    "\\frac{d \\rho}{dt} = \\gamma_{+} \\left( \\mathcal{D}_{\\text{G+, +E}} \\left[ \\rho \\right] +  \\mathcal{D}_{\\text{+E,G+}} \\left[ \\rho \\right] \\right) + \\gamma_{-} \\left( \\mathcal{D}_{\\text{G-, -E}} \\left[ \\rho \\right] +  \\mathcal{D}_{\\text{-E, G-}} \\left[ \\rho \\right] \\right)\n",
    "\\end{align*}"
   ]
  },
  {
   "cell_type": "markdown",
   "metadata": {},
   "source": [
    "which can be expressed in matrix form in the coupled basis as"
   ]
  },
  {
   "cell_type": "markdown",
   "metadata": {},
   "source": [
    "\\begin{align*}\n",
    "\\frac{d}{dt} \\begin{pmatrix} \\rho'_{00} & \\rho'_{01} & \\rho'_{02} & \\rho'_{03} \\\\ \\rho'_{10} & \\rho'_{11} & \\rho'_{12} & \\rho'_{13} \\\\ \\rho'_{20} & \\rho'_{21} & \\rho'_{22} & \\rho'_{23} \\\\ \\rho'_{30} & \\rho'_{31} & \\rho'_{32} & \\rho'_{33} \\end{pmatrix} = \\begin{pmatrix} 0 & \\gamma_-\\rho'_{13} & \\gamma_+ \\rho'_{23} & 0 \\\\ \\gamma_-\\rho'_{31} & 0 & 0 & 0 \\\\ \\gamma_+ \\rho'_{32} & 0 & 0 & 0 \\\\ 0 & 0 & 0 & 0 \\end{pmatrix}.\n",
    "\\end{align*}"
   ]
  },
  {
   "cell_type": "markdown",
   "metadata": {},
   "source": [
    "This yields a set of four differential equations for some matrix elements of $\\rho$ "
   ]
  },
  {
   "cell_type": "markdown",
   "metadata": {},
   "source": [
    "\\begin{cases}\n",
    "\\frac{d \\rho'_{01}}{dt} = \\gamma_- \\rho'_{13} \\\\\n",
    "\\frac{d \\rho'_{10}}{dt} = \\gamma_- \\rho'_{31} \\\\\n",
    "\\frac{d \\rho'_{02}}{dt} = \\gamma_+ \\rho'_{23} \\\\\n",
    "\\frac{d \\rho'_{20}}{dt} = \\gamma_+ \\rho'_{32}\n",
    "\\end{cases},"
   ]
  },
  {
   "cell_type": "markdown",
   "metadata": {},
   "source": [
    "showing how these dissipators only affect those four, leaving the other matrix elements unchanged. As a result of this, we can construct this initial quantum circuit considering only the four diagonal dissipators."
   ]
  },
  {
   "cell_type": "markdown",
   "metadata": {},
   "source": [
    "## Quantum circuit for two identical emitters"
   ]
  },
  {
   "cell_type": "markdown",
   "metadata": {},
   "source": [
    "The four diagonal dissipators $\\gamma_+ \\left( \\mathcal{D}_{\\text{G+}} [\\rho] + \\mathcal{D}_{\\text{+E}} [\\rho] \\right), \\gamma_- \\left( \\mathcal{D}_{\\text{G-}} [\\rho]  + \\mathcal{D}_{\\text{-E}} [\\rho] \\right)$ represent the four possible decay paths in the coupled basis: $\\left| \\Lambda_+ \\right> \\to \\left| G \\right> $, $\\left| E \\right> \\to \\left| \\Lambda_+ \\right> $, $\\left| \\Lambda_- \\right> \\to \\left| G \\right> $, $\\left| E \\right> \\to \\left| \\Lambda_- \\right> $, As a result and due to them being in Lindblad form, one could apply the same producedure as in the previous notebook and define four (decay) channels in the enlarged Hilbert space $\\mathcal{H}_{S} \\otimes \\mathcal{H}_E$: $\\varepsilon_{\\text{G+}}$, $\\varepsilon_{\\text{+E}}$, $\\varepsilon_{\\text{G-}}$, $\\varepsilon_{\\text{-E}}$ with transformation equations"
   ]
  },
  {
   "cell_type": "markdown",
   "metadata": {},
   "source": [
    "\\begin{align*}\n",
    "\\left| G \\right>_S \\otimes \\left|0 \\right>_E &\\to \\left| G \\right>_S \\otimes \\left|0 \\right>_E \\\\\n",
    "\\left| \\Lambda_+ \\right>_S \\otimes \\left|0 \\right>_E &\\to \\sqrt{1- p_+} \\left| \\Lambda_+ \\right>_S \\otimes \\left|0 \\right>_E +  \\sqrt{p_+} \\left| G \\right>_S \\otimes \\left|1 \\right>_E\n",
    "\\end{align*}"
   ]
  },
  {
   "cell_type": "markdown",
   "metadata": {},
   "source": [
    "\\begin{align*}\n",
    "\\left| \\Lambda_+ \\right>_S \\otimes \\left|0 \\right>_E &\\to \\left| \\Lambda_+  \\right>_S \\otimes \\left|0 \\right>_E \\\\\n",
    "\\left| E \\right>_S \\otimes \\left|0 \\right>_E &\\to \\sqrt{1- p_+} \\left| E \\right>_S \\otimes \\left|0 \\right>_E +  \\sqrt{p_+} \\left| \\Lambda_+ \\right>_S \\otimes \\left|1 \\right>_E\n",
    "\\end{align*}"
   ]
  },
  {
   "cell_type": "markdown",
   "metadata": {},
   "source": [
    "\\begin{align*}\n",
    "\\left| G \\right>_S \\otimes \\left|0 \\right>_E &\\to \\left| G \\right>_S \\otimes \\left|0 \\right>_E \\\\\n",
    "\\left| \\Lambda_- \\right>_S \\otimes \\left|0 \\right>_E &\\to \\sqrt{1- p_-} \\left| \\Lambda_- \\right>_S \\otimes \\left|0 \\right>_E +  \\sqrt{p_-} \\left| G \\right>_S \\otimes \\left|1 \\right>_E\n",
    "\\end{align*}"
   ]
  },
  {
   "cell_type": "markdown",
   "metadata": {},
   "source": [
    "\\begin{align*}\n",
    "\\left| \\Lambda_- \\right>_S \\otimes \\left|0 \\right>_E &\\to \\left| \\Lambda_-  \\right>_S \\otimes \\left|0 \\right>_E \\\\\n",
    "\\left| E \\right>_S \\otimes \\left|0 \\right>_E &\\to \\sqrt{1- p_-} \\left| E \\right>_S \\otimes \\left|0 \\right>_E +  \\sqrt{p_-} \\left| \\Lambda_- \\right>_S \\otimes \\left|1 \\right>_E\n",
    "\\end{align*}"
   ]
  },
  {
   "cell_type": "markdown",
   "metadata": {},
   "source": [
    "with $p_{\\pm} \\equiv 1 - e^{- \\gamma_{\\pm}t}$."
   ]
  },
  {
   "cell_type": "markdown",
   "metadata": {},
   "source": [
    "Now, assume we apply a basis change $P$ to the system register that transforms the computational basis states into the coupled basis states. Then we can identify $\\left| G \\right>$ with $\\left|00 \\right>$, $\\left| \\Lambda_- \\right>$ with $\\left| 01 \\right>$ and so on. Let's consider the channels $\\varepsilon_{\\text{G+}}$ and $\\varepsilon_{\\text{G-}}$. With this identification, the transformation equations in the coupled basis become"
   ]
  },
  {
   "cell_type": "markdown",
   "metadata": {},
   "source": [
    "\\begin{align*}\n",
    "\\left| 00 \\right>_S \\otimes \\left|0 \\right>_E &\\to \\left| 00 \\right>_S \\otimes \\left|0 \\right>_E \\\\\n",
    "\\left| 10 \\right>_S \\otimes \\left|0 \\right>_E &\\to \\sqrt{1- p_+} \\left| 10 \\right>_S \\otimes \\left|0 \\right>_E +  \\sqrt{p_+} \\left| 00 \\right>_S \\otimes \\left|1 \\right>_E\n",
    "\\end{align*}"
   ]
  },
  {
   "cell_type": "markdown",
   "metadata": {},
   "source": [
    "\\begin{align*}\n",
    "\\left| 00 \\right>_S \\otimes \\left|0 \\right>_E &\\to \\left| 00 \\right>_S \\otimes \\left|0 \\right>_E \\\\\n",
    "\\left| 01 \\right>_S \\otimes \\left|0 \\right>_E &\\to \\sqrt{1- p_-} \\left| 01 \\right>_S \\otimes \\left|0 \\right>_E +  \\sqrt{p_-} \\left| 00 \\right>_S \\otimes \\left|1 \\right>_E\n",
    "\\end{align*}"
   ]
  },
  {
   "cell_type": "markdown",
   "metadata": {},
   "source": [
    "As a result of this basis change, now $\\varepsilon_{\\text{G+}}$ and $\\varepsilon_{\\text{G-}}$ can be interpreted as single-qubit decay amplitude damping channels for $q_0$ and $q_1$ with decay probabilities $p_+$ and $p-$, respectively."
   ]
  },
  {
   "cell_type": "markdown",
   "metadata": {},
   "source": [
    "On the other hand, $\\varepsilon_{\\text{+E}}$, $\\varepsilon_{\\text{-E}}$"
   ]
  },
  {
   "cell_type": "markdown",
   "metadata": {},
   "source": [
    "\\begin{align*}\n",
    "\\left| \\Lambda_+ \\right>_S \\otimes \\left|0 \\right>_E &\\to \\left| \\Lambda_+  \\right>_S \\otimes \\left|0 \\right>_E \\\\\n",
    "\\left| E \\right>_S \\otimes \\left|0 \\right>_E &\\to \\sqrt{1- p_+} \\left| E \\right>_S \\otimes \\left|0 \\right>_E +  \\sqrt{p_+} \\left| \\Lambda_+ \\right>_S \\otimes \\left|1 \\right>_E\n",
    "\\end{align*}"
   ]
  },
  {
   "cell_type": "markdown",
   "metadata": {},
   "source": [
    "\\begin{align*}\n",
    "\\left| \\Lambda_- \\right>_S \\otimes \\left|0 \\right>_E &\\to \\left| \\Lambda_-  \\right>_S \\otimes \\left|0 \\right>_E \\\\\n",
    "\\left| E \\right>_S \\otimes \\left|0 \\right>_E &\\to \\sqrt{1- p_-} \\left| E \\right>_S \\otimes \\left|0 \\right>_E +  \\sqrt{p_-} \\left| \\Lambda_- \\right>_S \\otimes \\left|1 \\right>_E\n",
    "\\end{align*}"
   ]
  },
  {
   "cell_type": "markdown",
   "metadata": {},
   "source": [
    "can also be interpreted as a type of single-qubit ADCs for $q_0$ and $q_1$, now with probabilities $p_-$ and $p_+$, respectively, with the uninqueness that the control state for the controlled-$Ry$ s is now the two-qubit state $\\left| 11 \\right>$."
   ]
  },
  {
   "cell_type": "markdown",
   "metadata": {},
   "source": [
    "Putting all four channels together, we seek a `QuantumCircuit`that performs ADC-like transformations on $q_0$ and $q_1$ with probabilities $p_-$ and $p_+$ but performs the reverse decays ($q_0$ with $p_+$ and $q_1$ with $p_-$) if the system state is $\\left| 11 \\right>$. Following a similar idea used on the incoherent pumping and spontaneous decay combined channel, we can achieve this by doing and undoing rotations depending on the control state."
   ]
  },
  {
   "cell_type": "markdown",
   "metadata": {},
   "source": [
    "The parametric `QuantumCircuit`implementing said transformations is the following"
   ]
  },
  {
   "cell_type": "code",
   "execution_count": 1,
   "metadata": {},
   "outputs": [
    {
     "data": {
      "image/png": "[encoded data removed]",
      "text/plain": [
       "<Figure size 1039.79x367.889 with 1 Axes>"
      ]
     },
     "execution_count": 1,
     "metadata": {},
     "output_type": "execute_result"
    }
   ],
   "source": [
    "from qiskit import QuantumCircuit, QuantumRegister\n",
    "from qiskit.circuit import Parameter, ControlledGate, Gate\n",
    "from qiskit.circuit.library import RYGate\n",
    "import numpy as np\n",
    "\n",
    "import matplotlib.pyplot as plt\n",
    "plt.rcParams['text.usetex'] = True\n",
    "plt.rcParams['figure.dpi'] = 100\n",
    "plt.rcParams['savefig.dpi'] = 600\n",
    "\n",
    "system = QuantumRegister(2, name = 'q')\n",
    "environment = QuantumRegister(2, name = 'e')\n",
    "\n",
    "theta_plus = Parameter('$\\\\theta_{+} $')\n",
    "theta_minus = Parameter('$\\\\theta- $')\n",
    "\n",
    "# Decay\n",
    "\n",
    "qc = QuantumCircuit(system, environment)\n",
    "\n",
    "u_gate = Gate(name = 'P', params = [],num_qubits = 2, label = '$P$')\n",
    "u_dag_gate = Gate(name = 'Pdag', params = [], num_qubits = 2, label = '$P^{\\\\dag}$')\n",
    "\n",
    "qc.append(u_gate, system)\n",
    "qc.barrier()\n",
    "\n",
    "ccry_plus = ControlledGate(name = 'ryplus', num_qubits = 3, params = [theta_plus - theta_minus], num_ctrl_qubits= 2, base_gate = RYGate(theta_plus - theta_minus))\n",
    "ccry_minus = ControlledGate(name = 'ryminus', num_qubits = 3, params = [theta_minus - theta_plus], num_ctrl_qubits= 2, base_gate = RYGate(theta_minus - theta_plus))\n",
    "\n",
    "qc.append(ccry_plus, [system[0], system[1], environment[0]])\n",
    "\n",
    "qc.append(ccry_minus, [system[0], system[1], environment[1]])\n",
    "\n",
    "qc.cry(theta_minus, system[0], environment[0])\n",
    "qc.cx(environment[0], system[0])\n",
    "qc.cry(theta_plus, system[1], environment[1])\n",
    "qc.cx(environment[1], system[1])\n",
    "\n",
    "qc.barrier()\n",
    "\n",
    "qc.append(u_dag_gate, system)\n",
    "\n",
    "qc.reset(environment)\n",
    "\n",
    "a = qc.draw('mpl')\n",
    "a.savefig('poster_original_circuit_transparent.png', bbox_inches='tight', transparent = True)\n",
    "a"
   ]
  },
  {
   "cell_type": "markdown",
   "metadata": {},
   "source": [
    "with $\\theta_{\\pm}$ satisfying $\\sin \\theta_{\\pm} = \\sqrt{p_{\\pm}}$"
   ]
  },
  {
   "cell_type": "markdown",
   "metadata": {},
   "source": [
    "It is important to note that, due to Qiskit's little endian notation, to achieve the desired transformations we need to swap the probabilities stated before between the qubits. (It is either that, or swapping the two central columns of the basis change gate)."
   ]
  },
  {
   "cell_type": "markdown",
   "metadata": {},
   "source": [
    "Once the `QuantumCircuit`is defined, three different versions of it come to mind: `regular` (the coupled basis is exclusively used for implementing $\\mathcal{D}$), `diagonal` (the whole circuit is in the coupled basis) and `one ancilla` (`regular` but using only one ancilla qubit)."
   ]
  },
  {
   "cell_type": "code",
   "execution_count": null,
   "metadata": {},
   "outputs": [
    {
     "data": {
      "image/png": "[encoded data removed]",
      "text/plain": [
       "<Figure size 1792.29x367.889 with 1 Axes>"
      ]
     },
     "execution_count": 4,
     "metadata": {},
     "output_type": "execute_result"
    }
   ],
   "source": [
    "from qiskit import QuantumCircuit, QuantumRegister\n",
    "from qiskit.circuit import Parameter, ControlledGate, Gate\n",
    "from qiskit.quantum_info import Statevector\n",
    "from qiskit.circuit.library import RYGate\n",
    "import numpy as np\n",
    "\n",
    "import matplotlib.pyplot as plt\n",
    "plt.rcParams['text.usetex'] = True\n",
    "plt.rcParams['figure.dpi'] = 100\n",
    "plt.rcParams['savefig.dpi'] = 600\n",
    "\n",
    "system = QuantumRegister(2, name = 'q')\n",
    "environment = QuantumRegister(2, name = 'e')\n",
    "\n",
    "tilde_alpha = Parameter('$\\\\tilde{\\\\alpha} (\\\\tilde{g})$')\n",
    "tilde_beta = Parameter('$\\\\tilde{\\\\beta} (\\\\tilde{\\\\omega})$')\n",
    "theta_plus = Parameter('$\\\\theta_{+} $')\n",
    "theta_minus = Parameter('$\\\\theta- $')\n",
    "\n",
    "# Initialization\n",
    "\n",
    "init = QuantumCircuit(system, environment)\n",
    "initial_statevector = Statevector([0,-1/np.sqrt(2),1/np.sqrt(2),0]) \n",
    "init.initialize(params = initial_statevector, qubits = system, normalize = True)\n",
    "\n",
    "init.barrier()\n",
    "\n",
    "# Free evolution\n",
    "\n",
    "u_0 = QuantumCircuit(system, environment)\n",
    "u_0.rz(tilde_beta, system)\n",
    "\n",
    "u_0.barrier()\n",
    "\n",
    "# Interaction layer\n",
    "\n",
    "u_int = QuantumCircuit(system, environment)\n",
    "\n",
    "u_int.rxx(tilde_alpha, qubit1 = system[0], qubit2 = system[1])\n",
    "u_int.ryy(tilde_alpha, qubit1 = system[0], qubit2 = system[1])\n",
    "\n",
    "u_int.barrier()\n",
    "\n",
    "# Decay\n",
    "\n",
    "u_decay = QuantumCircuit(system, environment)\n",
    "\n",
    "u_gate = Gate(name = 'P', params = [],num_qubits = 2, label = '$P$')\n",
    "\n",
    "u_dag_gate = Gate(name = 'Pdag', params = [], num_qubits = 2, label = '$P^{\\\\dag}$')\n",
    "\n",
    "u_decay.append(u_gate, system)\n",
    "\n",
    "u_decay.barrier()\n",
    "\n",
    "ccry_plus = ControlledGate(name = 'ryplus', num_qubits = 3, params = [theta_plus - theta_minus], num_ctrl_qubits= 2, base_gate = RYGate(theta_plus - theta_minus))\n",
    "\n",
    "ccry_minus = ControlledGate(name = 'ryminus', num_qubits = 3, params = [theta_minus - theta_plus], num_ctrl_qubits= 2, base_gate = RYGate(theta_minus - theta_plus))\n",
    "\n",
    "u_decay.append(ccry_plus, [system[0], system[1], environment[0]])\n",
    "\n",
    "u_decay.append(ccry_minus, [system[0], system[1], environment[1]])\n",
    "\n",
    "u_decay.cry(theta_minus, system[0], environment[0])\n",
    "u_decay.cx(environment[0], system[0])\n",
    "u_decay.cry(theta_plus, system[1], environment[1])\n",
    "u_decay.cx(environment[1], system[1])\n",
    "\n",
    "u_decay.barrier()\n",
    "\n",
    "u_decay.append(u_dag_gate, system)\n",
    "\n",
    "u_decay.reset(environment)\n",
    "\n",
    "u = init.compose(u_0).compose(u_int).compose(u_decay)\n",
    "\n",
    "a = u.draw('mpl')\n",
    "a.savefig('figures/two_qubit_regular_circuit.png', bbox_inches='tight')\n",
    "a"
   ]
  },
  {
   "cell_type": "code",
   "execution_count": 2,
   "metadata": {},
   "outputs": [
    {
     "data": {
      "image/png": "[encoded data removed]",
      "text/plain": [
       "<Figure size 1875.91x284.278 with 1 Axes>"
      ]
     },
     "execution_count": 2,
     "metadata": {},
     "output_type": "execute_result"
    }
   ],
   "source": [
    "from qiskit import QuantumCircuit, QuantumRegister\n",
    "from qiskit.circuit import Parameter, ControlledGate, Gate\n",
    "from qiskit.quantum_info import Statevector\n",
    "from qiskit.circuit.library import RYGate\n",
    "import numpy as np\n",
    "import matplotlib.pyplot as plt\n",
    "plt.rcParams['text.usetex'] = True\n",
    "plt.rcParams['figure.dpi'] = 100\n",
    "plt.rcParams['savefig.dpi'] = 600\n",
    "\n",
    "system = QuantumRegister(2, name = 'q')\n",
    "environment = QuantumRegister(1, name = 'e')\n",
    "\n",
    "tilde_alpha = Parameter('$\\\\tilde{\\\\alpha} (\\\\tilde{g})$')\n",
    "tilde_beta = Parameter('$\\\\tilde{\\\\beta} (\\\\tilde{\\\\omega})$')\n",
    "theta_plus = Parameter('$\\\\theta_{+} $')\n",
    "theta_minus = Parameter('$\\\\theta- $')\n",
    "\n",
    "# Initialization\n",
    "\n",
    "init = QuantumCircuit(system, environment)\n",
    "initial_statevector = Statevector([0,-1/np.sqrt(2),1/np.sqrt(2),0]) \n",
    "init.initialize(params = initial_statevector, qubits = system, normalize = True)\n",
    "\n",
    "init.barrier()\n",
    "\n",
    "# Free evolution\n",
    "\n",
    "u_0 = QuantumCircuit(system, environment)\n",
    "u_0.rz(tilde_beta, system)\n",
    "\n",
    "u_0.barrier()\n",
    "\n",
    "# Interaction layer\n",
    "\n",
    "u_int = QuantumCircuit(system, environment)\n",
    "\n",
    "u_int.rxx(tilde_alpha, qubit1 = system[0], qubit2 = system[1])\n",
    "u_int.ryy(tilde_alpha, qubit1 = system[0], qubit2 = system[1])\n",
    "\n",
    "u_int.barrier()\n",
    "\n",
    "# Decay\n",
    "\n",
    "u_decay = QuantumCircuit(system, environment)\n",
    "\n",
    "u_gate = Gate(name = 'P', params = [],num_qubits = 2, label = '$P$')\n",
    "\n",
    "u_dag_gate = Gate(name = 'Pdag', params = [], num_qubits = 2, label = '$P^{\\\\dag}$')\n",
    "\n",
    "u_decay.append(u_gate, system)\n",
    "\n",
    "u_decay.barrier()\n",
    "\n",
    "ccry_plus = ControlledGate(name = 'ryplus', num_qubits = 3, params = [theta_plus - theta_minus], num_ctrl_qubits= 2, base_gate = RYGate(theta_plus - theta_minus))\n",
    "\n",
    "ccry_minus = ControlledGate(name = 'ryminus', num_qubits = 3, params = [theta_minus - theta_plus], num_ctrl_qubits= 2, base_gate = RYGate(theta_minus - theta_plus))\n",
    "\n",
    "u_decay.append(ccry_plus, [system[0], system[1], environment[0]])\n",
    "\n",
    "u_decay.cry(theta_minus, system[0], environment[0])\n",
    "\n",
    "u_decay.cx(environment[0], system[0])\n",
    "\n",
    "u_decay.reset(environment)\n",
    "\n",
    "u_decay.append(ccry_minus, [system[0], system[1], environment[0]])\n",
    "\n",
    "u_decay.cry(theta_plus, system[1], environment[0])\n",
    "\n",
    "u_decay.cx(environment[0], system[1])\n",
    "\n",
    "u_decay.barrier()\n",
    "\n",
    "u_decay.append(u_dag_gate, system)\n",
    "\n",
    "u_decay.reset(environment)\n",
    "\n",
    "u = init.compose(u_0).compose(u_int).compose(u_decay)\n",
    "\n",
    "a = u.draw('mpl')\n",
    "a.savefig('figures/two_qubit_one_ancilla_circuit.png', bbox_inches='tight')\n",
    "a\n"
   ]
  },
  {
   "cell_type": "markdown",
   "metadata": {},
   "source": [
    "We put the `regular` circuit to the test by measuring the populations of some of the coupled basis states."
   ]
  },
  {
   "cell_type": "code",
   "execution_count": 1,
   "metadata": {},
   "outputs": [
    {
     "data": {
      "image/png": "[encoded data removed]",
      "text/plain": [
       "<Figure size 640x480 with 1 Axes>"
      ]
     },
     "metadata": {},
     "output_type": "display_data"
    }
   ],
   "source": [
    "from deprecated_functions.ME_methods_comparison import solve_master_equation\n",
    "from deprecated_functions.two_qubit_original_circuit import get_circuit\n",
    "from deprecated_functions.two_qubit_qiskit_solver import two_qubit_estimator_solver\n",
    "from utils.generate_complementary_colors import generate_complementary_colors\n",
    "import numpy as np \n",
    "import matplotlib.pyplot as plt\n",
    "plt.rcParams['text.usetex'] = True\n",
    "plt.rcParams['figure.dpi'] = 100\n",
    "plt.rcParams['savefig.dpi'] = 600\n",
    "\n",
    "from qiskit_aer import AerSimulator\n",
    "\n",
    "omega_m = [1.2, 1.2]\n",
    "omega_c = 1.1\n",
    "gamma = [0.8*(10**-6), 0.8*(10**-6)]\n",
    "kappa = [0.2]\n",
    "g = [0.01, 0.01]\n",
    "t = np.linspace(0, 750, 100)\n",
    "initial_state = [0, 0, 0, 1] # Coordinates in computational basis\n",
    "types = ['original', 'markovian', 'diagonal']\n",
    "\n",
    "evs_diagonal = solve_master_equation(omega_m, omega_c, gamma, kappa, g, t, initial_state, 'markovian')\n",
    "\n",
    "r = 10\n",
    "backend = AerSimulator()\n",
    "optimization_level = 0\n",
    "options = {'default_shots' : 10**4}\n",
    "\n",
    "qc = get_circuit(2, omega_m, omega_c, g, gamma, kappa, initial_state, r, 'regular')\n",
    "evs_qc = two_qubit_estimator_solver(qc, 2, t, backend, optimization_level, options, 'regular')\n",
    "\n",
    "labels = ['E', '-', '+']\n",
    "\n",
    "colors = generate_complementary_colors(len(labels), 'pastel')\n",
    "\n",
    "counter = 0\n",
    "\n",
    "for l in labels:\n",
    "\n",
    "    plt.plot(t, evs_diagonal[l], linestyle = 'solid', color = colors[counter])\n",
    "    plt.plot(t, evs_qc[l], linestyle = 'dashed', color = colors[counter])\n",
    "    plt.plot(np.NaN, np.NaN, color = colors[counter], marker = 'o', linestyle = 'None', label = f'{l}')\n",
    "    counter = counter + 1\n",
    "\n",
    "plt.plot(np.NaN, np.NaN, color = 'black', linestyle = 'solid', label = 'QuTiP')\n",
    "plt.plot(np.NaN, np.NaN, color = 'black', linestyle = 'dashed', label = 'Regular circuit')\n",
    "\n",
    "plt.ylabel('population')\n",
    "plt.xlabel('time (arbitrary units)')\n",
    "plt.legend()\n",
    "plt.savefig('figures/first_circuit_test.png', bbox_inches='tight')\n",
    "plt.show()\n"
   ]
  },
  {
   "cell_type": "markdown",
   "metadata": {},
   "source": [
    "## References <a id='references'></a>"
   ]
  },
  {
   "cell_type": "markdown",
   "metadata": {},
   "source": [
    "\n",
    "[1] Juan-Delgado, A., et.al. (2024). Tailoring the statistics of light emitted from two interacting quantum emitters. Physical Review Research.\n",
    "\n",
    "[2] Daniel Manzano. A short introduction to the Lindblad master equation. AIP Advances 1 February 2020. 10 (2): 025106."
   ]
  },
  {
   "cell_type": "markdown",
   "metadata": {},
   "source": []
  }
 ],
 "metadata": {
  "kernelspec": {
   "display_name": "Python 3",
   "language": "python",
   "name": "python3"
  },
  "language_info": {
   "codemirror_mode": {
    "name": "ipython",
    "version": 3
   },
   "file_extension": ".py",
   "mimetype": "text/x-python",
   "name": "python",
   "nbconvert_exporter": "python",
   "pygments_lexer": "ipython3",
   "version": "3.12.3"
  }
 },
 "nbformat": 4,
 "nbformat_minor": 2
}
