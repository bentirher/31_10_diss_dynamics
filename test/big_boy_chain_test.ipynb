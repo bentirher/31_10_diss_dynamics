{
 "cells": [
  {
   "cell_type": "code",
   "execution_count": 20,
   "id": "8ea88380",
   "metadata": {},
   "outputs": [],
   "source": [
    "import sys\n",
    "sys.path.append(\"..\") # This is for the imports from adjacent folders to work\n",
    "\n",
    "import numpy as np\n",
    "import matplotlib.pyplot as plt\n",
    "plt.rcParams['text.usetex'] = True\n",
    "plt.rcParams['figure.dpi'] = 100\n",
    "plt.rcParams['savefig.dpi'] = 200\n",
    "\n",
    "from main_functions.DCv5_parallel_doubly_stretched import get_circuit as problem_circuit\n",
    "#from main_functions.DCv5_multiple_XY4 import get_circuit as problem_circuit\n",
    "from main_functions.gen_dynamic_circuit_v5 import get_circuit as test_circuit\n",
    "from main_functions.solve_diagonal_ME import solve_diag_ME\n",
    "from qiskit_aer import AerSimulator\n",
    "from qiskit import generate_preset_pass_manager\n",
    "from qiskit.circuit import IfElseOp\n",
    "from qiskit_ibm_runtime import Batch, SamplerV2\n",
    "from qiskit_aer.primitives import SamplerV2 as AerSampler\n",
    "from qiskit_ibm_runtime import QiskitRuntimeService\n",
    "\n",
    "import os\n",
    "import pickle\n",
    "import json\n",
    "import math\n",
    "import random\n",
    "from utils.isa_cdr import generate_isa_clifford_circuits, get_populations, train_model, correct_observable\n",
    "from utils.get_worst_case_trotter_schedule import get_worst_case_trotter_schedule\n",
    "from utils.generate_complementary_colors import generate_complementary_colors"
   ]
  },
  {
   "cell_type": "code",
   "execution_count": 2,
   "id": "76a52fdf",
   "metadata": {},
   "outputs": [],
   "source": [
    "QiskitRuntimeService.save_account( \n",
    " token=\"ryeQLJCCBlp2Y1CK7B0KvXRUvVDG7Xbkhu8H2L9MXUsU\", \n",
    " channel=\"ibm_cloud\",\n",
    " instance='crn:v1:bluemix:public:quantum-computing:us-east:a/5fef03c739244d07801bbb0cd3b5d388:4854b5b3-784b-48cc-8949-0fe8c86aa28b::', \n",
    " name=\"quantum_credits\",\n",
    " overwrite=True\n",
    " )\n",
    "\n",
    "service = QiskitRuntimeService(name=\"quantum_credits\")"
   ]
  },
  {
   "cell_type": "code",
   "execution_count": null,
   "id": "9ef12b42",
   "metadata": {},
   "outputs": [
    {
     "name": "stdout",
     "output_type": "stream",
     "text": [
      "['39', '48', '43', '28', '2', '12', '37', '8', '17', '14', '40', '26', '22', '46', '18', '38', '25', '23', '4', '49', '20', '7', '33', '13', '31', '32', '6', '21', '11', '34', '3', '45', '44', '0', '15']\n"
     ]
    }
   ],
   "source": [
    "num_emitters = 50\n",
    "omega_m = [1.2]*num_emitters\n",
    "omega_c = 1.1\n",
    "gamma = [0.8*10**(-6)]*num_emitters\n",
    "kappa = [0.2]\n",
    "g = [0.03]*(2*(num_emitters-1)) \n",
    "t = 200*(np.linspace(0, 1, 5)**1.5)\n",
    "\n",
    "#initial_state = [str(i) for i in random.sample(range(50), 35)]\n",
    "# print(initial_state)\n",
    "initial_state = ['39', '48', '43', '28', '2', '12', '37', '8', '17', '14', '40', '26', '22', '46', '18', '38', '25', '23', '4', '49', '20', '7', '33', '13', '31', '32', '6', '21', '11', '34', '3', '45', '44', '0', '15']\n",
    "\n",
    "samples = 10**2\n",
    "noisy_backend = service.backend(\"ibm_kingston\")\n",
    "optimization_level = 2\n",
    "shots = 4*(0.5*10**4)\n",
    "options = {\"default_shots\": shots}"
   ]
  },
  {
   "cell_type": "code",
   "execution_count": 4,
   "id": "43c8b428",
   "metadata": {},
   "outputs": [],
   "source": [
    "k = 1\n",
    "stored_cliff = []\n",
    "\n",
    "qc, init_layout = problem_circuit(num_emitters, omega_m, omega_c, g, gamma, kappa, initial_state, k, noisy_backend)\n",
    "pm = generate_preset_pass_manager(optimization_level, target=noisy_backend.target, initial_layout = init_layout, routing_method = 'none')\n",
    "isa_qc = pm.run(qc)\n",
    "pubs = [(isa_qc, x) for x in t]\n",
    "\n",
    "for x in t:\n",
    "    clifford_circuits = generate_isa_clifford_circuits(isa_qc, random_init = False, bias = 'inverse', bias_parameter = None, param_value = x, num_variants = samples)\n",
    "    stored_cliff.append(clifford_circuits)\n",
    "\n",
    "with open(f\"[CCs]50_emitters_{k}_trotter.pkl\", \"wb\") as f:\n",
    "    pickle.dump(stored_cliff, f)"
   ]
  },
  {
   "cell_type": "code",
   "execution_count": null,
   "id": "983ec5f3",
   "metadata": {},
   "outputs": [
    {
     "name": "stdout",
     "output_type": "stream",
     "text": [
      "Main job 3/4 submitted with id: d427ie18mjus73cclokg\n",
      "Main job 4/4 submitted with id: d427jisdgcpc73cutlrg\n"
     ]
    }
   ],
   "source": [
    "with open(f\"[CCs]50_emitters_{k}_trotter.pkl\", \"rb\") as f:\n",
    "    stored_cliff = pickle.load(f)\n",
    "\n",
    "batch = Batch(backend = noisy_backend, max_time = '1h 20m')\n",
    "sampler = SamplerV2(mode = batch, options = options)\n",
    "\n",
    "max_circuits = 1 \n",
    "\n",
    "main_job_ids = []\n",
    "cliff_job_ids = []\n",
    "for idx, instant in enumerate(t):\n",
    "    main_job = sampler.run([pubs[idx]])\n",
    "    main_job_ids.append(main_job.job_id())\n",
    "    print(f'Main job {idx}/{len(t) - 1} submitted with id: {main_job.job_id()}')\n",
    "\n",
    "    for i in range(0, samples, max_circuits):\n",
    "        if i + max_circuits <= samples:\n",
    "            cliff_job = sampler.run(stored_cliff[idx][i : i + max_circuits]) \n",
    "        else:\n",
    "            cliff_job = sampler.run(stored_cliff[idx][i : samples])\n",
    "        cliff_job_ids.append(cliff_job.job_id())\n",
    "    \n",
    "batch.close()\n",
    "\n",
    "# with open(f\"[MJIDs]50_emitters_{k}_trotter.json\", \"w\") as f:\n",
    "#     json.dump(main_job_ids, f)\n",
    "# with open(f\"[CJIDs]50_emitters_{k}_trotter.json\", \"w\") as f:\n",
    "#     json.dump(cliff_job_ids, f)"
   ]
  },
  {
   "cell_type": "code",
   "execution_count": 24,
   "id": "98075d02",
   "metadata": {},
   "outputs": [
    {
     "data": {
      "text/plain": [
       "['d41oo6cdgcpc73cueiq0',\n",
       " 'd41op5h8mjus73cc6q7g',\n",
       " 'd41oq4sdgcpc73cueld0',\n",
       " 'd427ie18mjus73cclokg',\n",
       " 'd427jisdgcpc73cutlrg']"
      ]
     },
     "execution_count": 24,
     "metadata": {},
     "output_type": "execute_result"
    }
   ],
   "source": [
    "with open(\"[MJIDs]50_emitters_1_trotter.json\", \"r\") as f:\n",
    "    main_job_ids = json.load(f)\n",
    "with open(\"[CJIDs]50_emitters_1_trotter.json\", \"r\") as f:\n",
    "    cliff_job_ids = json.load(f)\n",
    "\n",
    "main_job_ids"
   ]
  }
 ],
 "metadata": {
  "kernelspec": {
   "display_name": "Python 3",
   "language": "python",
   "name": "python3"
  },
  "language_info": {
   "codemirror_mode": {
    "name": "ipython",
    "version": 3
   },
   "file_extension": ".py",
   "mimetype": "text/x-python",
   "name": "python",
   "nbconvert_exporter": "python",
   "pygments_lexer": "ipython3",
   "version": "3.12.3"
  }
 },
 "nbformat": 4,
 "nbformat_minor": 5
}
